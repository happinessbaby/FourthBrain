{
 "cells": [
  {
   "cell_type": "code",
   "execution_count": 2,
   "metadata": {
    "dotnet_interactive": {
     "language": "csharp"
    },
    "polyglot_notebook": {
     "kernelName": "csharp"
    }
   },
   "outputs": [
    {
     "name": "stdout",
     "output_type": "stream",
     "text": [
      "1.5\n",
      "3.5,4,3\n",
      "1.5,2.5,1\n",
      "1.5,3,3\n",
      "3.5,2.5,2\n",
      "2.5,3,1.5\n",
      "1.5,2.5,1.5\n",
      "3,2,2\n",
      "3,2.5,2\n",
      "4,2.5,1.5\n",
      "1,2.5,5\n"
     ]
    }
   ],
   "source": [
    "using System.IO;\n",
    "using System.Collections.Generic;\n",
    "\n",
    "// First we generate our boxes using a Box Spawner class\n",
    "// for each box, a random postiion will be picked, this is the box's starting position\n",
    "public class Box {\n",
    "    public int id;\n",
    "    public float[] boxSize;\n",
    "    public float[] boxPosition;\n",
    "    public float[] bin20Size;\n",
    "    public float[] bin20Position;\n",
    "}\n",
    "\n",
    "\n",
    "public class BoxSpawner \n",
    "{\n",
    "    public static Dictionary<Array, Array> boxPool = new Dictionary<Array, Array>();\n",
    "\n",
    "    public static List<Box> BoxList = new List<Box>();\n",
    "\n",
    "    public static float[] bin20Dimension;\n",
    "\n",
    "\n",
    "    public static  List<List<float>> sizes = new List<List<float>>();\n",
    "    public static float[] position;\n",
    "\n",
    "    public void SetUpBoxes() \n",
    "        {\n",
    "\n",
    "        string path = \"./tmpFolder/box-generated-data.csv\";\n",
    "\n",
    "        bin20Dimension = new float[] {7.715833f, 7.824166f, 18.734166f};\n",
    "\n",
    "        //temporary box sizes array (to be fed from json later)\n",
    "            /* sizes = new float[][] \n",
    "            {\n",
    "                new float[] { 1.0f, 2.0f, 3.0f },\n",
    "                new float[] { 3.0f, 3.0f, 3.0f },\n",
    "                new float[] { 2.0f, 2.0f, 3.5f },\n",
    "                new float[] { 2.0f, 2.0f, 2.0f },\n",
    "                new float[] { 1.0f, 1.0f, 2.0f },\n",
    "                new float[] { 3.0f, 4.0f, 4.0f },\n",
    "                new float[] { 1.0f, 2.0f, 3.5f },\n",
    "                new float[] { 1.0f, 1.5f, 0.5f },\n",
    "                new float[] { 3.0f, 3.0f, 3.0f },\n",
    "                new float[] { 2.5f, 0.5f, 0.5f },\n",
    "                new float[] { 2.0f, 3.0f, 4.0f },\n",
    "                new float[] { 0.5f, 0.5f, 0.5f },\n",
    "                new float[] { 1.0f, 2.0f, 3.5f },\n",
    "                new float[] { 1.0f, 1.5f, 0.5f },\n",
    "                new float[] { 3.0f, 3.0f, 3.0f },\n",
    "                new float[] { 2.0f, 2.0f, 2.0f },\n",
    "                new float[] { 1.0f, 1.0f, 2.0f },\n",
    "                new float[] { 3.0f, 4.0f, 4.0f },\n",
    "                new float[] { 1.0f, 2.0f, 3.5f },\n",
    "                new float[] { 1.0f, 1.5f, 0.5f },\n",
    "                new float[] { 3.0f, 3.0f, 3.0f },\n",
    "                new float[] { 2.5f, 0.5f, 0.5f },\n",
    "                new float[] { 1.0f, 2.0f, 3.0f },\n",
    "                new float[] { 3.0f, 3.0f, 3.0f },\n",
    "                new float[] { 2.0f, 2.0f, 3.5f },\n",
    "            };\n",
    "\n",
    "        */\n",
    "        GenerateBoxes();\n",
    "\n",
    "        var id = 0;\n",
    "        using(var w = new StreamWriter(path))\n",
    "        {\n",
    "        \n",
    "            //for( int i = 0; i < 100; i++ )\n",
    "            foreach( var s in sizes )\n",
    "            { \n",
    "                Console.WriteLine(String.Join(\",\", s));\n",
    "                position = GetRandomSpawnPos();\n",
    "                var line = string.Format(\"{0},{1},{2},{3},{4},{5},{6},{7},{8},{9}\", id, s[0], s[1], s[2], position[0], position[1], position[2], bin20Dimension[0], bin20Dimension[1], bin20Dimension[2]);\n",
    "                id++;\n",
    "                w.WriteLine(line);\n",
    "                w.Flush();\n",
    "            }\n",
    "        }\n",
    "    }\n",
    "\n",
    "\n",
    "        /*foreach(var s in sizes) \n",
    "        {\n",
    "            position = GetRandomSpawnPos();\n",
    "\n",
    "            var newBox = new Box {\n",
    "                id = id,\n",
    "                boxSize = s,\n",
    "                boxPosition = position,\n",
    "                bin20Size = bin20Dimension,\n",
    "                bin20Position = new float[] {0, 0, 0}     \n",
    "            };\n",
    "\n",
    "            BoxList.Add(newBox);\n",
    "\n",
    "            // Add box to box pool\n",
    "            boxPool.Add(s, position);    \n",
    "    }\n",
    "    */\n",
    "\n",
    "    public float[] GetRandomSpawnPos()\n",
    "    {\n",
    "        var random = new Random();\n",
    "        var lowerBound = 0;\n",
    "        var upperBound = 100;\n",
    "        var x = random.Next(lowerBound, upperBound);\n",
    "        var y = random.Next(lowerBound, upperBound);\n",
    "        var z = random.Next(lowerBound, upperBound);\n",
    "        return new float[] {x, y, z};\n",
    "    } \n",
    "\n",
    "\n",
    "    public void GenerateBoxes()\n",
    "    {\n",
    "        // Generate box sizes\n",
    "        Random randomGenerator = new Random();\n",
    "        float GetRandomValue() {\n",
    "            double randProbability = randomGenerator.NextDouble();\n",
    "            // Console.WriteLine(randProbability);\n",
    "            // 60% chance a number [1, 1.5, 2, 2.5]\n",
    "            if (randProbability <= .6f)\n",
    "                return (randomGenerator.Next(2,6)) / 2f;\n",
    "            // 30% chance a number [3, 3.5, 4]\n",
    "            else if (randProbability <= .9f)\n",
    "                return (randomGenerator.Next(6, 9)) / 2f;\n",
    "            // 10% chance a number [4.5, 5]\n",
    "            return (randomGenerator.Next(9, 11)) / 2f;\n",
    "        } \n",
    "\n",
    "        float whatt = GetRandomValue();\n",
    "        Console.WriteLine(whatt);\n",
    "        List<float> singleSizes = new List<float>();\n",
    "        for( int i = 0; i < 10; i++){\n",
    "            singleSizes = new List<float>();\n",
    "            for( int k = 0; k < 3; k++) {\n",
    "                singleSizes.Add(GetRandomValue());\n",
    "            }\n",
    "                sizes.Add(singleSizes);\n",
    "        }\n",
    "\n",
    "    }\n",
    "\n",
    "}\n",
    "\n",
    "\n",
    "BoxSpawner boxSpawner = new BoxSpawner{};\n",
    "boxSpawner.SetUpBoxes();\n",
    "boxSpawner.GetRandomSpawnPos();\n",
    "\n"
   ]
  }
 ],
 "metadata": {
  "kernelspec": {
   "display_name": ".NET (C#)",
   "language": "C#",
   "name": ".net-csharp"
  },
  "polyglot_notebook": {
   "kernelInfo": {
    "defaultKernelName": "csharp",
    "items": [
     {
      "aliases": [
       "c#",
       "C#"
      ],
      "languageName": "C#",
      "name": "csharp"
     },
     {
      "aliases": [
       "frontend"
      ],
      "name": "vscode"
     },
     {
      "aliases": [],
      "name": ".NET"
     },
     {
      "aliases": [
       "f#",
       "F#"
      ],
      "languageName": "F#",
      "name": "fsharp"
     },
     {
      "aliases": [],
      "languageName": "HTML",
      "name": "html"
     },
     {
      "aliases": [
       "js"
      ],
      "languageName": "JavaScript",
      "name": "javascript"
     },
     {
      "aliases": [],
      "languageName": "KQL",
      "name": "kql"
     },
     {
      "aliases": [],
      "languageName": "Mermaid",
      "name": "mermaid"
     },
     {
      "aliases": [
       "powershell"
      ],
      "languageName": "PowerShell",
      "name": "pwsh"
     },
     {
      "aliases": [],
      "languageName": "SQL",
      "name": "sql"
     },
     {
      "aliases": [],
      "name": "value"
     },
     {
      "aliases": [],
      "name": "webview"
     }
    ]
   }
  }
 },
 "nbformat": 4,
 "nbformat_minor": 2
}
