{
  "cells": [
    {
      "cell_type": "markdown",
      "metadata": {
        "id": "2TPf8CY_Xumr"
      },
      "source": [
        "<p align = \"center\" draggable=”false” ><img src=\"https://user-images.githubusercontent.com/37101144/161836199-fdb0219d-0361-4988-bf26-48b0fad160a3.png\" \n",
        "     width=\"200px\"\n",
        "     height=\"auto\"/>\n",
        "</p>"
      ]
    },
    {
      "cell_type": "markdown",
      "metadata": {
        "id": "92kCWnfbXumv"
      },
      "source": [
        "# ⛽ Fuel efficiency Prediction"
      ]
    },
    {
      "cell_type": "markdown",
      "metadata": {
        "id": "AHp3M9ZmrIxj"
      },
      "source": [
        "Provided with the classic [Auto MPG](https://archive.ics.uci.edu/ml/datasets/auto+mpg) dataset, we will predict the **fuel efficiency** of the late-1970s and early 1980s automobiles, leveraging features such as cylinders, displacement, horsepower, weight, etc. \n",
        "\n",
        "It is a very small dataset and there are only a few features. We will first build a linear model and a neural network, evaluate their performances, track our experiment runs and inspect the logs using MLflow, and apply [TPOT](https://github.com/EpistasisLab/tpot) to see how it can be used to search over many ML model architectures, followed by explaining the model with SHAP."
      ]
    },
    {
      "cell_type": "markdown",
      "metadata": {
        "id": "PxVwvxwii96J"
      },
      "source": [
        "# 📚 Learning Objectives"
      ]
    },
    {
      "cell_type": "markdown",
      "metadata": {
        "id": "9YCC4uUnXumw"
      },
      "source": [
        "By the end of this session, you will be able to\n",
        "\n",
        "- understand the core building blocks of a neural network\n",
        "- understand what dense and activation layers do\n",
        "- build, train, and evaluate neural networks\n",
        "- track tensorflow experiments with MLflow, access information of runs programmatically and with its tracking ui\n",
        "- perform AutoML to search for optimal tree-based pipeline for a regression task "
      ]
    },
    {
      "cell_type": "markdown",
      "metadata": {
        "id": "P7PFU9Oza7-O"
      },
      "source": [
        "Note: [State of Data Science and Machine Learning 2021](https://www.kaggle.com/kaggle-survey-2021) by Kaggle shows that the most commonly used algorithms were linear and logtistic regressions, followed closely by decision trees, random forests, and gradient boosting machines (are you surprised?). Multilayer perceptron, or artificial neural networks are not yet the popular tools for tabular/structured data; see more technical reasons in papers: [Deep Neural Networks and Tabular Data: A Survey](https://arxiv.org/abs/2110.01889), [Tabular Data: Deep Learning is Not All You Need](https://arxiv.org/abs/2106.03253). For this assignment, the main purpose is for you to get familiar with the basic building blocks in constructing neural networks before we dive into more specialized neural network architectures.\n"
      ]
    },
    {
      "cell_type": "markdown",
      "metadata": {
        "id": "5n584Aq-tmV4"
      },
      "source": [
        "**IMPORTANT**\n",
        "\n",
        "You only need to run the following cells if you're completing the assignment in Google Collab. If you've already installed these libraries locally, you can skip installing these libraries."
      ]
    },
    {
      "cell_type": "code",
      "execution_count": null,
      "metadata": {
        "colab": {
          "base_uri": "https://localhost:8080/"
        },
        "id": "cjvDr0LBtmV4",
        "outputId": "ced4d18c-6421-4f00-9e1e-f7825e289c2e"
      },
      "outputs": [
        {
          "output_type": "stream",
          "name": "stdout",
          "text": [
            "Mounted at /content/drive\n"
          ]
        }
      ],
      "source": [
        "# Connect colab to your Google Drive\n",
        "from google.colab import drive\n",
        "drive.mount('/content/drive')"
      ]
    },
    {
      "cell_type": "code",
      "execution_count": null,
      "metadata": {
        "id": "moB4tpEHxKB3",
        "colab": {
          "base_uri": "https://localhost:8080/"
        },
        "outputId": "874a1bb0-5f01-48f5-dc5b-1f1092ff64a1"
      },
      "outputs": [
        {
          "output_type": "stream",
          "name": "stdout",
          "text": [
            "\u001b[2K     \u001b[90m━━━━━━━━━━━━━━━━━━━━━━━━━━━━━━━━━━━━━━━━\u001b[0m \u001b[32m87.2/87.2 KB\u001b[0m \u001b[31m4.9 MB/s\u001b[0m eta \u001b[36m0:00:00\u001b[0m\n",
            "\u001b[2K     \u001b[90m━━━━━━━━━━━━━━━━━━━━━━━━━━━━━━━━━━━━━━━\u001b[0m \u001b[32m193.6/193.6 MB\u001b[0m \u001b[31m6.5 MB/s\u001b[0m eta \u001b[36m0:00:00\u001b[0m\n",
            "\u001b[2K     \u001b[90m━━━━━━━━━━━━━━━━━━━━━━━━━━━━━━━━━━━━━━\u001b[0m \u001b[32m139.9/139.9 KB\u001b[0m \u001b[31m13.9 MB/s\u001b[0m eta \u001b[36m0:00:00\u001b[0m\n",
            "\u001b[?25h  Preparing metadata (setup.py) ... \u001b[?25l\u001b[?25hdone\n",
            "  Building wheel for stopit (setup.py) ... \u001b[?25l\u001b[?25hdone\n",
            "\u001b[2K     \u001b[90m━━━━━━━━━━━━━━━━━━━━━━━━━━━━━━━━━━━━━━━━\u001b[0m \u001b[32m16.7/16.7 MB\u001b[0m \u001b[31m70.9 MB/s\u001b[0m eta \u001b[36m0:00:00\u001b[0m\n",
            "\u001b[2K     \u001b[90m━━━━━━━━━━━━━━━━━━━━━━━━━━━━━━━━━━━━━━━━\u001b[0m \u001b[32m42.6/42.6 KB\u001b[0m \u001b[31m5.1 MB/s\u001b[0m eta \u001b[36m0:00:00\u001b[0m\n",
            "\u001b[2K     \u001b[90m━━━━━━━━━━━━━━━━━━━━━━━━━━━━━━━━━━━━━━━━\u001b[0m \u001b[32m79.5/79.5 KB\u001b[0m \u001b[31m9.9 MB/s\u001b[0m eta \u001b[36m0:00:00\u001b[0m\n",
            "\u001b[2K     \u001b[90m━━━━━━━━━━━━━━━━━━━━━━━━━━━━━━━━━━━━━━\u001b[0m \u001b[32m575.9/575.9 KB\u001b[0m \u001b[31m44.8 MB/s\u001b[0m eta \u001b[36m0:00:00\u001b[0m\n",
            "\u001b[2K     \u001b[90m━━━━━━━━━━━━━━━━━━━━━━━━━━━━━━━━━━━━━━\u001b[0m \u001b[32m210.6/210.6 KB\u001b[0m \u001b[31m21.9 MB/s\u001b[0m eta \u001b[36m0:00:00\u001b[0m\n",
            "\u001b[2K     \u001b[90m━━━━━━━━━━━━━━━━━━━━━━━━━━━━━━━━━━━━━━━━\u001b[0m \u001b[32m82.3/82.3 KB\u001b[0m \u001b[31m9.7 MB/s\u001b[0m eta \u001b[36m0:00:00\u001b[0m\n",
            "\u001b[?25h  Preparing metadata (setup.py) ... \u001b[?25l\u001b[?25hdone\n",
            "\u001b[2K     \u001b[90m━━━━━━━━━━━━━━━━━━━━━━━━━━━━━━━━━━━━━━\u001b[0m \u001b[32m147.5/147.5 KB\u001b[0m \u001b[31m15.0 MB/s\u001b[0m eta \u001b[36m0:00:00\u001b[0m\n",
            "\u001b[2K     \u001b[90m━━━━━━━━━━━━━━━━━━━━━━━━━━━━━━━━━━━━━━━━\u001b[0m \u001b[32m1.6/1.6 MB\u001b[0m \u001b[31m11.3 MB/s\u001b[0m eta \u001b[36m0:00:00\u001b[0m\n",
            "\u001b[2K     \u001b[90m━━━━━━━━━━━━━━━━━━━━━━━━━━━━━━━━━━━━━━\u001b[0m \u001b[32m184.0/184.0 KB\u001b[0m \u001b[31m21.1 MB/s\u001b[0m eta \u001b[36m0:00:00\u001b[0m\n",
            "\u001b[2K     \u001b[90m━━━━━━━━━━━━━━━━━━━━━━━━━━━━━━━━━━━━━━━━\u001b[0m \u001b[32m78.7/78.7 KB\u001b[0m \u001b[31m9.1 MB/s\u001b[0m eta \u001b[36m0:00:00\u001b[0m\n",
            "\u001b[2K     \u001b[90m━━━━━━━━━━━━━━━━━━━━━━━━━━━━━━━━━━━━━━━━\u001b[0m \u001b[32m62.8/62.8 KB\u001b[0m \u001b[31m7.1 MB/s\u001b[0m eta \u001b[36m0:00:00\u001b[0m\n",
            "\u001b[2K     \u001b[90m━━━━━━━━━━━━━━━━━━━━━━━━━━━━━━━━━━━━━━━━\u001b[0m \u001b[32m55.9/55.9 KB\u001b[0m \u001b[31m6.3 MB/s\u001b[0m eta \u001b[36m0:00:00\u001b[0m\n",
            "\u001b[2K     \u001b[90m━━━━━━━━━━━━━━━━━━━━━━━━━━━━━━━━━━━━━━\u001b[0m \u001b[32m140.6/140.6 KB\u001b[0m \u001b[31m15.5 MB/s\u001b[0m eta \u001b[36m0:00:00\u001b[0m\n",
            "\u001b[2K     \u001b[90m━━━━━━━━━━━━━━━━━━━━━━━━━━━━━━━━━━━━━━━━\u001b[0m \u001b[32m62.7/62.7 KB\u001b[0m \u001b[31m6.7 MB/s\u001b[0m eta \u001b[36m0:00:00\u001b[0m\n",
            "\u001b[?25h  Building wheel for databricks-cli (setup.py) ... \u001b[?25l\u001b[?25hdone\n",
            "\u001b[2K     \u001b[90m━━━━━━━━━━━━━━━━━━━━━━━━━━━━━━━━━━━━━━\u001b[0m \u001b[32m761.3/761.3 KB\u001b[0m \u001b[31m19.4 MB/s\u001b[0m eta \u001b[36m0:00:00\u001b[0m\n",
            "\u001b[?25h  Preparing metadata (setup.py) ... \u001b[?25l\u001b[?25hdone\n",
            "  Building wheel for pyngrok (setup.py) ... \u001b[?25l\u001b[?25hdone\n"
          ]
        }
      ],
      "source": [
        "!pip install -q seaborn # pairplot\n",
        "!pip install -q tpot  # automl\n",
        "\n",
        "!pip install -q mlflow # tracking\n",
        "!pip install -q pyngrok # workaround to run mlflow ui in colab\n",
        "!pip install -q shap"
      ]
    },
    {
      "cell_type": "code",
      "execution_count": null,
      "metadata": {
        "id": "1rRo8oNqZ-Rj"
      },
      "outputs": [],
      "source": [
        "import numpy as np\n",
        "import pandas as pd\n",
        "import matplotlib.pyplot as plt\n",
        "import seaborn as sns\n",
        "\n",
        "# Make NumPy printouts easier to read.\n",
        "np.set_printoptions(precision=3, suppress=True)"
      ]
    },
    {
      "cell_type": "code",
      "execution_count": null,
      "metadata": {
        "colab": {
          "base_uri": "https://localhost:8080/"
        },
        "id": "9xQKvCJ85kCQ",
        "outputId": "72b8bb6d-10fc-4e00-d761-4d9116e742a2"
      },
      "outputs": [
        {
          "output_type": "stream",
          "name": "stdout",
          "text": [
            "2.9.2\n"
          ]
        }
      ],
      "source": [
        "import tensorflow as tf\n",
        "from tensorflow.keras import layers\n",
        "\n",
        "print(tf.__version__)"
      ]
    },
    {
      "cell_type": "markdown",
      "metadata": {
        "id": "EIdT9iu_Z4Rb"
      },
      "source": [
        "# Task 1 - Data: Auto MPG dataset"
      ]
    },
    {
      "cell_type": "markdown",
      "metadata": {
        "id": "HvK47Su6t0I8"
      },
      "source": [
        "0. Start MLflow's automatic logging using library-specific autolog calls for tensorflow: logging metrics, parameters, and models without the need for explicit log statements. \n",
        "    \n",
        "    We will get into more details using **MLflow** after completing our experiment."
      ]
    },
    {
      "cell_type": "code",
      "execution_count": null,
      "metadata": {
        "id": "6PGEnlTVlFDK"
      },
      "outputs": [],
      "source": [
        "import mlflow\n",
        "mlflow.tensorflow.autolog() # MLflow Autologging"
      ]
    },
    {
      "cell_type": "markdown",
      "metadata": {
        "id": "F_72b0LCNbjx"
      },
      "source": [
        "1. The dataset is available from the [UCI Machine Learning Repository](https://archive.ics.uci.edu/ml/). First download and import the dataset using `pandas`:\n"
      ]
    },
    {
      "cell_type": "code",
      "execution_count": null,
      "metadata": {
        "id": "CiX2FI4gZtTt"
      },
      "outputs": [],
      "source": [
        "url = 'http://archive.ics.uci.edu/ml/machine-learning-databases/auto-mpg/auto-mpg.data'\n",
        "column_names = [\n",
        "  'MPG', 'Cylinders', 'Displacement', 'Horsepower', 'Weight',\n",
        "  'Acceleration', 'Model Year', 'Origin'\n",
        "  ]\n",
        "\n",
        "dataset = pd.read_csv(url, names=column_names, na_values='?', \n",
        "                      comment='\\t', sep=' ', skipinitialspace=True)"
      ]
    },
    {
      "cell_type": "code",
      "execution_count": null,
      "metadata": {
        "colab": {
          "base_uri": "https://localhost:8080/",
          "height": 677
        },
        "id": "2oY3pMPagJrO",
        "outputId": "6429bb0d-ad07-4825-944f-acc29bf506fb"
      },
      "outputs": [
        {
          "output_type": "execute_result",
          "data": {
            "text/plain": [
              "     MPG  Cylinders  Displacement  Horsepower  Weight  Acceleration  \\\n",
              "0   18.0          8         307.0       130.0  3504.0          12.0   \n",
              "1   15.0          8         350.0       165.0  3693.0          11.5   \n",
              "2   18.0          8         318.0       150.0  3436.0          11.0   \n",
              "3   16.0          8         304.0       150.0  3433.0          12.0   \n",
              "4   17.0          8         302.0       140.0  3449.0          10.5   \n",
              "5   15.0          8         429.0       198.0  4341.0          10.0   \n",
              "6   14.0          8         454.0       220.0  4354.0           9.0   \n",
              "7   14.0          8         440.0       215.0  4312.0           8.5   \n",
              "8   14.0          8         455.0       225.0  4425.0          10.0   \n",
              "9   15.0          8         390.0       190.0  3850.0           8.5   \n",
              "10  15.0          8         383.0       170.0  3563.0          10.0   \n",
              "11  14.0          8         340.0       160.0  3609.0           8.0   \n",
              "12  15.0          8         400.0       150.0  3761.0           9.5   \n",
              "13  14.0          8         455.0       225.0  3086.0          10.0   \n",
              "14  24.0          4         113.0        95.0  2372.0          15.0   \n",
              "15  22.0          6         198.0        95.0  2833.0          15.5   \n",
              "16  18.0          6         199.0        97.0  2774.0          15.5   \n",
              "17  21.0          6         200.0        85.0  2587.0          16.0   \n",
              "18  27.0          4          97.0        88.0  2130.0          14.5   \n",
              "19  26.0          4          97.0        46.0  1835.0          20.5   \n",
              "\n",
              "    Model Year  Origin  \n",
              "0           70       1  \n",
              "1           70       1  \n",
              "2           70       1  \n",
              "3           70       1  \n",
              "4           70       1  \n",
              "5           70       1  \n",
              "6           70       1  \n",
              "7           70       1  \n",
              "8           70       1  \n",
              "9           70       1  \n",
              "10          70       1  \n",
              "11          70       1  \n",
              "12          70       1  \n",
              "13          70       1  \n",
              "14          70       3  \n",
              "15          70       1  \n",
              "16          70       1  \n",
              "17          70       1  \n",
              "18          70       3  \n",
              "19          70       2  "
            ],
            "text/html": [
              "\n",
              "  <div id=\"df-0b0eba26-c21c-4857-9c91-48cefaa74dc1\">\n",
              "    <div class=\"colab-df-container\">\n",
              "      <div>\n",
              "<style scoped>\n",
              "    .dataframe tbody tr th:only-of-type {\n",
              "        vertical-align: middle;\n",
              "    }\n",
              "\n",
              "    .dataframe tbody tr th {\n",
              "        vertical-align: top;\n",
              "    }\n",
              "\n",
              "    .dataframe thead th {\n",
              "        text-align: right;\n",
              "    }\n",
              "</style>\n",
              "<table border=\"1\" class=\"dataframe\">\n",
              "  <thead>\n",
              "    <tr style=\"text-align: right;\">\n",
              "      <th></th>\n",
              "      <th>MPG</th>\n",
              "      <th>Cylinders</th>\n",
              "      <th>Displacement</th>\n",
              "      <th>Horsepower</th>\n",
              "      <th>Weight</th>\n",
              "      <th>Acceleration</th>\n",
              "      <th>Model Year</th>\n",
              "      <th>Origin</th>\n",
              "    </tr>\n",
              "  </thead>\n",
              "  <tbody>\n",
              "    <tr>\n",
              "      <th>0</th>\n",
              "      <td>18.0</td>\n",
              "      <td>8</td>\n",
              "      <td>307.0</td>\n",
              "      <td>130.0</td>\n",
              "      <td>3504.0</td>\n",
              "      <td>12.0</td>\n",
              "      <td>70</td>\n",
              "      <td>1</td>\n",
              "    </tr>\n",
              "    <tr>\n",
              "      <th>1</th>\n",
              "      <td>15.0</td>\n",
              "      <td>8</td>\n",
              "      <td>350.0</td>\n",
              "      <td>165.0</td>\n",
              "      <td>3693.0</td>\n",
              "      <td>11.5</td>\n",
              "      <td>70</td>\n",
              "      <td>1</td>\n",
              "    </tr>\n",
              "    <tr>\n",
              "      <th>2</th>\n",
              "      <td>18.0</td>\n",
              "      <td>8</td>\n",
              "      <td>318.0</td>\n",
              "      <td>150.0</td>\n",
              "      <td>3436.0</td>\n",
              "      <td>11.0</td>\n",
              "      <td>70</td>\n",
              "      <td>1</td>\n",
              "    </tr>\n",
              "    <tr>\n",
              "      <th>3</th>\n",
              "      <td>16.0</td>\n",
              "      <td>8</td>\n",
              "      <td>304.0</td>\n",
              "      <td>150.0</td>\n",
              "      <td>3433.0</td>\n",
              "      <td>12.0</td>\n",
              "      <td>70</td>\n",
              "      <td>1</td>\n",
              "    </tr>\n",
              "    <tr>\n",
              "      <th>4</th>\n",
              "      <td>17.0</td>\n",
              "      <td>8</td>\n",
              "      <td>302.0</td>\n",
              "      <td>140.0</td>\n",
              "      <td>3449.0</td>\n",
              "      <td>10.5</td>\n",
              "      <td>70</td>\n",
              "      <td>1</td>\n",
              "    </tr>\n",
              "    <tr>\n",
              "      <th>5</th>\n",
              "      <td>15.0</td>\n",
              "      <td>8</td>\n",
              "      <td>429.0</td>\n",
              "      <td>198.0</td>\n",
              "      <td>4341.0</td>\n",
              "      <td>10.0</td>\n",
              "      <td>70</td>\n",
              "      <td>1</td>\n",
              "    </tr>\n",
              "    <tr>\n",
              "      <th>6</th>\n",
              "      <td>14.0</td>\n",
              "      <td>8</td>\n",
              "      <td>454.0</td>\n",
              "      <td>220.0</td>\n",
              "      <td>4354.0</td>\n",
              "      <td>9.0</td>\n",
              "      <td>70</td>\n",
              "      <td>1</td>\n",
              "    </tr>\n",
              "    <tr>\n",
              "      <th>7</th>\n",
              "      <td>14.0</td>\n",
              "      <td>8</td>\n",
              "      <td>440.0</td>\n",
              "      <td>215.0</td>\n",
              "      <td>4312.0</td>\n",
              "      <td>8.5</td>\n",
              "      <td>70</td>\n",
              "      <td>1</td>\n",
              "    </tr>\n",
              "    <tr>\n",
              "      <th>8</th>\n",
              "      <td>14.0</td>\n",
              "      <td>8</td>\n",
              "      <td>455.0</td>\n",
              "      <td>225.0</td>\n",
              "      <td>4425.0</td>\n",
              "      <td>10.0</td>\n",
              "      <td>70</td>\n",
              "      <td>1</td>\n",
              "    </tr>\n",
              "    <tr>\n",
              "      <th>9</th>\n",
              "      <td>15.0</td>\n",
              "      <td>8</td>\n",
              "      <td>390.0</td>\n",
              "      <td>190.0</td>\n",
              "      <td>3850.0</td>\n",
              "      <td>8.5</td>\n",
              "      <td>70</td>\n",
              "      <td>1</td>\n",
              "    </tr>\n",
              "    <tr>\n",
              "      <th>10</th>\n",
              "      <td>15.0</td>\n",
              "      <td>8</td>\n",
              "      <td>383.0</td>\n",
              "      <td>170.0</td>\n",
              "      <td>3563.0</td>\n",
              "      <td>10.0</td>\n",
              "      <td>70</td>\n",
              "      <td>1</td>\n",
              "    </tr>\n",
              "    <tr>\n",
              "      <th>11</th>\n",
              "      <td>14.0</td>\n",
              "      <td>8</td>\n",
              "      <td>340.0</td>\n",
              "      <td>160.0</td>\n",
              "      <td>3609.0</td>\n",
              "      <td>8.0</td>\n",
              "      <td>70</td>\n",
              "      <td>1</td>\n",
              "    </tr>\n",
              "    <tr>\n",
              "      <th>12</th>\n",
              "      <td>15.0</td>\n",
              "      <td>8</td>\n",
              "      <td>400.0</td>\n",
              "      <td>150.0</td>\n",
              "      <td>3761.0</td>\n",
              "      <td>9.5</td>\n",
              "      <td>70</td>\n",
              "      <td>1</td>\n",
              "    </tr>\n",
              "    <tr>\n",
              "      <th>13</th>\n",
              "      <td>14.0</td>\n",
              "      <td>8</td>\n",
              "      <td>455.0</td>\n",
              "      <td>225.0</td>\n",
              "      <td>3086.0</td>\n",
              "      <td>10.0</td>\n",
              "      <td>70</td>\n",
              "      <td>1</td>\n",
              "    </tr>\n",
              "    <tr>\n",
              "      <th>14</th>\n",
              "      <td>24.0</td>\n",
              "      <td>4</td>\n",
              "      <td>113.0</td>\n",
              "      <td>95.0</td>\n",
              "      <td>2372.0</td>\n",
              "      <td>15.0</td>\n",
              "      <td>70</td>\n",
              "      <td>3</td>\n",
              "    </tr>\n",
              "    <tr>\n",
              "      <th>15</th>\n",
              "      <td>22.0</td>\n",
              "      <td>6</td>\n",
              "      <td>198.0</td>\n",
              "      <td>95.0</td>\n",
              "      <td>2833.0</td>\n",
              "      <td>15.5</td>\n",
              "      <td>70</td>\n",
              "      <td>1</td>\n",
              "    </tr>\n",
              "    <tr>\n",
              "      <th>16</th>\n",
              "      <td>18.0</td>\n",
              "      <td>6</td>\n",
              "      <td>199.0</td>\n",
              "      <td>97.0</td>\n",
              "      <td>2774.0</td>\n",
              "      <td>15.5</td>\n",
              "      <td>70</td>\n",
              "      <td>1</td>\n",
              "    </tr>\n",
              "    <tr>\n",
              "      <th>17</th>\n",
              "      <td>21.0</td>\n",
              "      <td>6</td>\n",
              "      <td>200.0</td>\n",
              "      <td>85.0</td>\n",
              "      <td>2587.0</td>\n",
              "      <td>16.0</td>\n",
              "      <td>70</td>\n",
              "      <td>1</td>\n",
              "    </tr>\n",
              "    <tr>\n",
              "      <th>18</th>\n",
              "      <td>27.0</td>\n",
              "      <td>4</td>\n",
              "      <td>97.0</td>\n",
              "      <td>88.0</td>\n",
              "      <td>2130.0</td>\n",
              "      <td>14.5</td>\n",
              "      <td>70</td>\n",
              "      <td>3</td>\n",
              "    </tr>\n",
              "    <tr>\n",
              "      <th>19</th>\n",
              "      <td>26.0</td>\n",
              "      <td>4</td>\n",
              "      <td>97.0</td>\n",
              "      <td>46.0</td>\n",
              "      <td>1835.0</td>\n",
              "      <td>20.5</td>\n",
              "      <td>70</td>\n",
              "      <td>2</td>\n",
              "    </tr>\n",
              "  </tbody>\n",
              "</table>\n",
              "</div>\n",
              "      <button class=\"colab-df-convert\" onclick=\"convertToInteractive('df-0b0eba26-c21c-4857-9c91-48cefaa74dc1')\"\n",
              "              title=\"Convert this dataframe to an interactive table.\"\n",
              "              style=\"display:none;\">\n",
              "        \n",
              "  <svg xmlns=\"http://www.w3.org/2000/svg\" height=\"24px\"viewBox=\"0 0 24 24\"\n",
              "       width=\"24px\">\n",
              "    <path d=\"M0 0h24v24H0V0z\" fill=\"none\"/>\n",
              "    <path d=\"M18.56 5.44l.94 2.06.94-2.06 2.06-.94-2.06-.94-.94-2.06-.94 2.06-2.06.94zm-11 1L8.5 8.5l.94-2.06 2.06-.94-2.06-.94L8.5 2.5l-.94 2.06-2.06.94zm10 10l.94 2.06.94-2.06 2.06-.94-2.06-.94-.94-2.06-.94 2.06-2.06.94z\"/><path d=\"M17.41 7.96l-1.37-1.37c-.4-.4-.92-.59-1.43-.59-.52 0-1.04.2-1.43.59L10.3 9.45l-7.72 7.72c-.78.78-.78 2.05 0 2.83L4 21.41c.39.39.9.59 1.41.59.51 0 1.02-.2 1.41-.59l7.78-7.78 2.81-2.81c.8-.78.8-2.07 0-2.86zM5.41 20L4 18.59l7.72-7.72 1.47 1.35L5.41 20z\"/>\n",
              "  </svg>\n",
              "      </button>\n",
              "      \n",
              "  <style>\n",
              "    .colab-df-container {\n",
              "      display:flex;\n",
              "      flex-wrap:wrap;\n",
              "      gap: 12px;\n",
              "    }\n",
              "\n",
              "    .colab-df-convert {\n",
              "      background-color: #E8F0FE;\n",
              "      border: none;\n",
              "      border-radius: 50%;\n",
              "      cursor: pointer;\n",
              "      display: none;\n",
              "      fill: #1967D2;\n",
              "      height: 32px;\n",
              "      padding: 0 0 0 0;\n",
              "      width: 32px;\n",
              "    }\n",
              "\n",
              "    .colab-df-convert:hover {\n",
              "      background-color: #E2EBFA;\n",
              "      box-shadow: 0px 1px 2px rgba(60, 64, 67, 0.3), 0px 1px 3px 1px rgba(60, 64, 67, 0.15);\n",
              "      fill: #174EA6;\n",
              "    }\n",
              "\n",
              "    [theme=dark] .colab-df-convert {\n",
              "      background-color: #3B4455;\n",
              "      fill: #D2E3FC;\n",
              "    }\n",
              "\n",
              "    [theme=dark] .colab-df-convert:hover {\n",
              "      background-color: #434B5C;\n",
              "      box-shadow: 0px 1px 3px 1px rgba(0, 0, 0, 0.15);\n",
              "      filter: drop-shadow(0px 1px 2px rgba(0, 0, 0, 0.3));\n",
              "      fill: #FFFFFF;\n",
              "    }\n",
              "  </style>\n",
              "\n",
              "      <script>\n",
              "        const buttonEl =\n",
              "          document.querySelector('#df-0b0eba26-c21c-4857-9c91-48cefaa74dc1 button.colab-df-convert');\n",
              "        buttonEl.style.display =\n",
              "          google.colab.kernel.accessAllowed ? 'block' : 'none';\n",
              "\n",
              "        async function convertToInteractive(key) {\n",
              "          const element = document.querySelector('#df-0b0eba26-c21c-4857-9c91-48cefaa74dc1');\n",
              "          const dataTable =\n",
              "            await google.colab.kernel.invokeFunction('convertToInteractive',\n",
              "                                                     [key], {});\n",
              "          if (!dataTable) return;\n",
              "\n",
              "          const docLinkHtml = 'Like what you see? Visit the ' +\n",
              "            '<a target=\"_blank\" href=https://colab.research.google.com/notebooks/data_table.ipynb>data table notebook</a>'\n",
              "            + ' to learn more about interactive tables.';\n",
              "          element.innerHTML = '';\n",
              "          dataTable['output_type'] = 'display_data';\n",
              "          await google.colab.output.renderOutput(dataTable, element);\n",
              "          const docLink = document.createElement('div');\n",
              "          docLink.innerHTML = docLinkHtml;\n",
              "          element.appendChild(docLink);\n",
              "        }\n",
              "      </script>\n",
              "    </div>\n",
              "  </div>\n",
              "  "
            ]
          },
          "metadata": {},
          "execution_count": 7
        }
      ],
      "source": [
        "dataset.head(20)"
      ]
    },
    {
      "cell_type": "markdown",
      "metadata": {
        "id": "3MWuJTKEDM-f"
      },
      "source": [
        "2. The dataset contains a few unknown values, we drop those rows to keep this initial tutorial simple. Use `pd.DataFrame.dropna()`:"
      ]
    },
    {
      "cell_type": "code",
      "execution_count": null,
      "metadata": {
        "id": "4ZUDosChC1UN"
      },
      "outputs": [],
      "source": [
        "dataset = dataset.dropna()"
      ]
    },
    {
      "cell_type": "markdown",
      "metadata": {
        "id": "8XKitwaH4v8h"
      },
      "source": [
        "3. The `\"Origin\"` column is categorical, not numeric. So the next step is to one-hot encode the values in the column with [pd.get_dummies](https://pandas.pydata.org/docs/reference/api/pandas.get_dummies.html)."
      ]
    },
    {
      "cell_type": "code",
      "execution_count": null,
      "metadata": {
        "id": "gWNTD2QjBWFJ",
        "colab": {
          "base_uri": "https://localhost:8080/"
        },
        "outputId": "209ec2c8-e402-40c8-ae11-db6c4926e21e"
      },
      "outputs": [
        {
          "output_type": "stream",
          "name": "stderr",
          "text": [
            "<ipython-input-9-5c26c4470533>:1: SettingWithCopyWarning: \n",
            "A value is trying to be set on a copy of a slice from a DataFrame.\n",
            "Try using .loc[row_indexer,col_indexer] = value instead\n",
            "\n",
            "See the caveats in the documentation: https://pandas.pydata.org/pandas-docs/stable/user_guide/indexing.html#returning-a-view-versus-a-copy\n",
            "  dataset['Origin'] = dataset['Origin'].replace({1: 'USA', 2: 'Europe', 3: 'Japan'})\n"
          ]
        }
      ],
      "source": [
        "dataset['Origin'] = dataset['Origin'].replace({1: 'USA', 2: 'Europe', 3: 'Japan'})"
      ]
    },
    {
      "cell_type": "code",
      "execution_count": null,
      "metadata": {
        "colab": {
          "base_uri": "https://localhost:8080/",
          "height": 206
        },
        "id": "ulXz4J7PAUzk",
        "outputId": "d81fe775-6c3a-43da-9223-69028b3307a1"
      },
      "outputs": [
        {
          "output_type": "execute_result",
          "data": {
            "text/plain": [
              "      MPG  Cylinders  Displacement  Horsepower  Weight  Acceleration  \\\n",
              "393  27.0          4         140.0        86.0  2790.0          15.6   \n",
              "394  44.0          4          97.0        52.0  2130.0          24.6   \n",
              "395  32.0          4         135.0        84.0  2295.0          11.6   \n",
              "396  28.0          4         120.0        79.0  2625.0          18.6   \n",
              "397  31.0          4         119.0        82.0  2720.0          19.4   \n",
              "\n",
              "     Model Year  Europe  Japan  USA  \n",
              "393          82       0      0    1  \n",
              "394          82       1      0    0  \n",
              "395          82       0      0    1  \n",
              "396          82       0      0    1  \n",
              "397          82       0      0    1  "
            ],
            "text/html": [
              "\n",
              "  <div id=\"df-d750ee05-eea5-4c46-b084-ffebcdb7021a\">\n",
              "    <div class=\"colab-df-container\">\n",
              "      <div>\n",
              "<style scoped>\n",
              "    .dataframe tbody tr th:only-of-type {\n",
              "        vertical-align: middle;\n",
              "    }\n",
              "\n",
              "    .dataframe tbody tr th {\n",
              "        vertical-align: top;\n",
              "    }\n",
              "\n",
              "    .dataframe thead th {\n",
              "        text-align: right;\n",
              "    }\n",
              "</style>\n",
              "<table border=\"1\" class=\"dataframe\">\n",
              "  <thead>\n",
              "    <tr style=\"text-align: right;\">\n",
              "      <th></th>\n",
              "      <th>MPG</th>\n",
              "      <th>Cylinders</th>\n",
              "      <th>Displacement</th>\n",
              "      <th>Horsepower</th>\n",
              "      <th>Weight</th>\n",
              "      <th>Acceleration</th>\n",
              "      <th>Model Year</th>\n",
              "      <th>Europe</th>\n",
              "      <th>Japan</th>\n",
              "      <th>USA</th>\n",
              "    </tr>\n",
              "  </thead>\n",
              "  <tbody>\n",
              "    <tr>\n",
              "      <th>393</th>\n",
              "      <td>27.0</td>\n",
              "      <td>4</td>\n",
              "      <td>140.0</td>\n",
              "      <td>86.0</td>\n",
              "      <td>2790.0</td>\n",
              "      <td>15.6</td>\n",
              "      <td>82</td>\n",
              "      <td>0</td>\n",
              "      <td>0</td>\n",
              "      <td>1</td>\n",
              "    </tr>\n",
              "    <tr>\n",
              "      <th>394</th>\n",
              "      <td>44.0</td>\n",
              "      <td>4</td>\n",
              "      <td>97.0</td>\n",
              "      <td>52.0</td>\n",
              "      <td>2130.0</td>\n",
              "      <td>24.6</td>\n",
              "      <td>82</td>\n",
              "      <td>1</td>\n",
              "      <td>0</td>\n",
              "      <td>0</td>\n",
              "    </tr>\n",
              "    <tr>\n",
              "      <th>395</th>\n",
              "      <td>32.0</td>\n",
              "      <td>4</td>\n",
              "      <td>135.0</td>\n",
              "      <td>84.0</td>\n",
              "      <td>2295.0</td>\n",
              "      <td>11.6</td>\n",
              "      <td>82</td>\n",
              "      <td>0</td>\n",
              "      <td>0</td>\n",
              "      <td>1</td>\n",
              "    </tr>\n",
              "    <tr>\n",
              "      <th>396</th>\n",
              "      <td>28.0</td>\n",
              "      <td>4</td>\n",
              "      <td>120.0</td>\n",
              "      <td>79.0</td>\n",
              "      <td>2625.0</td>\n",
              "      <td>18.6</td>\n",
              "      <td>82</td>\n",
              "      <td>0</td>\n",
              "      <td>0</td>\n",
              "      <td>1</td>\n",
              "    </tr>\n",
              "    <tr>\n",
              "      <th>397</th>\n",
              "      <td>31.0</td>\n",
              "      <td>4</td>\n",
              "      <td>119.0</td>\n",
              "      <td>82.0</td>\n",
              "      <td>2720.0</td>\n",
              "      <td>19.4</td>\n",
              "      <td>82</td>\n",
              "      <td>0</td>\n",
              "      <td>0</td>\n",
              "      <td>1</td>\n",
              "    </tr>\n",
              "  </tbody>\n",
              "</table>\n",
              "</div>\n",
              "      <button class=\"colab-df-convert\" onclick=\"convertToInteractive('df-d750ee05-eea5-4c46-b084-ffebcdb7021a')\"\n",
              "              title=\"Convert this dataframe to an interactive table.\"\n",
              "              style=\"display:none;\">\n",
              "        \n",
              "  <svg xmlns=\"http://www.w3.org/2000/svg\" height=\"24px\"viewBox=\"0 0 24 24\"\n",
              "       width=\"24px\">\n",
              "    <path d=\"M0 0h24v24H0V0z\" fill=\"none\"/>\n",
              "    <path d=\"M18.56 5.44l.94 2.06.94-2.06 2.06-.94-2.06-.94-.94-2.06-.94 2.06-2.06.94zm-11 1L8.5 8.5l.94-2.06 2.06-.94-2.06-.94L8.5 2.5l-.94 2.06-2.06.94zm10 10l.94 2.06.94-2.06 2.06-.94-2.06-.94-.94-2.06-.94 2.06-2.06.94z\"/><path d=\"M17.41 7.96l-1.37-1.37c-.4-.4-.92-.59-1.43-.59-.52 0-1.04.2-1.43.59L10.3 9.45l-7.72 7.72c-.78.78-.78 2.05 0 2.83L4 21.41c.39.39.9.59 1.41.59.51 0 1.02-.2 1.41-.59l7.78-7.78 2.81-2.81c.8-.78.8-2.07 0-2.86zM5.41 20L4 18.59l7.72-7.72 1.47 1.35L5.41 20z\"/>\n",
              "  </svg>\n",
              "      </button>\n",
              "      \n",
              "  <style>\n",
              "    .colab-df-container {\n",
              "      display:flex;\n",
              "      flex-wrap:wrap;\n",
              "      gap: 12px;\n",
              "    }\n",
              "\n",
              "    .colab-df-convert {\n",
              "      background-color: #E8F0FE;\n",
              "      border: none;\n",
              "      border-radius: 50%;\n",
              "      cursor: pointer;\n",
              "      display: none;\n",
              "      fill: #1967D2;\n",
              "      height: 32px;\n",
              "      padding: 0 0 0 0;\n",
              "      width: 32px;\n",
              "    }\n",
              "\n",
              "    .colab-df-convert:hover {\n",
              "      background-color: #E2EBFA;\n",
              "      box-shadow: 0px 1px 2px rgba(60, 64, 67, 0.3), 0px 1px 3px 1px rgba(60, 64, 67, 0.15);\n",
              "      fill: #174EA6;\n",
              "    }\n",
              "\n",
              "    [theme=dark] .colab-df-convert {\n",
              "      background-color: #3B4455;\n",
              "      fill: #D2E3FC;\n",
              "    }\n",
              "\n",
              "    [theme=dark] .colab-df-convert:hover {\n",
              "      background-color: #434B5C;\n",
              "      box-shadow: 0px 1px 3px 1px rgba(0, 0, 0, 0.15);\n",
              "      filter: drop-shadow(0px 1px 2px rgba(0, 0, 0, 0.3));\n",
              "      fill: #FFFFFF;\n",
              "    }\n",
              "  </style>\n",
              "\n",
              "      <script>\n",
              "        const buttonEl =\n",
              "          document.querySelector('#df-d750ee05-eea5-4c46-b084-ffebcdb7021a button.colab-df-convert');\n",
              "        buttonEl.style.display =\n",
              "          google.colab.kernel.accessAllowed ? 'block' : 'none';\n",
              "\n",
              "        async function convertToInteractive(key) {\n",
              "          const element = document.querySelector('#df-d750ee05-eea5-4c46-b084-ffebcdb7021a');\n",
              "          const dataTable =\n",
              "            await google.colab.kernel.invokeFunction('convertToInteractive',\n",
              "                                                     [key], {});\n",
              "          if (!dataTable) return;\n",
              "\n",
              "          const docLinkHtml = 'Like what you see? Visit the ' +\n",
              "            '<a target=\"_blank\" href=https://colab.research.google.com/notebooks/data_table.ipynb>data table notebook</a>'\n",
              "            + ' to learn more about interactive tables.';\n",
              "          element.innerHTML = '';\n",
              "          dataTable['output_type'] = 'display_data';\n",
              "          await google.colab.output.renderOutput(dataTable, element);\n",
              "          const docLink = document.createElement('div');\n",
              "          docLink.innerHTML = docLinkHtml;\n",
              "          element.appendChild(docLink);\n",
              "        }\n",
              "      </script>\n",
              "    </div>\n",
              "  </div>\n",
              "  "
            ]
          },
          "metadata": {},
          "execution_count": 10
        }
      ],
      "source": [
        "dataset = pd.get_dummies(dataset, columns=['Origin'], prefix='', prefix_sep='')\n",
        "dataset.tail()"
      ]
    },
    {
      "cell_type": "markdown",
      "metadata": {
        "id": "Cuym4yvk76vU"
      },
      "source": [
        "4. Split the data into training and test sets. To reduce the module importing overhead, instead of `sklearn.model_selection.train_test_split()`, use `pd.DataFrame.sample()` to save 80% of the data aside to `train_dataset`, set the random state to be 0 for reproducibility. \n",
        "\n",
        "   Then use `pd.DataFrame.drop()` to obtain the `test_dataset`."
      ]
    },
    {
      "cell_type": "code",
      "execution_count": null,
      "metadata": {
        "id": "qn-IGhUE7_1H"
      },
      "outputs": [],
      "source": [
        "train_dataset = dataset.sample(frac=0.8, random_state = 0)\n",
        "test_dataset = dataset.drop(train_dataset.index)"
      ]
    },
    {
      "cell_type": "markdown",
      "metadata": {
        "id": "J4ubs136WLNp"
      },
      "source": [
        "5. Review the pairwise relationships of a few pairs of columns from the training set. \n",
        "   \n",
        "   The top row suggests that the fuel efficiency (MPG) is a function of all the other parameters. The other rows indicate they are functions of each other."
      ]
    },
    {
      "cell_type": "code",
      "execution_count": null,
      "metadata": {
        "colab": {
          "base_uri": "https://localhost:8080/",
          "height": 726
        },
        "id": "oRKO_x8gWKv-",
        "outputId": "397f2b77-3c94-4f7d-9a1f-c9f6fbd91470"
      },
      "outputs": [
        {
          "output_type": "display_data",
          "data": {
            "text/plain": [
              "<Figure size 720x720 with 20 Axes>"
            ],
            "image/png": "[encoded data removed]"
          },
          "metadata": {
            "needs_background": "light"
          }
        }
      ],
      "source": [
        "sns.pairplot(train_dataset[['MPG', 'Cylinders', 'Displacement', 'Weight']], diag_kind='kde');"
      ]
    },
    {
      "cell_type": "markdown",
      "metadata": {
        "id": "gavKO_6DWRMP"
      },
      "source": [
        "Let's also check the overall statistics. Note how each feature covers a very different range:"
      ]
    },
    {
      "cell_type": "code",
      "execution_count": null,
      "metadata": {
        "colab": {
          "base_uri": "https://localhost:8080/",
          "height": 363
        },
        "id": "yi2FzC3T21jR",
        "outputId": "750aeddd-d78c-4e71-8028-f34e8afd91f5"
      },
      "outputs": [
        {
          "output_type": "execute_result",
          "data": {
            "text/plain": [
              "              count         mean         std     min      25%     50%  \\\n",
              "MPG           314.0    23.310510    7.728652    10.0    17.00    22.0   \n",
              "Cylinders     314.0     5.477707    1.699788     3.0     4.00     4.0   \n",
              "Displacement  314.0   195.318471  104.331589    68.0   105.50   151.0   \n",
              "Horsepower    314.0   104.869427   38.096214    46.0    76.25    94.5   \n",
              "Weight        314.0  2990.251592  843.898596  1649.0  2256.50  2822.5   \n",
              "Acceleration  314.0    15.559236    2.789230     8.0    13.80    15.5   \n",
              "Model Year    314.0    75.898089    3.675642    70.0    73.00    76.0   \n",
              "Europe        314.0     0.178344    0.383413     0.0     0.00     0.0   \n",
              "Japan         314.0     0.197452    0.398712     0.0     0.00     0.0   \n",
              "USA           314.0     0.624204    0.485101     0.0     0.00     1.0   \n",
              "\n",
              "                  75%     max  \n",
              "MPG             28.95    46.6  \n",
              "Cylinders        8.00     8.0  \n",
              "Displacement   265.75   455.0  \n",
              "Horsepower     128.00   225.0  \n",
              "Weight        3608.00  5140.0  \n",
              "Acceleration    17.20    24.8  \n",
              "Model Year      79.00    82.0  \n",
              "Europe           0.00     1.0  \n",
              "Japan            0.00     1.0  \n",
              "USA              1.00     1.0  "
            ],
            "text/html": [
              "\n",
              "  <div id=\"df-eeb152c0-8ee6-4c70-bf40-6564e6bbcb7e\">\n",
              "    <div class=\"colab-df-container\">\n",
              "      <div>\n",
              "<style scoped>\n",
              "    .dataframe tbody tr th:only-of-type {\n",
              "        vertical-align: middle;\n",
              "    }\n",
              "\n",
              "    .dataframe tbody tr th {\n",
              "        vertical-align: top;\n",
              "    }\n",
              "\n",
              "    .dataframe thead th {\n",
              "        text-align: right;\n",
              "    }\n",
              "</style>\n",
              "<table border=\"1\" class=\"dataframe\">\n",
              "  <thead>\n",
              "    <tr style=\"text-align: right;\">\n",
              "      <th></th>\n",
              "      <th>count</th>\n",
              "      <th>mean</th>\n",
              "      <th>std</th>\n",
              "      <th>min</th>\n",
              "      <th>25%</th>\n",
              "      <th>50%</th>\n",
              "      <th>75%</th>\n",
              "      <th>max</th>\n",
              "    </tr>\n",
              "  </thead>\n",
              "  <tbody>\n",
              "    <tr>\n",
              "      <th>MPG</th>\n",
              "      <td>314.0</td>\n",
              "      <td>23.310510</td>\n",
              "      <td>7.728652</td>\n",
              "      <td>10.0</td>\n",
              "      <td>17.00</td>\n",
              "      <td>22.0</td>\n",
              "      <td>28.95</td>\n",
              "      <td>46.6</td>\n",
              "    </tr>\n",
              "    <tr>\n",
              "      <th>Cylinders</th>\n",
              "      <td>314.0</td>\n",
              "      <td>5.477707</td>\n",
              "      <td>1.699788</td>\n",
              "      <td>3.0</td>\n",
              "      <td>4.00</td>\n",
              "      <td>4.0</td>\n",
              "      <td>8.00</td>\n",
              "      <td>8.0</td>\n",
              "    </tr>\n",
              "    <tr>\n",
              "      <th>Displacement</th>\n",
              "      <td>314.0</td>\n",
              "      <td>195.318471</td>\n",
              "      <td>104.331589</td>\n",
              "      <td>68.0</td>\n",
              "      <td>105.50</td>\n",
              "      <td>151.0</td>\n",
              "      <td>265.75</td>\n",
              "      <td>455.0</td>\n",
              "    </tr>\n",
              "    <tr>\n",
              "      <th>Horsepower</th>\n",
              "      <td>314.0</td>\n",
              "      <td>104.869427</td>\n",
              "      <td>38.096214</td>\n",
              "      <td>46.0</td>\n",
              "      <td>76.25</td>\n",
              "      <td>94.5</td>\n",
              "      <td>128.00</td>\n",
              "      <td>225.0</td>\n",
              "    </tr>\n",
              "    <tr>\n",
              "      <th>Weight</th>\n",
              "      <td>314.0</td>\n",
              "      <td>2990.251592</td>\n",
              "      <td>843.898596</td>\n",
              "      <td>1649.0</td>\n",
              "      <td>2256.50</td>\n",
              "      <td>2822.5</td>\n",
              "      <td>3608.00</td>\n",
              "      <td>5140.0</td>\n",
              "    </tr>\n",
              "    <tr>\n",
              "      <th>Acceleration</th>\n",
              "      <td>314.0</td>\n",
              "      <td>15.559236</td>\n",
              "      <td>2.789230</td>\n",
              "      <td>8.0</td>\n",
              "      <td>13.80</td>\n",
              "      <td>15.5</td>\n",
              "      <td>17.20</td>\n",
              "      <td>24.8</td>\n",
              "    </tr>\n",
              "    <tr>\n",
              "      <th>Model Year</th>\n",
              "      <td>314.0</td>\n",
              "      <td>75.898089</td>\n",
              "      <td>3.675642</td>\n",
              "      <td>70.0</td>\n",
              "      <td>73.00</td>\n",
              "      <td>76.0</td>\n",
              "      <td>79.00</td>\n",
              "      <td>82.0</td>\n",
              "    </tr>\n",
              "    <tr>\n",
              "      <th>Europe</th>\n",
              "      <td>314.0</td>\n",
              "      <td>0.178344</td>\n",
              "      <td>0.383413</td>\n",
              "      <td>0.0</td>\n",
              "      <td>0.00</td>\n",
              "      <td>0.0</td>\n",
              "      <td>0.00</td>\n",
              "      <td>1.0</td>\n",
              "    </tr>\n",
              "    <tr>\n",
              "      <th>Japan</th>\n",
              "      <td>314.0</td>\n",
              "      <td>0.197452</td>\n",
              "      <td>0.398712</td>\n",
              "      <td>0.0</td>\n",
              "      <td>0.00</td>\n",
              "      <td>0.0</td>\n",
              "      <td>0.00</td>\n",
              "      <td>1.0</td>\n",
              "    </tr>\n",
              "    <tr>\n",
              "      <th>USA</th>\n",
              "      <td>314.0</td>\n",
              "      <td>0.624204</td>\n",
              "      <td>0.485101</td>\n",
              "      <td>0.0</td>\n",
              "      <td>0.00</td>\n",
              "      <td>1.0</td>\n",
              "      <td>1.00</td>\n",
              "      <td>1.0</td>\n",
              "    </tr>\n",
              "  </tbody>\n",
              "</table>\n",
              "</div>\n",
              "      <button class=\"colab-df-convert\" onclick=\"convertToInteractive('df-eeb152c0-8ee6-4c70-bf40-6564e6bbcb7e')\"\n",
              "              title=\"Convert this dataframe to an interactive table.\"\n",
              "              style=\"display:none;\">\n",
              "        \n",
              "  <svg xmlns=\"http://www.w3.org/2000/svg\" height=\"24px\"viewBox=\"0 0 24 24\"\n",
              "       width=\"24px\">\n",
              "    <path d=\"M0 0h24v24H0V0z\" fill=\"none\"/>\n",
              "    <path d=\"M18.56 5.44l.94 2.06.94-2.06 2.06-.94-2.06-.94-.94-2.06-.94 2.06-2.06.94zm-11 1L8.5 8.5l.94-2.06 2.06-.94-2.06-.94L8.5 2.5l-.94 2.06-2.06.94zm10 10l.94 2.06.94-2.06 2.06-.94-2.06-.94-.94-2.06-.94 2.06-2.06.94z\"/><path d=\"M17.41 7.96l-1.37-1.37c-.4-.4-.92-.59-1.43-.59-.52 0-1.04.2-1.43.59L10.3 9.45l-7.72 7.72c-.78.78-.78 2.05 0 2.83L4 21.41c.39.39.9.59 1.41.59.51 0 1.02-.2 1.41-.59l7.78-7.78 2.81-2.81c.8-.78.8-2.07 0-2.86zM5.41 20L4 18.59l7.72-7.72 1.47 1.35L5.41 20z\"/>\n",
              "  </svg>\n",
              "      </button>\n",
              "      \n",
              "  <style>\n",
              "    .colab-df-container {\n",
              "      display:flex;\n",
              "      flex-wrap:wrap;\n",
              "      gap: 12px;\n",
              "    }\n",
              "\n",
              "    .colab-df-convert {\n",
              "      background-color: #E8F0FE;\n",
              "      border: none;\n",
              "      border-radius: 50%;\n",
              "      cursor: pointer;\n",
              "      display: none;\n",
              "      fill: #1967D2;\n",
              "      height: 32px;\n",
              "      padding: 0 0 0 0;\n",
              "      width: 32px;\n",
              "    }\n",
              "\n",
              "    .colab-df-convert:hover {\n",
              "      background-color: #E2EBFA;\n",
              "      box-shadow: 0px 1px 2px rgba(60, 64, 67, 0.3), 0px 1px 3px 1px rgba(60, 64, 67, 0.15);\n",
              "      fill: #174EA6;\n",
              "    }\n",
              "\n",
              "    [theme=dark] .colab-df-convert {\n",
              "      background-color: #3B4455;\n",
              "      fill: #D2E3FC;\n",
              "    }\n",
              "\n",
              "    [theme=dark] .colab-df-convert:hover {\n",
              "      background-color: #434B5C;\n",
              "      box-shadow: 0px 1px 3px 1px rgba(0, 0, 0, 0.15);\n",
              "      filter: drop-shadow(0px 1px 2px rgba(0, 0, 0, 0.3));\n",
              "      fill: #FFFFFF;\n",
              "    }\n",
              "  </style>\n",
              "\n",
              "      <script>\n",
              "        const buttonEl =\n",
              "          document.querySelector('#df-eeb152c0-8ee6-4c70-bf40-6564e6bbcb7e button.colab-df-convert');\n",
              "        buttonEl.style.display =\n",
              "          google.colab.kernel.accessAllowed ? 'block' : 'none';\n",
              "\n",
              "        async function convertToInteractive(key) {\n",
              "          const element = document.querySelector('#df-eeb152c0-8ee6-4c70-bf40-6564e6bbcb7e');\n",
              "          const dataTable =\n",
              "            await google.colab.kernel.invokeFunction('convertToInteractive',\n",
              "                                                     [key], {});\n",
              "          if (!dataTable) return;\n",
              "\n",
              "          const docLinkHtml = 'Like what you see? Visit the ' +\n",
              "            '<a target=\"_blank\" href=https://colab.research.google.com/notebooks/data_table.ipynb>data table notebook</a>'\n",
              "            + ' to learn more about interactive tables.';\n",
              "          element.innerHTML = '';\n",
              "          dataTable['output_type'] = 'display_data';\n",
              "          await google.colab.output.renderOutput(dataTable, element);\n",
              "          const docLink = document.createElement('div');\n",
              "          docLink.innerHTML = docLinkHtml;\n",
              "          element.appendChild(docLink);\n",
              "        }\n",
              "      </script>\n",
              "    </div>\n",
              "  </div>\n",
              "  "
            ]
          },
          "metadata": {},
          "execution_count": 13
        }
      ],
      "source": [
        "train_dataset.describe().transpose()"
      ]
    },
    {
      "cell_type": "markdown",
      "metadata": {
        "id": "Db7Auq1yXUvh"
      },
      "source": [
        "6. Split features from labels. \n",
        "  This means, separate the target value(also called\"label\") from the features. \n",
        "  Label is the value that you will train the model to predict."
      ]
    },
    {
      "cell_type": "code",
      "execution_count": null,
      "metadata": {
        "id": "t2sluJdCW7jN",
        "colab": {
          "base_uri": "https://localhost:8080/"
        },
        "outputId": "327b1a30-63ed-4fcc-d127-2dad4daf1a9a"
      },
      "outputs": [
        {
          "output_type": "execute_result",
          "data": {
            "text/plain": [
              "(314, 9)"
            ]
          },
          "metadata": {},
          "execution_count": 72
        }
      ],
      "source": [
        "target = \"MPG\"\n",
        "train_features = train_dataset.copy()\n",
        "test_features = test_dataset.copy()\n",
        "# train_features = train_dataset.drop(columns = [target])\n",
        "# test_features = test_dataset.drop(columns = [target])\n",
        "\n",
        "train_labels = train_features.pop(target)\n",
        "test_labels = test_features.pop(target)\n",
        "\n",
        "# train_labels.head()\n",
        "train_features.head()\n",
        "\n",
        "train_features.shape\n"
      ]
    },
    {
      "cell_type": "markdown",
      "metadata": {
        "id": "mRklxK5s388r"
      },
      "source": [
        "# Task 2 - Normalization Layer"
      ]
    },
    {
      "cell_type": "markdown",
      "metadata": {
        "id": "-ywmerQ6dSox"
      },
      "source": [
        "It is good practice to normalize features that use different scales and ranges. Although a model *might* converge without feature normalization, normalization makes training much more stable.\n",
        "\n",
        "Similar to scikit-learn, tensorflow.keras offers a list of [preprocessing layers](https://www.tensorflow.org/guide/keras/preprocessing_layers) so that you can build and export models that are truly end-to-end."
      ]
    },
    {
      "cell_type": "markdown",
      "metadata": {
        "id": "aFJ6ISropeoo"
      },
      "source": [
        "1. The Normalization layer ([`tf.keras.layers.Normalization`](https://www.tensorflow.org/api_docs/python/tf/keras/layers/Normalization) is a clean and simple way to add feature normalization into your model. The first step is to create the layer:"
      ]
    },
    {
      "cell_type": "code",
      "execution_count": null,
      "metadata": {
        "id": "JlC5ooJrgjQF"
      },
      "outputs": [],
      "source": [
        "normalizer = tf.keras.layers.Normalization(input_shape = [9,])"
      ]
    },
    {
      "cell_type": "markdown",
      "metadata": {
        "id": "XYA2Ap6nVOha"
      },
      "source": [
        "2. Then, fit the state of the preprocessing layer to the data by calling [`Normalization.adapt`](https://www.tensorflow.org/guide/keras/preprocessing_layers#the_adapt_method):"
      ]
    },
    {
      "cell_type": "code",
      "execution_count": null,
      "metadata": {
        "id": "CrBbbjbwV91f"
      },
      "outputs": [],
      "source": [
        "# normalizer.adapt(np.array(train_features))\n",
        "normalizer.adapt(train_features)\n",
        "normalized_data = normalizer(train_features)"
      ]
    },
    {
      "cell_type": "markdown",
      "metadata": {
        "id": "GqryjQ_DMMHp"
      },
      "source": [
        "We can see the feature mean and variance are stored in the layer:"
      ]
    },
    {
      "cell_type": "code",
      "execution_count": null,
      "metadata": {
        "colab": {
          "base_uri": "https://localhost:8080/"
        },
        "id": "lreV_KOML142",
        "outputId": "7fdfff73-2dc4-4871-be00-6fc9123d394e"
      },
      "outputs": [
        {
          "output_type": "stream",
          "name": "stdout",
          "text": [
            "feature mean: [   5.478  195.318  104.869 2990.252   15.559   75.898    0.178    0.197\n",
            "    0.624]\n",
            "\n",
            "feature variance: [     2.88   10850.413   1446.699 709896.9        7.755     13.467\n",
            "      0.147      0.158      0.235]\n"
          ]
        }
      ],
      "source": [
        "print(f'feature mean: {normalizer.mean.numpy().squeeze()}\\n')\n",
        "print(f'feature variance: {normalizer.variance.numpy().squeeze()}')"
      ]
    },
    {
      "cell_type": "markdown",
      "metadata": {
        "id": "oGWKaF9GSRuN"
      },
      "source": [
        "When the layer is called, it returns the input data, with each feature independently normalized:"
      ]
    },
    {
      "cell_type": "code",
      "execution_count": null,
      "metadata": {
        "colab": {
          "base_uri": "https://localhost:8080/"
        },
        "id": "2l7zFL_XWIRu",
        "outputId": "2515df54-c172-45f4-a014-7b1d5fc473f4"
      },
      "outputs": [
        {
          "output_type": "stream",
          "name": "stdout",
          "text": [
            "First example: [[   4.    90.    75.  2125.    14.5   74.     0.     0.     1. ]]\n",
            "\n",
            "Normalized: [[-0.87 -1.01 -0.79 -1.03 -0.38 -0.52 -0.47 -0.5   0.78]]\n"
          ]
        }
      ],
      "source": [
        "first = np.array(train_features[:1])\n",
        "\n",
        "with np.printoptions(precision=2, suppress=True):\n",
        "    print('First example:', first)\n",
        "    print()\n",
        "    print('Normalized:', normalizer(first).numpy())"
      ]
    },
    {
      "cell_type": "markdown",
      "metadata": {
        "id": "6o3CrycBXA2s"
      },
      "source": [
        "# Task 3 - Linear Regression 📈\n",
        "\n",
        "Before building a deep neural network model, start with linear regression using all the features."
      ]
    },
    {
      "cell_type": "markdown",
      "metadata": {
        "id": "lFby9n0tnHkw"
      },
      "source": [
        "Training a model with `tf.keras` typically starts by defining the model architecture. Use a `tf.keras.Sequential` model, which [represents a sequence of steps](https://www.tensorflow.org/guide/keras/sequential_model).\n",
        "\n",
        "There are two steps in this multivariate linear regression model:\n",
        "\n",
        "- Normalize all the input features using the `tf.keras.layers.Normalization` preprocessing layer. You have defined this earlier as `normalizer`.\n",
        "- Apply a linear transformation ($y = mx+b$ where $m$ is a matrix and $b$ is a vector.) to produce one output using a linear layer ([`tf.keras.layers.Dense`](https://www.tensorflow.org/api_docs/python/tf/keras/layers/Dense)).\n",
        "\n",
        "The number of _inputs_ can either be set by the `input_shape` argument, or automatically when the model is run for the first time."
      ]
    },
    {
      "cell_type": "markdown",
      "metadata": {
        "id": "4NVlHJY2TWlC"
      },
      "source": [
        "1. Build the Keras Sequential model:"
      ]
    },
    {
      "cell_type": "code",
      "execution_count": null,
      "metadata": {
        "id": "c0sXM7qLlKfZ"
      },
      "outputs": [],
      "source": [
        "# train_dataset.shape\n",
        "linear_model = tf.keras.Sequential([\n",
        "    normalizer,\n",
        "    tf.keras.layers.Dense(units = 1)\n",
        "])"
      ]
    },
    {
      "cell_type": "code",
      "execution_count": null,
      "metadata": {
        "colab": {
          "base_uri": "https://localhost:8080/"
        },
        "id": "_iaY0wviy0FO",
        "outputId": "476fd45c-a163-42e8-d500-595703aa6c6b"
      },
      "outputs": [
        {
          "output_type": "stream",
          "name": "stdout",
          "text": [
            "Model: \"sequential_6\"\n",
            "_________________________________________________________________\n",
            " Layer (type)                Output Shape              Param #   \n",
            "=================================================================\n",
            " normalization_4 (Normalizat  (None, 9)                19        \n",
            " ion)                                                            \n",
            "                                                                 \n",
            " dense_20 (Dense)            (None, 1)                 10        \n",
            "                                                                 \n",
            "=================================================================\n",
            "Total params: 29\n",
            "Trainable params: 10\n",
            "Non-trainable params: 19\n",
            "_________________________________________________________________\n"
          ]
        }
      ],
      "source": [
        "linear_model.summary()"
      ]
    },
    {
      "cell_type": "markdown",
      "metadata": {
        "id": "eObQu9fDnXGL"
      },
      "source": [
        "2. This model will predict `'MPG'` from all features in `train_features`. Run the untrained model on the first 10 data points / rows using `Model.predict()`. The output won't be good, but notice that it has the expected shape of `(10, 1)`:"
      ]
    },
    {
      "cell_type": "code",
      "execution_count": null,
      "metadata": {
        "id": "UfV1HS6bns-s",
        "colab": {
          "base_uri": "https://localhost:8080/"
        },
        "outputId": "56bd6d55-1805-426b-ec0f-a0c7578a2b59"
      },
      "outputs": [
        {
          "output_type": "stream",
          "name": "stdout",
          "text": [
            "1/1 [==============================] - 0s 52ms/step\n"
          ]
        },
        {
          "output_type": "execute_result",
          "data": {
            "text/plain": [
              "array([[ 1.456],\n",
              "       [ 1.111],\n",
              "       [-1.397],\n",
              "       [ 0.489],\n",
              "       [ 0.141],\n",
              "       [ 0.056],\n",
              "       [ 0.37 ],\n",
              "       [ 1.162],\n",
              "       [ 0.495],\n",
              "       [ 1.181]], dtype=float32)"
            ]
          },
          "metadata": {},
          "execution_count": 90
        }
      ],
      "source": [
        "linear_model.predict(x=train_features.head(10))"
      ]
    },
    {
      "cell_type": "markdown",
      "metadata": {
        "id": "IFND0vL4y5OZ"
      },
      "source": [
        "3. When you call the model, its weight matrices will be built—check that the `kernel` weights (the $m$ in $y = mx + b$) have a shape of (9, 1):"
      ]
    },
    {
      "cell_type": "code",
      "execution_count": null,
      "metadata": {
        "id": "QaqBYReyzBgr",
        "colab": {
          "base_uri": "https://localhost:8080/"
        },
        "outputId": "56530dec-f0ba-43a5-a6bd-7f4463ed91c2"
      },
      "outputs": [
        {
          "output_type": "execute_result",
          "data": {
            "text/plain": [
              "<tf.Variable 'dense_20/kernel:0' shape=(9, 1) dtype=float32, numpy=\n",
              "array([[-0.757],\n",
              "       [-0.178],\n",
              "       [ 0.059],\n",
              "       [-0.285],\n",
              "       [ 0.579],\n",
              "       [-0.443],\n",
              "       [-0.157],\n",
              "       [-0.437],\n",
              "       [ 0.093]], dtype=float32)>"
            ]
          },
          "metadata": {},
          "execution_count": 91
        }
      ],
      "source": [
        "linear_model.layers[1].kernel"
      ]
    },
    {
      "cell_type": "markdown",
      "metadata": {
        "id": "CSkanJlmmFBX"
      },
      "source": [
        "4. Once the model is built, configure the training procedure using the Keras `Model.compile` method. The most important arguments to compile are the `loss` and the `optimizer`, since these define what will be optimized and how (using the `tf.keras.optimizers.Adam`).\n",
        "\n",
        "  Here's a list of built-in loss functions in [`tf.keras.losses`](https://www.tensorflow.org/api_docs/python/tf/keras/losses). For regression tasks, [common loss functions](https://towardsdatascience.com/understanding-the-3-most-common-loss-functions-for-machine-learning-regression-23e0ef3e14d3) include mean squared error (MSE) and mean absolute error (MAE). Here,  MAE is preferred such that the model is more robust against outliers. \n",
        "\n",
        "  For optimizers, gradient descent (check this video [Gradient Descent, Step-by-Step](https://www.youtube.com/watch?v=sDv4f4s2SB8) for a refresher) is the preferred way to optimize neural networks and many other machine learning algorithms. Read [an overview of graident descent optimizer algorithms](https://ruder.io/optimizing-gradient-descent/) for several popular gradient descent algorithms. Here, we use the popular [`tf.keras.optimizers.Adam`](https://www.tensorflow.org/api_docs/python/tf/keras/optimizers/Adam), and set the learning rate at 0.1 for faster learning.  "
      ]
    },
    {
      "cell_type": "code",
      "execution_count": null,
      "metadata": {
        "id": "JxA_3lpOm-SK"
      },
      "outputs": [],
      "source": [
        "linear_model.compile(\n",
        "    optimizer=tf.keras.optimizers.Adam(0.01),\n",
        "\n",
        "    loss=tf.keras.losses.mean_squared_error\n",
        "    )"
      ]
    },
    {
      "cell_type": "markdown",
      "metadata": {
        "id": "Z3q1I9TwnRSC"
      },
      "source": [
        "5. Use Keras `Model.fit` to execute the training for 100 epochs, set the verbose to 0 to suppress logging and keep 20% of the data for validation:"
      ]
    },
    {
      "cell_type": "code",
      "execution_count": null,
      "metadata": {
        "id": "-iSrNy59nRAp",
        "colab": {
          "base_uri": "https://localhost:8080/"
        },
        "outputId": "513551f5-22d1-49d0-e2ae-c67fb1e66c92"
      },
      "outputs": [
        {
          "output_type": "stream",
          "name": "stderr",
          "text": [
            "2023/02/03 17:57:29 INFO mlflow.utils.autologging_utils: Created MLflow autologging run with ID 'da4889f74c7c4562a1d0389c001bfe57', which will track hyperparameters, performance metrics, model artifacts, and lineage information for the current tensorflow workflow\n",
            "2023/02/03 17:57:35 WARNING mlflow.tensorflow: Failed to infer model signature: could not sample data to infer model signature: tuple index out of range\n",
            "2023/02/03 17:57:35 WARNING mlflow.tensorflow: You are saving a TensorFlow Core model or Keras model without a signature. Inference with mlflow.pyfunc.spark_udf() will not work unless the model's pyfunc representation accepts pandas DataFrames as inference inputs.\n",
            "2023/02/03 17:57:40 WARNING mlflow.utils.requirements_utils: Found jaxlib version (0.3.25+cuda11.cudnn805) contains a local version label (+cuda11.cudnn805). MLflow logged a pip requirement for this package as 'jaxlib==0.3.25' without the local version label to make it installable from PyPI. To specify pip requirements containing local version labels, please use `conda_env` or `pip_requirements`.\n"
          ]
        },
        {
          "output_type": "stream",
          "name": "stdout",
          "text": [
            "CPU times: user 4.54 s, sys: 277 ms, total: 4.82 s\n",
            "Wall time: 11 s\n"
          ]
        }
      ],
      "source": [
        "%%time\n",
        "history = linear_model.fit(x=train_features, y=train_labels, epochs=100, verbose=0, validation_split=0.2)"
      ]
    },
    {
      "cell_type": "markdown",
      "metadata": {
        "id": "tQm3pc0FYPQB"
      },
      "source": [
        "6. Visualize the model's training progress using the stats stored in the `history` object:"
      ]
    },
    {
      "cell_type": "code",
      "execution_count": null,
      "metadata": {
        "id": "YCAwD_y4AdC3",
        "colab": {
          "base_uri": "https://localhost:8080/",
          "height": 206
        },
        "outputId": "cc72343a-e005-4f53-c8ef-d56b4e35996e"
      },
      "outputs": [
        {
          "output_type": "execute_result",
          "data": {
            "text/plain": [
              "          loss    val_loss  epoch\n",
              "95  274.075867  296.667847     95\n",
              "96  271.875366  294.498535     96\n",
              "97  269.715729  292.204987     97\n",
              "98  267.543243  289.900909     98\n",
              "99  265.385040  287.690918     99"
            ],
            "text/html": [
              "\n",
              "  <div id=\"df-95f1c6c3-621d-45ee-b72c-dd92e0c69af1\">\n",
              "    <div class=\"colab-df-container\">\n",
              "      <div>\n",
              "<style scoped>\n",
              "    .dataframe tbody tr th:only-of-type {\n",
              "        vertical-align: middle;\n",
              "    }\n",
              "\n",
              "    .dataframe tbody tr th {\n",
              "        vertical-align: top;\n",
              "    }\n",
              "\n",
              "    .dataframe thead th {\n",
              "        text-align: right;\n",
              "    }\n",
              "</style>\n",
              "<table border=\"1\" class=\"dataframe\">\n",
              "  <thead>\n",
              "    <tr style=\"text-align: right;\">\n",
              "      <th></th>\n",
              "      <th>loss</th>\n",
              "      <th>val_loss</th>\n",
              "      <th>epoch</th>\n",
              "    </tr>\n",
              "  </thead>\n",
              "  <tbody>\n",
              "    <tr>\n",
              "      <th>95</th>\n",
              "      <td>274.075867</td>\n",
              "      <td>296.667847</td>\n",
              "      <td>95</td>\n",
              "    </tr>\n",
              "    <tr>\n",
              "      <th>96</th>\n",
              "      <td>271.875366</td>\n",
              "      <td>294.498535</td>\n",
              "      <td>96</td>\n",
              "    </tr>\n",
              "    <tr>\n",
              "      <th>97</th>\n",
              "      <td>269.715729</td>\n",
              "      <td>292.204987</td>\n",
              "      <td>97</td>\n",
              "    </tr>\n",
              "    <tr>\n",
              "      <th>98</th>\n",
              "      <td>267.543243</td>\n",
              "      <td>289.900909</td>\n",
              "      <td>98</td>\n",
              "    </tr>\n",
              "    <tr>\n",
              "      <th>99</th>\n",
              "      <td>265.385040</td>\n",
              "      <td>287.690918</td>\n",
              "      <td>99</td>\n",
              "    </tr>\n",
              "  </tbody>\n",
              "</table>\n",
              "</div>\n",
              "      <button class=\"colab-df-convert\" onclick=\"convertToInteractive('df-95f1c6c3-621d-45ee-b72c-dd92e0c69af1')\"\n",
              "              title=\"Convert this dataframe to an interactive table.\"\n",
              "              style=\"display:none;\">\n",
              "        \n",
              "  <svg xmlns=\"http://www.w3.org/2000/svg\" height=\"24px\"viewBox=\"0 0 24 24\"\n",
              "       width=\"24px\">\n",
              "    <path d=\"M0 0h24v24H0V0z\" fill=\"none\"/>\n",
              "    <path d=\"M18.56 5.44l.94 2.06.94-2.06 2.06-.94-2.06-.94-.94-2.06-.94 2.06-2.06.94zm-11 1L8.5 8.5l.94-2.06 2.06-.94-2.06-.94L8.5 2.5l-.94 2.06-2.06.94zm10 10l.94 2.06.94-2.06 2.06-.94-2.06-.94-.94-2.06-.94 2.06-2.06.94z\"/><path d=\"M17.41 7.96l-1.37-1.37c-.4-.4-.92-.59-1.43-.59-.52 0-1.04.2-1.43.59L10.3 9.45l-7.72 7.72c-.78.78-.78 2.05 0 2.83L4 21.41c.39.39.9.59 1.41.59.51 0 1.02-.2 1.41-.59l7.78-7.78 2.81-2.81c.8-.78.8-2.07 0-2.86zM5.41 20L4 18.59l7.72-7.72 1.47 1.35L5.41 20z\"/>\n",
              "  </svg>\n",
              "      </button>\n",
              "      \n",
              "  <style>\n",
              "    .colab-df-container {\n",
              "      display:flex;\n",
              "      flex-wrap:wrap;\n",
              "      gap: 12px;\n",
              "    }\n",
              "\n",
              "    .colab-df-convert {\n",
              "      background-color: #E8F0FE;\n",
              "      border: none;\n",
              "      border-radius: 50%;\n",
              "      cursor: pointer;\n",
              "      display: none;\n",
              "      fill: #1967D2;\n",
              "      height: 32px;\n",
              "      padding: 0 0 0 0;\n",
              "      width: 32px;\n",
              "    }\n",
              "\n",
              "    .colab-df-convert:hover {\n",
              "      background-color: #E2EBFA;\n",
              "      box-shadow: 0px 1px 2px rgba(60, 64, 67, 0.3), 0px 1px 3px 1px rgba(60, 64, 67, 0.15);\n",
              "      fill: #174EA6;\n",
              "    }\n",
              "\n",
              "    [theme=dark] .colab-df-convert {\n",
              "      background-color: #3B4455;\n",
              "      fill: #D2E3FC;\n",
              "    }\n",
              "\n",
              "    [theme=dark] .colab-df-convert:hover {\n",
              "      background-color: #434B5C;\n",
              "      box-shadow: 0px 1px 3px 1px rgba(0, 0, 0, 0.15);\n",
              "      filter: drop-shadow(0px 1px 2px rgba(0, 0, 0, 0.3));\n",
              "      fill: #FFFFFF;\n",
              "    }\n",
              "  </style>\n",
              "\n",
              "      <script>\n",
              "        const buttonEl =\n",
              "          document.querySelector('#df-95f1c6c3-621d-45ee-b72c-dd92e0c69af1 button.colab-df-convert');\n",
              "        buttonEl.style.display =\n",
              "          google.colab.kernel.accessAllowed ? 'block' : 'none';\n",
              "\n",
              "        async function convertToInteractive(key) {\n",
              "          const element = document.querySelector('#df-95f1c6c3-621d-45ee-b72c-dd92e0c69af1');\n",
              "          const dataTable =\n",
              "            await google.colab.kernel.invokeFunction('convertToInteractive',\n",
              "                                                     [key], {});\n",
              "          if (!dataTable) return;\n",
              "\n",
              "          const docLinkHtml = 'Like what you see? Visit the ' +\n",
              "            '<a target=\"_blank\" href=https://colab.research.google.com/notebooks/data_table.ipynb>data table notebook</a>'\n",
              "            + ' to learn more about interactive tables.';\n",
              "          element.innerHTML = '';\n",
              "          dataTable['output_type'] = 'display_data';\n",
              "          await google.colab.output.renderOutput(dataTable, element);\n",
              "          const docLink = document.createElement('div');\n",
              "          docLink.innerHTML = docLinkHtml;\n",
              "          element.appendChild(docLink);\n",
              "        }\n",
              "      </script>\n",
              "    </div>\n",
              "  </div>\n",
              "  "
            ]
          },
          "metadata": {},
          "execution_count": 94
        }
      ],
      "source": [
        "hist = pd.DataFrame(history.history)\n",
        "hist['epoch'] = history.epoch\n",
        "hist.tail()"
      ]
    },
    {
      "cell_type": "code",
      "execution_count": null,
      "metadata": {
        "id": "9E54UoZunqhc"
      },
      "outputs": [],
      "source": [
        "def plot_loss(history):\n",
        "    plt.plot(history.history['loss'], label='loss')\n",
        "    plt.plot(history.history['val_loss'], label='val_loss')\n",
        "    # plt.ylim([0, 10])\n",
        "    plt.xlabel('Epoch')\n",
        "    plt.ylabel('Error [MPG]')\n",
        "    plt.legend()\n",
        "    plt.grid(True)"
      ]
    },
    {
      "cell_type": "markdown",
      "metadata": {
        "id": "fk81ixIgFcEU"
      },
      "source": [
        "Use `plot_loss(history)` provided to visualize the progression in loss function for training and validation data sets. "
      ]
    },
    {
      "cell_type": "code",
      "execution_count": null,
      "metadata": {
        "id": "yYsQYrIZyqjz",
        "colab": {
          "base_uri": "https://localhost:8080/",
          "height": 279
        },
        "outputId": "2be4b69d-d654-4eea-86c7-fb0146bd760f"
      },
      "outputs": [
        {
          "output_type": "display_data",
          "data": {
            "text/plain": [
              "<Figure size 432x288 with 1 Axes>"
            ],
            "image/png": "[encoded data removed]"
          },
          "metadata": {
            "needs_background": "light"
          }
        }
      ],
      "source": [
        "plot_loss(history)"
      ]
    },
    {
      "cell_type": "markdown",
      "metadata": {
        "id": "CMNrt8X2ebXd"
      },
      "source": [
        "7. Collect the results on the test set for later using [`Model.evaluate()`](https://www.tensorflow.org/api_docs/python/tf/keras/Model#evaluate)"
      ]
    },
    {
      "cell_type": "code",
      "execution_count": null,
      "metadata": {
        "id": "kDZ8EvNYrDtx"
      },
      "outputs": [],
      "source": [
        "test_results = {}\n",
        "\n",
        "test_results['linear_model'] = linear_model.evaluate(x=test_features, y = test_labels, verbose = 0)"
      ]
    },
    {
      "cell_type": "code",
      "execution_count": null,
      "metadata": {
        "id": "eh0trI_zGCT1",
        "colab": {
          "base_uri": "https://localhost:8080/"
        },
        "outputId": "b3894aa5-017c-44aa-a6f6-4ff4f6d623b2"
      },
      "outputs": [
        {
          "output_type": "execute_result",
          "data": {
            "text/plain": [
              "{'linear_model': 271.0740051269531}"
            ]
          },
          "metadata": {},
          "execution_count": 147
        }
      ],
      "source": [
        "test_results"
      ]
    },
    {
      "cell_type": "markdown",
      "metadata": {
        "id": "SmjdzxKzEu1-"
      },
      "source": [
        "# Task 4 - Regression with a Deep Neural Network (DNN)"
      ]
    },
    {
      "cell_type": "markdown",
      "metadata": {
        "id": "DT_aHPsrzO1t"
      },
      "source": [
        "You just implemented a linear model for multiple inputs. Now, you are ready to implement multiple-input DNN models.\n",
        "\n",
        "The code is very similar except the model is expanded to include some \"hidden\" **non-linear** layers. The name \"hidden\" here just means not directly connected to the inputs or outputs."
      ]
    },
    {
      "cell_type": "markdown",
      "metadata": {
        "id": "6SWtkIjhrZwa"
      },
      "source": [
        "* The normalization layer, as before (with `normalizer` for a multiple-input model).\n",
        "* Two hidden, non-linear, [`Dense`](https://www.tensorflow.org/api_docs/python/tf/keras/layers/Dense) layers with the ReLU (`relu`) activation function nonlinearity. One way is to set parameter `activation` inside `Dense` Set the number of neurons at each layer to be 64. \n",
        "* A linear `Dense` single-output layer. "
      ]
    },
    {
      "cell_type": "markdown",
      "metadata": {
        "id": "CQ6btF_xJPpW"
      },
      "source": [
        "\n",
        "\n",
        "1. Include the model and `compile` method in the `build_and_compile_model` function below. "
      ]
    },
    {
      "cell_type": "code",
      "execution_count": null,
      "metadata": {
        "id": "c26juK7ZG8j-"
      },
      "outputs": [],
      "source": [
        "def build_and_compile_model(norm):\n",
        "    model = tf.keras.Sequential([\n",
        "        tf.keras.layers.Normalization(input_shape = [9,]),\n",
        "        tf.keras.layers.Dense(units=64, activation=\"relu\"),\n",
        "        tf.keras.layers.Dense(units=64, activation = \"relu\"),\n",
        "        tf.keras.layers.Dense(units=1)\n",
        "\n",
        "    ])\n",
        "\n",
        "    model.compile(loss='mean_absolute_error',\n",
        "                optimizer=tf.keras.optimizers.Adam())\n",
        "    return model"
      ]
    },
    {
      "cell_type": "markdown",
      "metadata": {
        "id": "xvu9gtxTZR5V"
      },
      "source": [
        "2. Create a DNN model with `normalizer` (defined earlier) as the normalization layer:\n",
        "\n"
      ]
    },
    {
      "cell_type": "code",
      "execution_count": null,
      "metadata": {
        "id": "cGbPb-PHGbhs"
      },
      "outputs": [],
      "source": [
        "dnn_model = build_and_compile_model(normalizer)"
      ]
    },
    {
      "cell_type": "markdown",
      "metadata": {
        "id": "Sj49Og4YGULr"
      },
      "source": [
        "3. Inspect the model using `Model.summary()`. This model has quite a few more trainable parameters than the linear models:"
      ]
    },
    {
      "cell_type": "code",
      "execution_count": null,
      "metadata": {
        "id": "ReAD0n6MsFK-",
        "colab": {
          "base_uri": "https://localhost:8080/"
        },
        "outputId": "eee03556-6f66-4581-8c6a-831c387ab98f"
      },
      "outputs": [
        {
          "output_type": "stream",
          "name": "stdout",
          "text": [
            "Model: \"sequential_7\"\n",
            "_________________________________________________________________\n",
            " Layer (type)                Output Shape              Param #   \n",
            "=================================================================\n",
            " normalization_5 (Normalizat  (None, 9)                19        \n",
            " ion)                                                            \n",
            "                                                                 \n",
            " dense_21 (Dense)            (None, 64)                640       \n",
            "                                                                 \n",
            " dense_22 (Dense)            (None, 64)                4160      \n",
            "                                                                 \n",
            " dense_23 (Dense)            (None, 1)                 65        \n",
            "                                                                 \n",
            "=================================================================\n",
            "Total params: 4,884\n",
            "Trainable params: 4,865\n",
            "Non-trainable params: 19\n",
            "_________________________________________________________________\n"
          ]
        }
      ],
      "source": [
        "dnn_model.summary()"
      ]
    },
    {
      "cell_type": "markdown",
      "metadata": {
        "id": "0-qWCsh6DlyH"
      },
      "source": [
        "4. Train the model with Keras `Model.fit`:"
      ]
    },
    {
      "cell_type": "code",
      "execution_count": null,
      "metadata": {
        "id": "sD7qHCmNIOY0",
        "colab": {
          "base_uri": "https://localhost:8080/"
        },
        "outputId": "e78627b8-5e0b-4151-9411-c1b7b660e0ff"
      },
      "outputs": [
        {
          "output_type": "stream",
          "name": "stderr",
          "text": [
            "2023/02/03 17:58:08 INFO mlflow.utils.autologging_utils: Created MLflow autologging run with ID '89ec783bc2b2439493a2cdce0cfcec66', which will track hyperparameters, performance metrics, model artifacts, and lineage information for the current tensorflow workflow\n",
            "2023/02/03 17:58:12 WARNING mlflow.tensorflow: Failed to infer model signature: could not sample data to infer model signature: Cannot log input example or model signature for input with type <class 'pandas.core.frame.DataFrame'>. TensorFlow Keras autologging can only log input examples and model signatures for the following input types: numpy.ndarray, dict[string -> numpy.ndarray], tensorflow.keras.utils.Sequence, and tensorflow.data.Dataset (TensorFlow >= 2.1.0 required)\n",
            "2023/02/03 17:58:12 WARNING mlflow.tensorflow: You are saving a TensorFlow Core model or Keras model without a signature. Inference with mlflow.pyfunc.spark_udf() will not work unless the model's pyfunc representation accepts pandas DataFrames as inference inputs.\n",
            "2023/02/03 17:58:18 WARNING mlflow.utils.requirements_utils: Found jaxlib version (0.3.25+cuda11.cudnn805) contains a local version label (+cuda11.cudnn805). MLflow logged a pip requirement for this package as 'jaxlib==0.3.25' without the local version label to make it installable from PyPI. To specify pip requirements containing local version labels, please use `conda_env` or `pip_requirements`.\n"
          ]
        },
        {
          "output_type": "stream",
          "name": "stdout",
          "text": [
            "CPU times: user 5.24 s, sys: 262 ms, total: 5.5 s\n",
            "Wall time: 10.3 s\n"
          ]
        }
      ],
      "source": [
        "%%time\n",
        "history = dnn_model.fit(\n",
        "    train_features,\n",
        "    train_labels,\n",
        "    validation_split=0.2,\n",
        "    verbose=0, epochs=100)"
      ]
    },
    {
      "cell_type": "markdown",
      "metadata": {
        "id": "dArGGxHxcKjN"
      },
      "source": [
        "5. Visualize the model's training progress using the stats stored in the history object. "
      ]
    },
    {
      "cell_type": "code",
      "source": [
        "hist = pd.DataFrame(history.history)\n",
        "hist['epoch'] = history.epoch\n",
        "hist.tail()"
      ],
      "metadata": {
        "colab": {
          "base_uri": "https://localhost:8080/",
          "height": 206
        },
        "id": "sc4PRuD9sRDb",
        "outputId": "73816bbe-45f8-4407-e5c4-2dded652917e"
      },
      "execution_count": null,
      "outputs": [
        {
          "output_type": "execute_result",
          "data": {
            "text/plain": [
              "        loss  val_loss  epoch\n",
              "95  4.877244  4.595515     95\n",
              "96  4.798111  5.759929     96\n",
              "97  5.801308  3.557709     97\n",
              "98  3.821175  2.870971     98\n",
              "99  3.734870  3.030025     99"
            ],
            "text/html": [
              "\n",
              "  <div id=\"df-a36f978a-d395-4bbb-85d6-324b0299b8e5\">\n",
              "    <div class=\"colab-df-container\">\n",
              "      <div>\n",
              "<style scoped>\n",
              "    .dataframe tbody tr th:only-of-type {\n",
              "        vertical-align: middle;\n",
              "    }\n",
              "\n",
              "    .dataframe tbody tr th {\n",
              "        vertical-align: top;\n",
              "    }\n",
              "\n",
              "    .dataframe thead th {\n",
              "        text-align: right;\n",
              "    }\n",
              "</style>\n",
              "<table border=\"1\" class=\"dataframe\">\n",
              "  <thead>\n",
              "    <tr style=\"text-align: right;\">\n",
              "      <th></th>\n",
              "      <th>loss</th>\n",
              "      <th>val_loss</th>\n",
              "      <th>epoch</th>\n",
              "    </tr>\n",
              "  </thead>\n",
              "  <tbody>\n",
              "    <tr>\n",
              "      <th>95</th>\n",
              "      <td>4.877244</td>\n",
              "      <td>4.595515</td>\n",
              "      <td>95</td>\n",
              "    </tr>\n",
              "    <tr>\n",
              "      <th>96</th>\n",
              "      <td>4.798111</td>\n",
              "      <td>5.759929</td>\n",
              "      <td>96</td>\n",
              "    </tr>\n",
              "    <tr>\n",
              "      <th>97</th>\n",
              "      <td>5.801308</td>\n",
              "      <td>3.557709</td>\n",
              "      <td>97</td>\n",
              "    </tr>\n",
              "    <tr>\n",
              "      <th>98</th>\n",
              "      <td>3.821175</td>\n",
              "      <td>2.870971</td>\n",
              "      <td>98</td>\n",
              "    </tr>\n",
              "    <tr>\n",
              "      <th>99</th>\n",
              "      <td>3.734870</td>\n",
              "      <td>3.030025</td>\n",
              "      <td>99</td>\n",
              "    </tr>\n",
              "  </tbody>\n",
              "</table>\n",
              "</div>\n",
              "      <button class=\"colab-df-convert\" onclick=\"convertToInteractive('df-a36f978a-d395-4bbb-85d6-324b0299b8e5')\"\n",
              "              title=\"Convert this dataframe to an interactive table.\"\n",
              "              style=\"display:none;\">\n",
              "        \n",
              "  <svg xmlns=\"http://www.w3.org/2000/svg\" height=\"24px\"viewBox=\"0 0 24 24\"\n",
              "       width=\"24px\">\n",
              "    <path d=\"M0 0h24v24H0V0z\" fill=\"none\"/>\n",
              "    <path d=\"M18.56 5.44l.94 2.06.94-2.06 2.06-.94-2.06-.94-.94-2.06-.94 2.06-2.06.94zm-11 1L8.5 8.5l.94-2.06 2.06-.94-2.06-.94L8.5 2.5l-.94 2.06-2.06.94zm10 10l.94 2.06.94-2.06 2.06-.94-2.06-.94-.94-2.06-.94 2.06-2.06.94z\"/><path d=\"M17.41 7.96l-1.37-1.37c-.4-.4-.92-.59-1.43-.59-.52 0-1.04.2-1.43.59L10.3 9.45l-7.72 7.72c-.78.78-.78 2.05 0 2.83L4 21.41c.39.39.9.59 1.41.59.51 0 1.02-.2 1.41-.59l7.78-7.78 2.81-2.81c.8-.78.8-2.07 0-2.86zM5.41 20L4 18.59l7.72-7.72 1.47 1.35L5.41 20z\"/>\n",
              "  </svg>\n",
              "      </button>\n",
              "      \n",
              "  <style>\n",
              "    .colab-df-container {\n",
              "      display:flex;\n",
              "      flex-wrap:wrap;\n",
              "      gap: 12px;\n",
              "    }\n",
              "\n",
              "    .colab-df-convert {\n",
              "      background-color: #E8F0FE;\n",
              "      border: none;\n",
              "      border-radius: 50%;\n",
              "      cursor: pointer;\n",
              "      display: none;\n",
              "      fill: #1967D2;\n",
              "      height: 32px;\n",
              "      padding: 0 0 0 0;\n",
              "      width: 32px;\n",
              "    }\n",
              "\n",
              "    .colab-df-convert:hover {\n",
              "      background-color: #E2EBFA;\n",
              "      box-shadow: 0px 1px 2px rgba(60, 64, 67, 0.3), 0px 1px 3px 1px rgba(60, 64, 67, 0.15);\n",
              "      fill: #174EA6;\n",
              "    }\n",
              "\n",
              "    [theme=dark] .colab-df-convert {\n",
              "      background-color: #3B4455;\n",
              "      fill: #D2E3FC;\n",
              "    }\n",
              "\n",
              "    [theme=dark] .colab-df-convert:hover {\n",
              "      background-color: #434B5C;\n",
              "      box-shadow: 0px 1px 3px 1px rgba(0, 0, 0, 0.15);\n",
              "      filter: drop-shadow(0px 1px 2px rgba(0, 0, 0, 0.3));\n",
              "      fill: #FFFFFF;\n",
              "    }\n",
              "  </style>\n",
              "\n",
              "      <script>\n",
              "        const buttonEl =\n",
              "          document.querySelector('#df-a36f978a-d395-4bbb-85d6-324b0299b8e5 button.colab-df-convert');\n",
              "        buttonEl.style.display =\n",
              "          google.colab.kernel.accessAllowed ? 'block' : 'none';\n",
              "\n",
              "        async function convertToInteractive(key) {\n",
              "          const element = document.querySelector('#df-a36f978a-d395-4bbb-85d6-324b0299b8e5');\n",
              "          const dataTable =\n",
              "            await google.colab.kernel.invokeFunction('convertToInteractive',\n",
              "                                                     [key], {});\n",
              "          if (!dataTable) return;\n",
              "\n",
              "          const docLinkHtml = 'Like what you see? Visit the ' +\n",
              "            '<a target=\"_blank\" href=https://colab.research.google.com/notebooks/data_table.ipynb>data table notebook</a>'\n",
              "            + ' to learn more about interactive tables.';\n",
              "          element.innerHTML = '';\n",
              "          dataTable['output_type'] = 'display_data';\n",
              "          await google.colab.output.renderOutput(dataTable, element);\n",
              "          const docLink = document.createElement('div');\n",
              "          docLink.innerHTML = docLinkHtml;\n",
              "          element.appendChild(docLink);\n",
              "        }\n",
              "      </script>\n",
              "    </div>\n",
              "  </div>\n",
              "  "
            ]
          },
          "metadata": {},
          "execution_count": 138
        }
      ]
    },
    {
      "cell_type": "code",
      "execution_count": null,
      "metadata": {
        "id": "NcF6UWjdCU8T",
        "colab": {
          "base_uri": "https://localhost:8080/",
          "height": 279
        },
        "outputId": "b4de1da4-4a7e-48b4-eea5-6488f819a3e8"
      },
      "outputs": [
        {
          "output_type": "display_data",
          "data": {
            "text/plain": [
              "<Figure size 432x288 with 1 Axes>"
            ],
            "image/png": "[encoded data removed]"
          },
          "metadata": {
            "needs_background": "light"
          }
        }
      ],
      "source": [
        "plot_loss(history)"
      ]
    },
    {
      "cell_type": "markdown",
      "metadata": {
        "id": "lRIDHn59LTax"
      },
      "source": [
        "Do you think the DNN model is overfitting? What gives away? \n"
      ]
    },
    {
      "cell_type": "markdown",
      "metadata": {
        "id": "9dhMN7IUM12Q"
      },
      "source": [
        "6. Let's save the results for later comparison.\n",
        "\n",
        "During training, we use drop off to avoid overfitting by adding some noise. During cross-validation, you can see the orange line, val-loss is fluctuating up and down, and this is an indication the model is overfitted because the model is trying to learn every data point and not generalizing well enough. \n"
      ]
    },
    {
      "cell_type": "code",
      "execution_count": null,
      "metadata": {
        "id": "bJjM0dU52XtN"
      },
      "outputs": [],
      "source": [
        "test_results['dnn_model'] = dnn_model.evaluate(test_features, test_labels, verbose=0)"
      ]
    },
    {
      "cell_type": "markdown",
      "metadata": {
        "id": "uiCucdPLfMkZ"
      },
      "source": [
        "# Task 5 - Make Predictions 🔮"
      ]
    },
    {
      "cell_type": "markdown",
      "metadata": {
        "id": "rDf1xebEfWBw"
      },
      "source": [
        "1. Since both models have been trained, we can review their test set performance:"
      ]
    },
    {
      "cell_type": "code",
      "execution_count": null,
      "metadata": {
        "id": "e5_ooufM5iH2",
        "colab": {
          "base_uri": "https://localhost:8080/",
          "height": 112
        },
        "outputId": "4ab27407-de78-443a-bd80-376a42f4d1aa"
      },
      "outputs": [
        {
          "output_type": "execute_result",
          "data": {
            "text/plain": [
              "              Mean absolute error [MPG]\n",
              "linear_model                 271.074005\n",
              "dnn_model                      3.142597"
            ],
            "text/html": [
              "\n",
              "  <div id=\"df-30364080-1e72-4991-aecc-ecb1bba0c976\">\n",
              "    <div class=\"colab-df-container\">\n",
              "      <div>\n",
              "<style scoped>\n",
              "    .dataframe tbody tr th:only-of-type {\n",
              "        vertical-align: middle;\n",
              "    }\n",
              "\n",
              "    .dataframe tbody tr th {\n",
              "        vertical-align: top;\n",
              "    }\n",
              "\n",
              "    .dataframe thead th {\n",
              "        text-align: right;\n",
              "    }\n",
              "</style>\n",
              "<table border=\"1\" class=\"dataframe\">\n",
              "  <thead>\n",
              "    <tr style=\"text-align: right;\">\n",
              "      <th></th>\n",
              "      <th>Mean absolute error [MPG]</th>\n",
              "    </tr>\n",
              "  </thead>\n",
              "  <tbody>\n",
              "    <tr>\n",
              "      <th>linear_model</th>\n",
              "      <td>271.074005</td>\n",
              "    </tr>\n",
              "    <tr>\n",
              "      <th>dnn_model</th>\n",
              "      <td>3.142597</td>\n",
              "    </tr>\n",
              "  </tbody>\n",
              "</table>\n",
              "</div>\n",
              "      <button class=\"colab-df-convert\" onclick=\"convertToInteractive('df-30364080-1e72-4991-aecc-ecb1bba0c976')\"\n",
              "              title=\"Convert this dataframe to an interactive table.\"\n",
              "              style=\"display:none;\">\n",
              "        \n",
              "  <svg xmlns=\"http://www.w3.org/2000/svg\" height=\"24px\"viewBox=\"0 0 24 24\"\n",
              "       width=\"24px\">\n",
              "    <path d=\"M0 0h24v24H0V0z\" fill=\"none\"/>\n",
              "    <path d=\"M18.56 5.44l.94 2.06.94-2.06 2.06-.94-2.06-.94-.94-2.06-.94 2.06-2.06.94zm-11 1L8.5 8.5l.94-2.06 2.06-.94-2.06-.94L8.5 2.5l-.94 2.06-2.06.94zm10 10l.94 2.06.94-2.06 2.06-.94-2.06-.94-.94-2.06-.94 2.06-2.06.94z\"/><path d=\"M17.41 7.96l-1.37-1.37c-.4-.4-.92-.59-1.43-.59-.52 0-1.04.2-1.43.59L10.3 9.45l-7.72 7.72c-.78.78-.78 2.05 0 2.83L4 21.41c.39.39.9.59 1.41.59.51 0 1.02-.2 1.41-.59l7.78-7.78 2.81-2.81c.8-.78.8-2.07 0-2.86zM5.41 20L4 18.59l7.72-7.72 1.47 1.35L5.41 20z\"/>\n",
              "  </svg>\n",
              "      </button>\n",
              "      \n",
              "  <style>\n",
              "    .colab-df-container {\n",
              "      display:flex;\n",
              "      flex-wrap:wrap;\n",
              "      gap: 12px;\n",
              "    }\n",
              "\n",
              "    .colab-df-convert {\n",
              "      background-color: #E8F0FE;\n",
              "      border: none;\n",
              "      border-radius: 50%;\n",
              "      cursor: pointer;\n",
              "      display: none;\n",
              "      fill: #1967D2;\n",
              "      height: 32px;\n",
              "      padding: 0 0 0 0;\n",
              "      width: 32px;\n",
              "    }\n",
              "\n",
              "    .colab-df-convert:hover {\n",
              "      background-color: #E2EBFA;\n",
              "      box-shadow: 0px 1px 2px rgba(60, 64, 67, 0.3), 0px 1px 3px 1px rgba(60, 64, 67, 0.15);\n",
              "      fill: #174EA6;\n",
              "    }\n",
              "\n",
              "    [theme=dark] .colab-df-convert {\n",
              "      background-color: #3B4455;\n",
              "      fill: #D2E3FC;\n",
              "    }\n",
              "\n",
              "    [theme=dark] .colab-df-convert:hover {\n",
              "      background-color: #434B5C;\n",
              "      box-shadow: 0px 1px 3px 1px rgba(0, 0, 0, 0.15);\n",
              "      filter: drop-shadow(0px 1px 2px rgba(0, 0, 0, 0.3));\n",
              "      fill: #FFFFFF;\n",
              "    }\n",
              "  </style>\n",
              "\n",
              "      <script>\n",
              "        const buttonEl =\n",
              "          document.querySelector('#df-30364080-1e72-4991-aecc-ecb1bba0c976 button.colab-df-convert');\n",
              "        buttonEl.style.display =\n",
              "          google.colab.kernel.accessAllowed ? 'block' : 'none';\n",
              "\n",
              "        async function convertToInteractive(key) {\n",
              "          const element = document.querySelector('#df-30364080-1e72-4991-aecc-ecb1bba0c976');\n",
              "          const dataTable =\n",
              "            await google.colab.kernel.invokeFunction('convertToInteractive',\n",
              "                                                     [key], {});\n",
              "          if (!dataTable) return;\n",
              "\n",
              "          const docLinkHtml = 'Like what you see? Visit the ' +\n",
              "            '<a target=\"_blank\" href=https://colab.research.google.com/notebooks/data_table.ipynb>data table notebook</a>'\n",
              "            + ' to learn more about interactive tables.';\n",
              "          element.innerHTML = '';\n",
              "          dataTable['output_type'] = 'display_data';\n",
              "          await google.colab.output.renderOutput(dataTable, element);\n",
              "          const docLink = document.createElement('div');\n",
              "          docLink.innerHTML = docLinkHtml;\n",
              "          element.appendChild(docLink);\n",
              "        }\n",
              "      </script>\n",
              "    </div>\n",
              "  </div>\n",
              "  "
            ]
          },
          "metadata": {},
          "execution_count": 105
        }
      ],
      "source": [
        "pd.DataFrame(test_results, index=['Mean absolute error [MPG]']).T"
      ]
    },
    {
      "cell_type": "markdown",
      "metadata": {
        "id": "DABIVzsCf-QI"
      },
      "source": [
        "These results match the validation error observed during training."
      ]
    },
    {
      "cell_type": "markdown",
      "metadata": {
        "id": "ft603OzXuEZC"
      },
      "source": [
        "2. We can now make predictions with the `dnn_model` on the test set using Keras `Model.predict` and review the loss. Use `.flatten()`."
      ]
    },
    {
      "cell_type": "code",
      "execution_count": null,
      "metadata": {
        "id": "Xe7RXH3N3CWU",
        "colab": {
          "base_uri": "https://localhost:8080/",
          "height": 300
        },
        "outputId": "1c9fac78-4558-48a6-d801-fb0a8a222eb9"
      },
      "outputs": [
        {
          "output_type": "stream",
          "name": "stdout",
          "text": [
            "3/3 [==============================] - 0s 6ms/step\n"
          ]
        },
        {
          "output_type": "display_data",
          "data": {
            "text/plain": [
              "<Figure size 432x288 with 1 Axes>"
            ],
            "image/png": "[encoded data removed]"
          },
          "metadata": {
            "needs_background": "light"
          }
        }
      ],
      "source": [
        "test_predictions = dnn_model.predict(x = test_features)\n",
        "\n",
        "a = plt.axes(aspect='equal')\n",
        "plt.scatter(test_labels, test_predictions)\n",
        "plt.xlabel('True Values [MPG]')\n",
        "plt.ylabel('Predictions [MPG]')\n",
        "lims = [0, 50]\n",
        "plt.xlim(lims)\n",
        "plt.ylim(lims)\n",
        "_ = plt.plot(lims, lims)\n"
      ]
    },
    {
      "cell_type": "code",
      "source": [
        "test_predictions.flatten()\n"
      ],
      "metadata": {
        "colab": {
          "base_uri": "https://localhost:8080/"
        },
        "id": "RZqTh8r99bSk",
        "outputId": "cd199336-89b6-452b-8f40-d0623607bc15"
      },
      "execution_count": null,
      "outputs": [
        {
          "output_type": "execute_result",
          "data": {
            "text/plain": [
              "array([14.183, 17.82 , 20.188, 28.373, 19.972, 12.322, 14.495, 11.479,\n",
              "       17.35 , 30.916, 28.51 , 31.03 , 15.759, 27.873, 17.047, 17.226,\n",
              "       17.372, 15.083, 18.861, 16.509, 17.354, 27.018, 28.283, 28.145,\n",
              "       31.049, 27.063, 18.792, 28.983, 19.954, 19.463, 29.796, 24.373,\n",
              "       20.536, 27.47 , 29.806, 17.659, 21.321, 30.005, 29.309, 21.406,\n",
              "       31.078, 30.305, 15.56 , 30.112, 29.543, 31.41 , 24.305, 23.272,\n",
              "       20.061, 29.149, 29.026, 27.705, 30.516, 16.569, 16.984, 17.004,\n",
              "       30.529, 31.281, 22.892, 28.103, 30.702, 30.859, 27.927, 27.553,\n",
              "       28.417, 32.752, 32.171, 30.554, 30.116, 28.086, 23.699, 16.706,\n",
              "       31.752, 31.753, 31.204, 31.446, 32.422, 30.263], dtype=float32)"
            ]
          },
          "metadata": {},
          "execution_count": 218
        }
      ]
    },
    {
      "cell_type": "markdown",
      "metadata": {
        "id": "19wyogbOSU5t"
      },
      "source": [
        "3. It appears that the model predicts reasonably well. Now, check the error distribution:"
      ]
    },
    {
      "cell_type": "code",
      "execution_count": null,
      "metadata": {
        "id": "f-OHX4DiXd8x",
        "colab": {
          "base_uri": "https://localhost:8080/",
          "height": 279
        },
        "outputId": "fceff34e-8fa2-434d-9ff1-1e24ddd68fe1"
      },
      "outputs": [
        {
          "output_type": "display_data",
          "data": {
            "text/plain": [
              "<Figure size 432x288 with 1 Axes>"
            ],
            "image/png": "[encoded data removed]"
          },
          "metadata": {
            "needs_background": "light"
          }
        }
      ],
      "source": [
        "error = dnn_model.evaluate(x = test_features, y=test_labels, verbose = 0)\n",
        "plt.hist(error, bins=25)\n",
        "plt.xlabel('Prediction Error [MPG]')\n",
        "_ = plt.ylabel('Count')"
      ]
    },
    {
      "cell_type": "markdown",
      "metadata": {
        "id": "KSyaHUfDT-mZ"
      },
      "source": [
        "4. Save it for later use with `Model.save`:"
      ]
    },
    {
      "cell_type": "code",
      "execution_count": null,
      "metadata": {
        "id": "4-WwLlmfT-mb"
      },
      "outputs": [],
      "source": [
        "dnn_model.save('dnn_model')"
      ]
    },
    {
      "cell_type": "markdown",
      "metadata": {
        "id": "Benlnl8UT-me"
      },
      "source": [
        "5. Reload the model with `Model.load_model`; it gives identical output:"
      ]
    },
    {
      "cell_type": "code",
      "execution_count": null,
      "metadata": {
        "id": "dyyyj2zVT-mf"
      },
      "outputs": [],
      "source": [
        "reloaded = tf.keras.models.load_model(\"dnn_model\")\n",
        "\n",
        "test_results['reloaded'] = reloaded.evaluate(\n",
        "    test_features, test_labels, verbose=0)"
      ]
    },
    {
      "cell_type": "code",
      "execution_count": null,
      "metadata": {
        "id": "f_GchJ2tg-2o",
        "colab": {
          "base_uri": "https://localhost:8080/",
          "height": 112
        },
        "outputId": "6d0dbe7b-c41c-4468-dd99-f8dac884c615"
      },
      "outputs": [
        {
          "output_type": "execute_result",
          "data": {
            "text/plain": [
              "              Mean absolute error [MPG]\n",
              "linear_model                 271.074005\n",
              "reloaded                       3.142597"
            ],
            "text/html": [
              "\n",
              "  <div id=\"df-42a3ab5a-da9c-476a-b1a4-c43d25e9741c\">\n",
              "    <div class=\"colab-df-container\">\n",
              "      <div>\n",
              "<style scoped>\n",
              "    .dataframe tbody tr th:only-of-type {\n",
              "        vertical-align: middle;\n",
              "    }\n",
              "\n",
              "    .dataframe tbody tr th {\n",
              "        vertical-align: top;\n",
              "    }\n",
              "\n",
              "    .dataframe thead th {\n",
              "        text-align: right;\n",
              "    }\n",
              "</style>\n",
              "<table border=\"1\" class=\"dataframe\">\n",
              "  <thead>\n",
              "    <tr style=\"text-align: right;\">\n",
              "      <th></th>\n",
              "      <th>Mean absolute error [MPG]</th>\n",
              "    </tr>\n",
              "  </thead>\n",
              "  <tbody>\n",
              "    <tr>\n",
              "      <th>linear_model</th>\n",
              "      <td>271.074005</td>\n",
              "    </tr>\n",
              "    <tr>\n",
              "      <th>reloaded</th>\n",
              "      <td>3.142597</td>\n",
              "    </tr>\n",
              "  </tbody>\n",
              "</table>\n",
              "</div>\n",
              "      <button class=\"colab-df-convert\" onclick=\"convertToInteractive('df-42a3ab5a-da9c-476a-b1a4-c43d25e9741c')\"\n",
              "              title=\"Convert this dataframe to an interactive table.\"\n",
              "              style=\"display:none;\">\n",
              "        \n",
              "  <svg xmlns=\"http://www.w3.org/2000/svg\" height=\"24px\"viewBox=\"0 0 24 24\"\n",
              "       width=\"24px\">\n",
              "    <path d=\"M0 0h24v24H0V0z\" fill=\"none\"/>\n",
              "    <path d=\"M18.56 5.44l.94 2.06.94-2.06 2.06-.94-2.06-.94-.94-2.06-.94 2.06-2.06.94zm-11 1L8.5 8.5l.94-2.06 2.06-.94-2.06-.94L8.5 2.5l-.94 2.06-2.06.94zm10 10l.94 2.06.94-2.06 2.06-.94-2.06-.94-.94-2.06-.94 2.06-2.06.94z\"/><path d=\"M17.41 7.96l-1.37-1.37c-.4-.4-.92-.59-1.43-.59-.52 0-1.04.2-1.43.59L10.3 9.45l-7.72 7.72c-.78.78-.78 2.05 0 2.83L4 21.41c.39.39.9.59 1.41.59.51 0 1.02-.2 1.41-.59l7.78-7.78 2.81-2.81c.8-.78.8-2.07 0-2.86zM5.41 20L4 18.59l7.72-7.72 1.47 1.35L5.41 20z\"/>\n",
              "  </svg>\n",
              "      </button>\n",
              "      \n",
              "  <style>\n",
              "    .colab-df-container {\n",
              "      display:flex;\n",
              "      flex-wrap:wrap;\n",
              "      gap: 12px;\n",
              "    }\n",
              "\n",
              "    .colab-df-convert {\n",
              "      background-color: #E8F0FE;\n",
              "      border: none;\n",
              "      border-radius: 50%;\n",
              "      cursor: pointer;\n",
              "      display: none;\n",
              "      fill: #1967D2;\n",
              "      height: 32px;\n",
              "      padding: 0 0 0 0;\n",
              "      width: 32px;\n",
              "    }\n",
              "\n",
              "    .colab-df-convert:hover {\n",
              "      background-color: #E2EBFA;\n",
              "      box-shadow: 0px 1px 2px rgba(60, 64, 67, 0.3), 0px 1px 3px 1px rgba(60, 64, 67, 0.15);\n",
              "      fill: #174EA6;\n",
              "    }\n",
              "\n",
              "    [theme=dark] .colab-df-convert {\n",
              "      background-color: #3B4455;\n",
              "      fill: #D2E3FC;\n",
              "    }\n",
              "\n",
              "    [theme=dark] .colab-df-convert:hover {\n",
              "      background-color: #434B5C;\n",
              "      box-shadow: 0px 1px 3px 1px rgba(0, 0, 0, 0.15);\n",
              "      filter: drop-shadow(0px 1px 2px rgba(0, 0, 0, 0.3));\n",
              "      fill: #FFFFFF;\n",
              "    }\n",
              "  </style>\n",
              "\n",
              "      <script>\n",
              "        const buttonEl =\n",
              "          document.querySelector('#df-42a3ab5a-da9c-476a-b1a4-c43d25e9741c button.colab-df-convert');\n",
              "        buttonEl.style.display =\n",
              "          google.colab.kernel.accessAllowed ? 'block' : 'none';\n",
              "\n",
              "        async function convertToInteractive(key) {\n",
              "          const element = document.querySelector('#df-42a3ab5a-da9c-476a-b1a4-c43d25e9741c');\n",
              "          const dataTable =\n",
              "            await google.colab.kernel.invokeFunction('convertToInteractive',\n",
              "                                                     [key], {});\n",
              "          if (!dataTable) return;\n",
              "\n",
              "          const docLinkHtml = 'Like what you see? Visit the ' +\n",
              "            '<a target=\"_blank\" href=https://colab.research.google.com/notebooks/data_table.ipynb>data table notebook</a>'\n",
              "            + ' to learn more about interactive tables.';\n",
              "          element.innerHTML = '';\n",
              "          dataTable['output_type'] = 'display_data';\n",
              "          await google.colab.output.renderOutput(dataTable, element);\n",
              "          const docLink = document.createElement('div');\n",
              "          docLink.innerHTML = docLinkHtml;\n",
              "          element.appendChild(docLink);\n",
              "        }\n",
              "      </script>\n",
              "    </div>\n",
              "  </div>\n",
              "  "
            ]
          },
          "metadata": {},
          "execution_count": 151
        }
      ],
      "source": [
        "pd.DataFrame(test_results, index=['Mean absolute error [MPG]']).T"
      ]
    },
    {
      "cell_type": "markdown",
      "metadata": {
        "id": "jKeDqQVlgEvL"
      },
      "source": [
        "# Task 6 - Nonlinearity"
      ]
    },
    {
      "cell_type": "markdown",
      "metadata": {
        "id": "bi4qB9oDPU4j"
      },
      "source": [
        "We mentioned that the `relu` activation function introduce non-linearity; let's visualize it. Since there are six numerical features and 1 categorical features, it is impossible to plot all the dimensions on a 2D plot; we need to simplify/isolate it. \n",
        "\n",
        "Note: in this task, code is provided; the focus in on understanding. "
      ]
    },
    {
      "cell_type": "markdown",
      "metadata": {
        "id": "0WZj2vEGQwOL"
      },
      "source": [
        "1. We focus on the relationship between feature `Displacement` and target `MPG`. \n",
        "  \n",
        "  To do so, create a new dataset of the same size as `train_features`, but all other features are set at their median values; then set the `Displacement` between 0 and 500. "
      ]
    },
    {
      "cell_type": "code",
      "execution_count": null,
      "metadata": {
        "id": "nXcntGZv-CeV"
      },
      "outputs": [],
      "source": [
        "fake = np.outer(np.ones(train_features.shape[0]), train_features.median())\n",
        "fake = pd.DataFrame(fake, columns = train_features.columns)\n",
        "fake.Displacement = np.linspace(0, 500, train_features.shape[0])"
      ]
    },
    {
      "cell_type": "markdown",
      "metadata": {
        "id": "zwYXI7n1VIF3"
      },
      "source": [
        "2. Create a plotting function to:\n",
        "\n",
        "    a) visualize real values between `Displacement` and `MPG` from the training dataset in scatter plot \n",
        "    \n",
        "    b) overlay the predicted MPG from Displacement varying from 0 to 500, but holding all other features constant. "
      ]
    },
    {
      "cell_type": "code",
      "execution_count": null,
      "metadata": {
        "id": "zXDFyU4v-mak"
      },
      "outputs": [],
      "source": [
        "def plot_displacement(x, y):\n",
        "    plt.scatter(train_features['Displacement'], train_labels, label='Data')\n",
        "    plt.plot(x, y, color='k', label='Predictions')\n",
        "    plt.xlabel('Displacement')\n",
        "    plt.ylabel('MPG')\n",
        "    plt.legend()"
      ]
    },
    {
      "cell_type": "markdown",
      "metadata": {
        "id": "nLXZ7QsmVl_i"
      },
      "source": [
        "3. Visualize predicted MPG using the linear model."
      ]
    },
    {
      "cell_type": "code",
      "execution_count": null,
      "metadata": {
        "id": "Q0M1mhutB9YQ",
        "colab": {
          "base_uri": "https://localhost:8080/",
          "height": 279
        },
        "outputId": "f2df0fb4-5015-430f-e9ba-2fd80c77cf8a"
      },
      "outputs": [
        {
          "output_type": "display_data",
          "data": {
            "text/plain": [
              "<Figure size 432x288 with 1 Axes>"
            ],
            "image/png": "[encoded data removed]"
          },
          "metadata": {
            "needs_background": "light"
          }
        }
      ],
      "source": [
        "plot_displacement(fake.Displacement, linear_model(fake))"
      ]
    },
    {
      "cell_type": "markdown",
      "metadata": {
        "id": "S6Iw161_VvsP"
      },
      "source": [
        "4. Visualize predicted MPG using the neural network model. Do you see an improvement/non-linearity from the linear model? \n",
        "\n",
        "Yes, there's an improvement"
      ]
    },
    {
      "cell_type": "code",
      "execution_count": null,
      "metadata": {
        "id": "fXe9lxlvBWbk",
        "colab": {
          "base_uri": "https://localhost:8080/",
          "height": 296
        },
        "outputId": "31cf4db7-e639-48af-811d-42e4e9c7c1b5"
      },
      "outputs": [
        {
          "output_type": "stream",
          "name": "stdout",
          "text": [
            "10/10 [==============================] - 0s 2ms/step\n"
          ]
        },
        {
          "output_type": "display_data",
          "data": {
            "text/plain": [
              "<Figure size 432x288 with 1 Axes>"
            ],
            "image/png": "[encoded data removed]"
          },
          "metadata": {
            "needs_background": "light"
          }
        }
      ],
      "source": [
        "plot_displacement(fake.Displacement, dnn_model.predict(fake))"
      ]
    },
    {
      "cell_type": "markdown",
      "metadata": {
        "id": "pXWsMH5gR5pE"
      },
      "source": [
        "5. What are the other activation functions? Check the list of [activations](https://www.tensorflow.org/api_docs/python/tf/keras/activations). \n",
        "\n",
        "elu, selu, softmax, sigmoid, tanh, swish\n",
        "  \n",
        "  Optional. Modify the DNN model with a different activation function, and fit it on the data; does it perform better? "
      ]
    },
    {
      "cell_type": "markdown",
      "metadata": {
        "id": "vgGQuV-yqYZH"
      },
      "source": [
        "6. Overfitting is a common problem for DNN models, how should we deal with it? Check [Regularizers](https://www.tensorflow.org/api_docs/python/tf/keras/regularizers) on tf.keras. Any other techiniques that are invented for neural networks?\n",
        "\n",
        "Regularization penalty can be applied to the error function. Regularization removes extra weights from the selected features and redistributes the weights evenly. This discourages the learning of complexity and flexibility, thus reducing the likelihood of overfitting. Another way to reduce overfitting is to reduce the number of nodes/weights in the nn structure. The pruning of nodes can be done beforehand through grid search for example or after overfitting has occurred. Reducing nodes reduces complexity and results in a more stable model that is less sensitive to input fluctuations. \n",
        "\n"
      ]
    },
    {
      "cell_type": "markdown",
      "metadata": {
        "id": "iP8i8p3HrfdN"
      },
      "source": [
        "# Task 7 - MLflow Tracking"
      ]
    },
    {
      "cell_type": "markdown",
      "metadata": {
        "id": "saYwy3qTv7Sm"
      },
      "source": [
        "In this task, we briefly explore [MLflow Tracking](https://www.mlflow.org/docs/latest/tracking.html#tracking), one of four primary functions that MLflow offers for managing the end-to-end machine learning lifecycle. We will access the information runs programmatically in python and then set up the MLflow UI for easy interaction."
      ]
    },
    {
      "cell_type": "markdown",
      "metadata": {
        "id": "85HHzfclv6hp"
      },
      "source": [
        "1. Experiments.\n",
        "\n",
        "    MLflow Tracking is organized around the concept of `runs`, which are executions of some piece of modeling code; and runs are organized into experiments. \n",
        "\n",
        "    We set the auto logging in the beginning, we can verify that\n",
        "    - there is one experiment\n",
        "    - its name is `0`\n",
        "    - all of its artifacts are stored at `file:///content/mlruns/0` in Google Drive."
      ]
    },
    {
      "cell_type": "code",
      "execution_count": null,
      "metadata": {
        "id": "PetDDBPzrpNN",
        "colab": {
          "base_uri": "https://localhost:8080/"
        },
        "outputId": "f12c76d3-f988-4b13-edc0-96398708e694"
      },
      "outputs": [
        {
          "output_type": "execute_result",
          "data": {
            "text/plain": [
              "[<Experiment: artifact_location='file:///content/mlruns/0', creation_time=1675443025333, experiment_id='0', last_update_time=1675443025333, lifecycle_stage='active', name='Default', tags={}>]"
            ]
          },
          "metadata": {},
          "execution_count": 185
        }
      ],
      "source": [
        "from mlflow import MlflowClient\n",
        "client = MlflowClient()\n",
        "client.search_experiments()"
      ]
    },
    {
      "cell_type": "markdown",
      "metadata": {
        "id": "hU5LVdyi8W1F"
      },
      "source": [
        "2. Runs. \n",
        "\n",
        "   List information for runs that are under experiment '0' using [`mlflow.list_run_infos()`](https://www.mlflow.org/docs/latest/python_api/mlflow.html#mlflow.list_run_infos)."
      ]
    },
    {
      "cell_type": "code",
      "execution_count": null,
      "metadata": {
        "id": "fjHYHCZSpd_Y",
        "colab": {
          "base_uri": "https://localhost:8080/"
        },
        "outputId": "51b4fff8-70d0-4636-b332-4828b3c20121"
      },
      "outputs": [
        {
          "output_type": "execute_result",
          "data": {
            "text/plain": [
              "[<Run: data=<RunData: metrics={'loss': 3.734870195388794, 'val_loss': 3.030025005340576}, params={'batch_size': 'None',\n",
              "  'class_weight': 'None',\n",
              "  'epochs': '100',\n",
              "  'initial_epoch': '0',\n",
              "  'max_queue_size': '10',\n",
              "  'opt_amsgrad': 'False',\n",
              "  'opt_beta_1': '0.9',\n",
              "  'opt_beta_2': '0.999',\n",
              "  'opt_decay': '0.0',\n",
              "  'opt_epsilon': '1e-07',\n",
              "  'opt_learning_rate': '0.001',\n",
              "  'opt_name': 'Adam',\n",
              "  'sample_weight': 'None',\n",
              "  'shuffle': 'True',\n",
              "  'steps_per_epoch': 'None',\n",
              "  'use_multiprocessing': 'False',\n",
              "  'validation_batch_size': 'None',\n",
              "  'validation_freq': '1',\n",
              "  'validation_split': '0.2',\n",
              "  'validation_steps': 'None',\n",
              "  'workers': '1'}, tags={'mlflow.autologging': 'tensorflow',\n",
              "  'mlflow.log-model.history': '[{\"run_id\": \"89ec783bc2b2439493a2cdce0cfcec66\", '\n",
              "                              '\"artifact_path\": \"model\", \"utc_time_created\": '\n",
              "                              '\"2023-02-03 17:58:12.924287\", \"flavors\": '\n",
              "                              '{\"tensorflow\": {\"code\": null, \"data\": \"data\", '\n",
              "                              '\"model_type\": \"keras\", \"keras_version\": \"2.9.0\", '\n",
              "                              '\"save_format\": \"tf\"}, \"python_function\": '\n",
              "                              '{\"loader_module\": \"mlflow.tensorflow\", '\n",
              "                              '\"python_version\": \"3.8.10\", \"data\": \"data\", '\n",
              "                              '\"env\": {\"conda\": \"conda.yaml\", \"virtualenv\": '\n",
              "                              '\"python_env.yaml\"}}}, \"model_uuid\": '\n",
              "                              '\"7d472b1f7bcc485981eb460485e05096\", '\n",
              "                              '\"mlflow_version\": \"2.1.1\"}]',\n",
              "  'mlflow.runName': 'abundant-zebra-224',\n",
              "  'mlflow.source.name': '/usr/local/lib/python3.8/dist-packages/ipykernel_launcher.py',\n",
              "  'mlflow.source.type': 'LOCAL',\n",
              "  'mlflow.user': 'root'}>, info=<RunInfo: artifact_uri='file:///content/mlruns/0/89ec783bc2b2439493a2cdce0cfcec66/artifacts', end_time=1675447098368, experiment_id='0', lifecycle_stage='active', run_id='89ec783bc2b2439493a2cdce0cfcec66', run_name='abundant-zebra-224', run_uuid='89ec783bc2b2439493a2cdce0cfcec66', start_time=1675447088076, status='FINISHED', user_id='root'>>,\n",
              " <Run: data=<RunData: metrics={'loss': 265.3850402832031, 'val_loss': 287.69091796875}, params={'batch_size': 'None',\n",
              "  'class_weight': 'None',\n",
              "  'epochs': '100',\n",
              "  'initial_epoch': '0',\n",
              "  'max_queue_size': '10',\n",
              "  'opt_amsgrad': 'False',\n",
              "  'opt_beta_1': '0.9',\n",
              "  'opt_beta_2': '0.999',\n",
              "  'opt_decay': '0.0',\n",
              "  'opt_epsilon': '1e-07',\n",
              "  'opt_learning_rate': '0.01',\n",
              "  'opt_name': 'Adam',\n",
              "  'sample_weight': 'None',\n",
              "  'shuffle': 'True',\n",
              "  'steps_per_epoch': 'None',\n",
              "  'use_multiprocessing': 'False',\n",
              "  'validation_batch_size': 'None',\n",
              "  'validation_freq': '1',\n",
              "  'validation_split': '0.2',\n",
              "  'validation_steps': 'None',\n",
              "  'workers': '1'}, tags={'mlflow.autologging': 'tensorflow',\n",
              "  'mlflow.log-model.history': '[{\"run_id\": \"da4889f74c7c4562a1d0389c001bfe57\", '\n",
              "                              '\"artifact_path\": \"model\", \"utc_time_created\": '\n",
              "                              '\"2023-02-03 17:57:35.434758\", \"flavors\": '\n",
              "                              '{\"tensorflow\": {\"code\": null, \"data\": \"data\", '\n",
              "                              '\"model_type\": \"keras\", \"keras_version\": \"2.9.0\", '\n",
              "                              '\"save_format\": \"tf\"}, \"python_function\": '\n",
              "                              '{\"loader_module\": \"mlflow.tensorflow\", '\n",
              "                              '\"python_version\": \"3.8.10\", \"data\": \"data\", '\n",
              "                              '\"env\": {\"conda\": \"conda.yaml\", \"virtualenv\": '\n",
              "                              '\"python_env.yaml\"}}}, \"model_uuid\": '\n",
              "                              '\"d0a99ca8fd6c4fdcb39b46efc3824714\", '\n",
              "                              '\"mlflow_version\": \"2.1.1\"}]',\n",
              "  'mlflow.runName': 'debonair-dove-811',\n",
              "  'mlflow.source.name': '/usr/local/lib/python3.8/dist-packages/ipykernel_launcher.py',\n",
              "  'mlflow.source.type': 'LOCAL',\n",
              "  'mlflow.user': 'root'}>, info=<RunInfo: artifact_uri='file:///content/mlruns/0/da4889f74c7c4562a1d0389c001bfe57/artifacts', end_time=1675447060940, experiment_id='0', lifecycle_stage='active', run_id='da4889f74c7c4562a1d0389c001bfe57', run_name='debonair-dove-811', run_uuid='da4889f74c7c4562a1d0389c001bfe57', start_time=1675447049918, status='FINISHED', user_id='root'>>,\n",
              " <Run: data=<RunData: metrics={'loss': 265.3611145019531, 'val_loss': 286.3681335449219}, params={'batch_size': 'None',\n",
              "  'class_weight': 'None',\n",
              "  'epochs': '100',\n",
              "  'initial_epoch': '0',\n",
              "  'max_queue_size': '10',\n",
              "  'opt_amsgrad': 'False',\n",
              "  'opt_beta_1': '0.9',\n",
              "  'opt_beta_2': '0.999',\n",
              "  'opt_decay': '0.0',\n",
              "  'opt_epsilon': '1e-07',\n",
              "  'opt_learning_rate': '0.01',\n",
              "  'opt_name': 'Adam',\n",
              "  'sample_weight': 'None',\n",
              "  'shuffle': 'True',\n",
              "  'steps_per_epoch': 'None',\n",
              "  'use_multiprocessing': 'False',\n",
              "  'validation_batch_size': 'None',\n",
              "  'validation_freq': '1',\n",
              "  'validation_split': '0.2',\n",
              "  'validation_steps': 'None',\n",
              "  'workers': '1'}, tags={'mlflow.autologging': 'tensorflow',\n",
              "  'mlflow.log-model.history': '[{\"run_id\": \"84535152712542139e9ae1e84870e150\", '\n",
              "                              '\"artifact_path\": \"model\", \"utc_time_created\": '\n",
              "                              '\"2023-02-03 17:00:57.895346\", \"flavors\": '\n",
              "                              '{\"tensorflow\": {\"code\": null, \"data\": \"data\", '\n",
              "                              '\"model_type\": \"keras\", \"keras_version\": \"2.9.0\", '\n",
              "                              '\"save_format\": \"tf\"}, \"python_function\": '\n",
              "                              '{\"loader_module\": \"mlflow.tensorflow\", '\n",
              "                              '\"python_version\": \"3.8.10\", \"data\": \"data\", '\n",
              "                              '\"env\": {\"conda\": \"conda.yaml\", \"virtualenv\": '\n",
              "                              '\"python_env.yaml\"}}}, \"model_uuid\": '\n",
              "                              '\"f946fbbe53ff4ad8a73b8569b369260d\", '\n",
              "                              '\"mlflow_version\": \"2.1.1\"}]',\n",
              "  'mlflow.runName': 'suave-shad-208',\n",
              "  'mlflow.source.name': '/usr/local/lib/python3.8/dist-packages/ipykernel_launcher.py',\n",
              "  'mlflow.source.type': 'LOCAL',\n",
              "  'mlflow.user': 'root'}>, info=<RunInfo: artifact_uri='file:///content/mlruns/0/84535152712542139e9ae1e84870e150/artifacts', end_time=1675443663442, experiment_id='0', lifecycle_stage='active', run_id='84535152712542139e9ae1e84870e150', run_name='suave-shad-208', run_uuid='84535152712542139e9ae1e84870e150', start_time=1675443653662, status='FINISHED', user_id='root'>>,\n",
              " <Run: data=<RunData: metrics={'loss': 238.54971313476562, 'val_loss': 261.0243225097656}, params={'batch_size': 'None',\n",
              "  'class_weight': 'None',\n",
              "  'epochs': '100',\n",
              "  'initial_epoch': '0',\n",
              "  'max_queue_size': '10',\n",
              "  'opt_amsgrad': 'False',\n",
              "  'opt_beta_1': '0.9',\n",
              "  'opt_beta_2': '0.999',\n",
              "  'opt_decay': '0.0',\n",
              "  'opt_epsilon': '1e-07',\n",
              "  'opt_learning_rate': '0.01',\n",
              "  'opt_name': 'Adam',\n",
              "  'sample_weight': 'None',\n",
              "  'shuffle': 'True',\n",
              "  'steps_per_epoch': 'None',\n",
              "  'use_multiprocessing': 'False',\n",
              "  'validation_batch_size': 'None',\n",
              "  'validation_freq': '1',\n",
              "  'validation_split': '0.2',\n",
              "  'validation_steps': 'None',\n",
              "  'workers': '1'}, tags={'mlflow.autologging': 'tensorflow',\n",
              "  'mlflow.log-model.history': '[{\"run_id\": \"3cb4440e5dbb4e98b670183d45c75a28\", '\n",
              "                              '\"artifact_path\": \"model\", \"utc_time_created\": '\n",
              "                              '\"2023-02-03 16:51:47.122015\", \"flavors\": '\n",
              "                              '{\"tensorflow\": {\"code\": null, \"data\": \"data\", '\n",
              "                              '\"model_type\": \"keras\", \"keras_version\": \"2.9.0\", '\n",
              "                              '\"save_format\": \"tf\"}, \"python_function\": '\n",
              "                              '{\"loader_module\": \"mlflow.tensorflow\", '\n",
              "                              '\"python_version\": \"3.8.10\", \"data\": \"data\", '\n",
              "                              '\"env\": {\"conda\": \"conda.yaml\", \"virtualenv\": '\n",
              "                              '\"python_env.yaml\"}}}, \"model_uuid\": '\n",
              "                              '\"2a44022e3c2941e99f11f3d283ee31e6\", '\n",
              "                              '\"mlflow_version\": \"2.1.1\"}]',\n",
              "  'mlflow.runName': 'thoughtful-frog-489',\n",
              "  'mlflow.source.name': '/usr/local/lib/python3.8/dist-packages/ipykernel_launcher.py',\n",
              "  'mlflow.source.type': 'LOCAL',\n",
              "  'mlflow.user': 'root'}>, info=<RunInfo: artifact_uri='file:///content/mlruns/0/3cb4440e5dbb4e98b670183d45c75a28/artifacts', end_time=1675443112071, experiment_id='0', lifecycle_stage='active', run_id='3cb4440e5dbb4e98b670183d45c75a28', run_name='thoughtful-frog-489', run_uuid='3cb4440e5dbb4e98b670183d45c75a28', start_time=1675443101593, status='FINISHED', user_id='root'>>,\n",
              " <Run: data=<RunData: metrics={'loss': 523.035400390625, 'val_loss': 540.7454223632812}, params={'batch_size': 'None',\n",
              "  'class_weight': 'None',\n",
              "  'epochs': '100',\n",
              "  'initial_epoch': '0',\n",
              "  'max_queue_size': '10',\n",
              "  'opt_amsgrad': 'False',\n",
              "  'opt_beta_1': '0.9',\n",
              "  'opt_beta_2': '0.999',\n",
              "  'opt_decay': '0.0',\n",
              "  'opt_epsilon': '1e-07',\n",
              "  'opt_learning_rate': '0.0001',\n",
              "  'opt_name': 'Adam',\n",
              "  'sample_weight': 'None',\n",
              "  'shuffle': 'True',\n",
              "  'steps_per_epoch': 'None',\n",
              "  'use_multiprocessing': 'False',\n",
              "  'validation_batch_size': 'None',\n",
              "  'validation_freq': '1',\n",
              "  'validation_split': '0.2',\n",
              "  'validation_steps': 'None',\n",
              "  'workers': '1'}, tags={'mlflow.autologging': 'tensorflow',\n",
              "  'mlflow.log-model.history': '[{\"run_id\": \"9179a2d2f9c6440a8efbad839ea3be15\", '\n",
              "                              '\"artifact_path\": \"model\", \"utc_time_created\": '\n",
              "                              '\"2023-02-03 16:51:05.219009\", \"flavors\": '\n",
              "                              '{\"tensorflow\": {\"code\": null, \"data\": \"data\", '\n",
              "                              '\"model_type\": \"keras\", \"keras_version\": \"2.9.0\", '\n",
              "                              '\"save_format\": \"tf\"}, \"python_function\": '\n",
              "                              '{\"loader_module\": \"mlflow.tensorflow\", '\n",
              "                              '\"python_version\": \"3.8.10\", \"data\": \"data\", '\n",
              "                              '\"env\": {\"conda\": \"conda.yaml\", \"virtualenv\": '\n",
              "                              '\"python_env.yaml\"}}}, \"model_uuid\": '\n",
              "                              '\"7d467f8d0a4f44589c7b9fcbd57b6812\", '\n",
              "                              '\"mlflow_version\": \"2.1.1\"}]',\n",
              "  'mlflow.runName': 'masked-shrimp-934',\n",
              "  'mlflow.source.name': '/usr/local/lib/python3.8/dist-packages/ipykernel_launcher.py',\n",
              "  'mlflow.source.type': 'LOCAL',\n",
              "  'mlflow.user': 'root'}>, info=<RunInfo: artifact_uri='file:///content/mlruns/0/9179a2d2f9c6440a8efbad839ea3be15/artifacts', end_time=1675443070446, experiment_id='0', lifecycle_stage='active', run_id='9179a2d2f9c6440a8efbad839ea3be15', run_name='masked-shrimp-934', run_uuid='9179a2d2f9c6440a8efbad839ea3be15', start_time=1675443059722, status='FINISHED', user_id='root'>>,\n",
              " <Run: data=<RunData: metrics={'loss': 528.2249145507812, 'val_loss': 545.83642578125}, params={'batch_size': 'None',\n",
              "  'class_weight': 'None',\n",
              "  'epochs': '100',\n",
              "  'initial_epoch': '0',\n",
              "  'max_queue_size': '10',\n",
              "  'opt_amsgrad': 'False',\n",
              "  'opt_beta_1': '0.9',\n",
              "  'opt_beta_2': '0.999',\n",
              "  'opt_decay': '0.0',\n",
              "  'opt_epsilon': '1e-07',\n",
              "  'opt_learning_rate': '0.001',\n",
              "  'opt_name': 'Adam',\n",
              "  'sample_weight': 'None',\n",
              "  'shuffle': 'True',\n",
              "  'steps_per_epoch': 'None',\n",
              "  'use_multiprocessing': 'False',\n",
              "  'validation_batch_size': 'None',\n",
              "  'validation_freq': '1',\n",
              "  'validation_split': '0.2',\n",
              "  'validation_steps': 'None',\n",
              "  'workers': '1'}, tags={'mlflow.autologging': 'tensorflow',\n",
              "  'mlflow.log-model.history': '[{\"run_id\": \"5117972f91d8430a996f2f9f522dae1d\", '\n",
              "                              '\"artifact_path\": \"model\", \"utc_time_created\": '\n",
              "                              '\"2023-02-03 16:50:37.509514\", \"flavors\": '\n",
              "                              '{\"tensorflow\": {\"code\": null, \"data\": \"data\", '\n",
              "                              '\"model_type\": \"keras\", \"keras_version\": \"2.9.0\", '\n",
              "                              '\"save_format\": \"tf\"}, \"python_function\": '\n",
              "                              '{\"loader_module\": \"mlflow.tensorflow\", '\n",
              "                              '\"python_version\": \"3.8.10\", \"data\": \"data\", '\n",
              "                              '\"env\": {\"conda\": \"conda.yaml\", \"virtualenv\": '\n",
              "                              '\"python_env.yaml\"}}}, \"model_uuid\": '\n",
              "                              '\"a6c76a4a954b48689c4551e9d7e3995c\", '\n",
              "                              '\"mlflow_version\": \"2.1.1\"}]',\n",
              "  'mlflow.runName': 'dapper-foal-846',\n",
              "  'mlflow.source.name': '/usr/local/lib/python3.8/dist-packages/ipykernel_launcher.py',\n",
              "  'mlflow.source.type': 'LOCAL',\n",
              "  'mlflow.user': 'root'}>, info=<RunInfo: artifact_uri='file:///content/mlruns/0/5117972f91d8430a996f2f9f522dae1d/artifacts', end_time=1675443043688, experiment_id='0', lifecycle_stage='active', run_id='5117972f91d8430a996f2f9f522dae1d', run_name='dapper-foal-846', run_uuid='5117972f91d8430a996f2f9f522dae1d', start_time=1675443025614, status='FINISHED', user_id='root'>>]"
            ]
          },
          "metadata": {},
          "execution_count": 186
        }
      ],
      "source": [
        "client.search_runs('0')"
      ]
    },
    {
      "cell_type": "markdown",
      "metadata": {
        "id": "l74ail7H8W1F"
      },
      "source": [
        "3. Retrieve the currently active run, i.e., the DNN model. Hint: `mlflow.last_active_run()` "
      ]
    },
    {
      "cell_type": "code",
      "execution_count": null,
      "metadata": {
        "id": "25LDySIXetDJ"
      },
      "outputs": [],
      "source": [
        "autolog_run = mlflow.last_active_run()"
      ]
    },
    {
      "cell_type": "markdown",
      "metadata": {
        "id": "lNbi3mfZ8W1G"
      },
      "source": [
        "4. Use function `print_auto_logged_info` provided below to fetch the auto logged parameters and metrics for `autolog_run`. "
      ]
    },
    {
      "cell_type": "code",
      "execution_count": null,
      "metadata": {
        "code_folding": [
          1
        ],
        "id": "tejN3IaiqzNn"
      },
      "outputs": [],
      "source": [
        "import json\n",
        "def print_auto_logged_info(r):\n",
        "    tags = {k: v for k, v in r.data.tags.items() if not k.startswith(\"mlflow.\")}\n",
        "    artifacts = [f.path for f in MlflowClient().list_artifacts(r.info.run_id, \"model\")]\n",
        "    print(\"run_id: {}\".format(r.info.run_id))\n",
        "    print(\"artifacts: {}\".format(artifacts))\n",
        "    print(\"params: {}\".format(json.dumps(r.data.params, indent=4)))\n",
        "    print(\"metrics: {}\".format(r.data.metrics))\n",
        "    print(\"tags: {}\".format(tags))"
      ]
    },
    {
      "cell_type": "code",
      "execution_count": null,
      "metadata": {
        "id": "pbo72KK3q1KS",
        "colab": {
          "base_uri": "https://localhost:8080/"
        },
        "outputId": "5bb358fb-7bf1-4b5b-fe72-c825ab37211e"
      },
      "outputs": [
        {
          "output_type": "stream",
          "name": "stdout",
          "text": [
            "run_id: 89ec783bc2b2439493a2cdce0cfcec66\n",
            "artifacts: ['model/MLmodel', 'model/conda.yaml', 'model/data', 'model/python_env.yaml', 'model/requirements.txt']\n",
            "params: {\n",
            "    \"opt_beta_2\": \"0.999\",\n",
            "    \"epochs\": \"100\",\n",
            "    \"initial_epoch\": \"0\",\n",
            "    \"opt_learning_rate\": \"0.001\",\n",
            "    \"sample_weight\": \"None\",\n",
            "    \"validation_split\": \"0.2\",\n",
            "    \"max_queue_size\": \"10\",\n",
            "    \"shuffle\": \"True\",\n",
            "    \"workers\": \"1\",\n",
            "    \"validation_freq\": \"1\",\n",
            "    \"batch_size\": \"None\",\n",
            "    \"steps_per_epoch\": \"None\",\n",
            "    \"use_multiprocessing\": \"False\",\n",
            "    \"opt_epsilon\": \"1e-07\",\n",
            "    \"opt_name\": \"Adam\",\n",
            "    \"validation_batch_size\": \"None\",\n",
            "    \"class_weight\": \"None\",\n",
            "    \"opt_amsgrad\": \"False\",\n",
            "    \"opt_beta_1\": \"0.9\",\n",
            "    \"validation_steps\": \"None\",\n",
            "    \"opt_decay\": \"0.0\"\n",
            "}\n",
            "metrics: {'loss': 3.734870195388794, 'val_loss': 3.030025005340576}\n",
            "tags: {}\n"
          ]
        }
      ],
      "source": [
        "print_auto_logged_info(\n",
        "    autolog_run\n",
        "    ) "
      ]
    },
    {
      "cell_type": "markdown",
      "metadata": {
        "id": "9BeuP-WP8W1G"
      },
      "source": [
        "5. Optional. Retrieve the best run using [MlflowClient().search_runs()](https://www.mlflow.org/docs/latest/search-runs.html#python)."
      ]
    },
    {
      "cell_type": "code",
      "execution_count": null,
      "metadata": {
        "id": "AmIpgSJbsFD8"
      },
      "outputs": [],
      "source": [
        "from mlflow.entities import ViewType\n",
        "runs = MlflowClient().search_runs(experiment_ids=\"0\",\n",
        "  filter_string=\"\",\n",
        "  run_view_type=ViewType.ACTIVE_ONLY,\n",
        "  max_results=1,\n",
        "  order_by=[\"metrics.accuracy DESC\"])"
      ]
    },
    {
      "cell_type": "code",
      "execution_count": null,
      "metadata": {
        "id": "vh1zQTm3s0P5",
        "colab": {
          "base_uri": "https://localhost:8080/"
        },
        "outputId": "b3eaabf2-b43f-4071-a6e2-f183fd6a0a94"
      },
      "outputs": [
        {
          "output_type": "execute_result",
          "data": {
            "text/plain": [
              "<Run: data=<RunData: metrics={'loss': 3.734870195388794, 'val_loss': 3.030025005340576}, params={'batch_size': 'None',\n",
              " 'class_weight': 'None',\n",
              " 'epochs': '100',\n",
              " 'initial_epoch': '0',\n",
              " 'max_queue_size': '10',\n",
              " 'opt_amsgrad': 'False',\n",
              " 'opt_beta_1': '0.9',\n",
              " 'opt_beta_2': '0.999',\n",
              " 'opt_decay': '0.0',\n",
              " 'opt_epsilon': '1e-07',\n",
              " 'opt_learning_rate': '0.001',\n",
              " 'opt_name': 'Adam',\n",
              " 'sample_weight': 'None',\n",
              " 'shuffle': 'True',\n",
              " 'steps_per_epoch': 'None',\n",
              " 'use_multiprocessing': 'False',\n",
              " 'validation_batch_size': 'None',\n",
              " 'validation_freq': '1',\n",
              " 'validation_split': '0.2',\n",
              " 'validation_steps': 'None',\n",
              " 'workers': '1'}, tags={'mlflow.autologging': 'tensorflow',\n",
              " 'mlflow.log-model.history': '[{\"run_id\": \"89ec783bc2b2439493a2cdce0cfcec66\", '\n",
              "                             '\"artifact_path\": \"model\", \"utc_time_created\": '\n",
              "                             '\"2023-02-03 17:58:12.924287\", \"flavors\": '\n",
              "                             '{\"tensorflow\": {\"code\": null, \"data\": \"data\", '\n",
              "                             '\"model_type\": \"keras\", \"keras_version\": \"2.9.0\", '\n",
              "                             '\"save_format\": \"tf\"}, \"python_function\": '\n",
              "                             '{\"loader_module\": \"mlflow.tensorflow\", '\n",
              "                             '\"python_version\": \"3.8.10\", \"data\": \"data\", '\n",
              "                             '\"env\": {\"conda\": \"conda.yaml\", \"virtualenv\": '\n",
              "                             '\"python_env.yaml\"}}}, \"model_uuid\": '\n",
              "                             '\"7d472b1f7bcc485981eb460485e05096\", '\n",
              "                             '\"mlflow_version\": \"2.1.1\"}]',\n",
              " 'mlflow.runName': 'abundant-zebra-224',\n",
              " 'mlflow.source.name': '/usr/local/lib/python3.8/dist-packages/ipykernel_launcher.py',\n",
              " 'mlflow.source.type': 'LOCAL',\n",
              " 'mlflow.user': 'root'}>, info=<RunInfo: artifact_uri='file:///content/mlruns/0/89ec783bc2b2439493a2cdce0cfcec66/artifacts', end_time=1675447098368, experiment_id='0', lifecycle_stage='active', run_id='89ec783bc2b2439493a2cdce0cfcec66', run_name='abundant-zebra-224', run_uuid='89ec783bc2b2439493a2cdce0cfcec66', start_time=1675447088076, status='FINISHED', user_id='root'>>"
            ]
          },
          "metadata": {},
          "execution_count": 132
        }
      ],
      "source": [
        "runs[0]"
      ]
    },
    {
      "cell_type": "markdown",
      "metadata": {
        "id": "b-EgegmM8W1G"
      },
      "source": [
        "6. To see what's logged in the file system `/content/mlruns/`, click tab `files` in the left sidepanel in Colab. For example, \n",
        "    ```\n",
        "    mlruns\n",
        "    └── 0\n",
        "        ├── 3a5aebdd35ef46fb8dc35b40e542f0a4\n",
        "        │   ├── artifacts\n",
        "        │   ├── meta.yaml\n",
        "        │   ├── metrics\n",
        "        │   ├── params\n",
        "        │   └── tags\n",
        "        ├── c627bc526c4a4c418a8285627e61a16d\n",
        "        │   ├── artifacts\n",
        "        │   ├── meta.yaml\n",
        "        │   ├── metrics\n",
        "        │   ├── params\n",
        "        │   └── tags\n",
        "        └── meta.yaml\n",
        "\n",
        "    11 directories, 3 files\n",
        "    ```\n",
        "\n",
        "    Inspect the model summary of the DNN model you ran previously; it is located at `artifacts/model_summary.txt` of the corresponding run. Use `cat $filepath`. "
      ]
    },
    {
      "cell_type": "code",
      "execution_count": null,
      "metadata": {
        "id": "_MQfSU1guWB5",
        "colab": {
          "base_uri": "https://localhost:8080/"
        },
        "outputId": "641eefd6-30a2-46b7-bbd8-4b145fc39149"
      },
      "outputs": [
        {
          "output_type": "stream",
          "name": "stdout",
          "text": [
            "Model: \"sequential\"\n",
            "_________________________________________________________________\n",
            " Layer (type)                Output Shape              Param #   \n",
            "=================================================================\n",
            " normalization (Normalizatio  (None, 9)                19        \n",
            " n)                                                              \n",
            "                                                                 \n",
            " dense (Dense)               (None, 1)                 10        \n",
            "                                                                 \n",
            "=================================================================\n",
            "Total params: 29\n",
            "Trainable params: 10\n",
            "Non-trainable params: 19\n",
            "_________________________________________________________________"
          ]
        }
      ],
      "source": [
        "!cat /content/mlruns/0/3cb4440e5dbb4e98b670183d45c75a28/artifacts/model_summary.txt"
      ]
    },
    {
      "cell_type": "markdown",
      "metadata": {
        "id": "dZp8rnL0pBnh"
      },
      "source": [
        "7. Tracking UI. \n",
        "\n",
        "    MLflow provides an UI for us to visualize, search and compare runs, as well as download run artifacts or metadata for analysis in other tools. \n",
        "\n",
        "    If your runs are logged to a local mlruns directory, run `mlflow ui` in the directory above it will load the corresponding runs. \n",
        "    \n",
        "    Running localhost server in Colab, however, requires a bit of extra work:\n",
        "    - set up a free account on [ngrok](https://dashboard.ngrok.com/get-started/setup)\n",
        "    - retrieve the authtoken from https://dashboard.ngrok.com/auth and update the code cell below\n",
        "    \n",
        "   **NOTE**. NEVER share your secrets. Best to keep `NGROK_AUTH_TOKEN` as an environment variable and retrieve it via `os.environ.get(\"NGROK_AUTH_TOKEN\")`."
      ]
    },
    {
      "cell_type": "code",
      "execution_count": null,
      "metadata": {
        "id": "E0M6y71efq1I",
        "colab": {
          "base_uri": "https://localhost:8080/"
        },
        "outputId": "0dafc9c6-3249-4f3c-a309-9113d5a87330"
      },
      "outputs": [
        {
          "output_type": "stream",
          "name": "stdout",
          "text": [
            "MLflow Tracking UI: https://be9c-34-125-60-5.ngrok.io\n"
          ]
        }
      ],
      "source": [
        "# run tracking UI in the background\n",
        "get_ipython().system_raw(\"mlflow ui --port 5000 &\") \n",
        "\n",
        "# create remote tunnel using ngrok.com to allow local port access\n",
        "from pyngrok import ngrok\n",
        "# Terminate open tunnels if exist\n",
        "ngrok.kill()\n",
        "\n",
        "# Setting the authtoken (see Note above)\n",
        "NGROK_AUTH_TOKEN = \"2LEyYe1ngts0A3VVlyFtGE8NhfS_ok6zd6JV13tMsBqVyrs7\"\n",
        "ngrok.set_auth_token(NGROK_AUTH_TOKEN)\n",
        "\n",
        "# Open an HTTPs tunnel on port 5000 for http://localhost:5000\n",
        "ngrok_tunnel = ngrok.connect(addr=\"5000\", proto=\"http\", bind_tls=True)\n",
        "print(\"MLflow Tracking UI:\", ngrok_tunnel.public_url)"
      ]
    },
    {
      "cell_type": "markdown",
      "metadata": {
        "id": "4_kE6F5t8W1H"
      },
      "source": [
        "8. Interact with Tracking UI. \n",
        "\n",
        "    Open the link, output from the previous cell. get oriented, `Parameters`, `Metrics`, `Artifacts`, and so on.\n",
        "    \n",
        "    When you are done, make sure to terminate the open tunnel:"
      ]
    },
    {
      "cell_type": "code",
      "execution_count": null,
      "metadata": {
        "id": "k0aY2xWOFAvM"
      },
      "outputs": [],
      "source": [
        "ngrok.kill()"
      ]
    },
    {
      "cell_type": "markdown",
      "metadata": {
        "id": "06DnCpbACGNM"
      },
      "source": [
        "# Task 8 - AutoML with TPOT 🫖"
      ]
    },
    {
      "cell_type": "markdown",
      "metadata": {
        "id": "djIwpag8DsEu"
      },
      "source": [
        "1. Instantiate and train a TPOT auto-ML regressor.\n",
        "\n",
        "  The parameters are set fairly arbitrarily (if time permits, you shall experiment with different sets of parameters after reading [what each parameter does](http://epistasislab.github.io/tpot/api/#regression)). Use these parameter values:\n",
        "\n",
        "  `generations`: 10\n",
        "\n",
        "  `population_size`: 40\n",
        "\n",
        "  `scoring`: negative mean absolute error; read more in [scoring functions in TPOT](http://epistasislab.github.io/tpot/using/#scoring-functions)\n",
        "\n",
        "  `verbosity`: 2 (so you can see each generation's performance)\n",
        "\n",
        "  The final line with create a Python script tpot_products_pipeline.py with the code to create the optimal model found by TPOT."
      ]
    },
    {
      "cell_type": "code",
      "execution_count": null,
      "metadata": {
        "id": "IvJpNXHg_RS5",
        "colab": {
          "base_uri": "https://localhost:8080/",
          "height": 488,
          "referenced_widgets": [
            "4db6694efed546c8b9acb8ff73cb52e8",
            "1c4fb8c70b884efaa7e078a7785fcf85",
            "df487b29c50648c2881978436e69fc45",
            "578f401aa7904b2dbad9a7e7e8e93637",
            "8be316a285a44e1381a530747491af39",
            "eb1ab966ae4c424ab3ca7897b0573123",
            "a6f7b6c4d751478cb52c47c9c1d6d244",
            "54169abed65649dc8ff841d4719dc458",
            "efa0c526363148a3aad180b6cd5c7ba2",
            "db57a1fb61e64b9c8e8b58739893efe5",
            "38395a4c91394a4ca119f3f0301e4900"
          ]
        },
        "outputId": "87d8b53f-599e-49df-ffa7-9b1a13300ed1"
      },
      "outputs": [
        {
          "output_type": "display_data",
          "data": {
            "text/plain": [
              "Optimization Progress:   0%|          | 0/440 [00:00<?, ?pipeline/s]"
            ],
            "application/vnd.jupyter.widget-view+json": {
              "version_major": 2,
              "version_minor": 0,
              "model_id": "4db6694efed546c8b9acb8ff73cb52e8"
            }
          },
          "metadata": {}
        },
        {
          "output_type": "stream",
          "name": "stdout",
          "text": [
            "\n",
            "Generation 1 - Current best internal CV score: -8.183375058339163\n",
            "\n",
            "Generation 2 - Current best internal CV score: -8.183375058339163\n",
            "\n",
            "Generation 3 - Current best internal CV score: -7.990295607760729\n",
            "\n",
            "Generation 4 - Current best internal CV score: -7.990295607760729\n",
            "\n",
            "Generation 5 - Current best internal CV score: -7.990295607760729\n",
            "\n",
            "Generation 6 - Current best internal CV score: -7.990295607760729\n",
            "\n",
            "Generation 7 - Current best internal CV score: -7.8199389732116105\n",
            "\n",
            "Generation 8 - Current best internal CV score: -7.8199389732116105\n",
            "\n",
            "Generation 9 - Current best internal CV score: -7.8199389732116105\n",
            "\n",
            "Generation 10 - Current best internal CV score: -7.8199389732116105\n",
            "\n",
            "Best pipeline: ElasticNetCV(MinMaxScaler(ExtraTreesRegressor(input_matrix, bootstrap=True, max_features=0.9000000000000001, min_samples_leaf=15, min_samples_split=17, n_estimators=100)), l1_ratio=1.0, tol=0.001)\n",
            "Tpop score on test data: -7.19\n",
            "CPU times: user 6min 4s, sys: 16.7 s, total: 6min 20s\n",
            "Wall time: 7min 5s\n"
          ]
        },
        {
          "output_type": "stream",
          "name": "stderr",
          "text": [
            "X does not have valid feature names, but ExtraTreesRegressor was fitted with feature names\n"
          ]
        }
      ],
      "source": [
        "%%time\n",
        "from tpot import TPOTRegressor\n",
        "tpot = TPOTRegressor(generations=10, \n",
        "                     population_size=40,\n",
        "                     scoring='neg_mean_squared_error',\n",
        "                     verbosity=2,\n",
        "                     random_state=42)\n",
        "tpot.fit(train_features, train_labels)\n",
        "print(f\"Tpop score on test data: {tpot.score(test_features, test_labels):.2f}\")\n",
        "tpot.export('tpot_mpg_pipeline.py')"
      ]
    },
    {
      "cell_type": "markdown",
      "metadata": {
        "id": "1Ne0SBfZIwsF"
      },
      "source": [
        "2. Examine the model pipeline that TPOT regressor offers. If you see any model, function, or class that are not familiar, look them up! \n",
        "\n",
        "  Note: There is randomness to the way the TPOT searches, so it's possible you won't have exactly the same result as your classmate. "
      ]
    },
    {
      "cell_type": "code",
      "execution_count": null,
      "metadata": {
        "id": "3LdJz0Bfg7Sg",
        "colab": {
          "base_uri": "https://localhost:8080/"
        },
        "outputId": "711238ea-a889-4519-ce83-6fda4e7c487f"
      },
      "outputs": [
        {
          "output_type": "stream",
          "name": "stdout",
          "text": [
            "import numpy as np\n",
            "import pandas as pd\n",
            "from sklearn.ensemble import ExtraTreesRegressor\n",
            "from sklearn.linear_model import ElasticNetCV\n",
            "from sklearn.model_selection import train_test_split\n",
            "from sklearn.pipeline import make_pipeline, make_union\n",
            "from sklearn.preprocessing import MinMaxScaler\n",
            "from tpot.builtins import StackingEstimator\n",
            "from tpot.export_utils import set_param_recursive\n",
            "\n",
            "# NOTE: Make sure that the outcome column is labeled 'target' in the data file\n",
            "tpot_data = pd.read_csv('PATH/TO/DATA/FILE', sep='COLUMN_SEPARATOR', dtype=np.float64)\n",
            "features = tpot_data.drop('target', axis=1)\n",
            "training_features, testing_features, training_target, testing_target = \\\n",
            "            train_test_split(features, tpot_data['target'], random_state=42)\n",
            "\n",
            "# Average CV score on the training set was: -7.8199389732116105\n",
            "exported_pipeline = make_pipeline(\n",
            "    StackingEstimator(estimator=ExtraTreesRegressor(bootstrap=True, max_features=0.9000000000000001, min_samples_leaf=15, min_samples_split=17, n_estimators=100)),\n",
            "    MinMaxScaler(),\n",
            "    ElasticNetCV(l1_ratio=1.0, tol=0.001)\n",
            ")\n",
            "# Fix random state for all the steps in exported pipeline\n",
            "set_param_recursive(exported_pipeline.steps, 'random_state', 42)\n",
            "\n",
            "exported_pipeline.fit(training_features, training_target)\n",
            "results = exported_pipeline.predict(testing_features)\n"
          ]
        }
      ],
      "source": [
        "cat tpot_mpg_pipeline.py"
      ]
    },
    {
      "cell_type": "markdown",
      "metadata": {
        "id": "hNsj_X6zJzb5"
      },
      "source": [
        "3. Take the appropriate lines (e.g., updating path to data and the variable names) from `tpot_mpg_pipeline.py` to build a model on our training set and make predictions on the test set. \n",
        "Save the predictions as `y_pred`, and compute appropriate evaluation metric. \n",
        "You may find that for this simple data set, the neural network we built outperforms the tree-based model, yet note it is not a conclusion that we can generalize for all tabular data. "
      ]
    },
    {
      "cell_type": "code",
      "source": [
        "import numpy as np\n",
        "import pandas as pd\n",
        "from sklearn.ensemble import ExtraTreesRegressor\n",
        "from sklearn.linear_model import ElasticNetCV\n",
        "from sklearn.model_selection import train_test_split\n",
        "from sklearn.pipeline import make_pipeline, make_union\n",
        "from sklearn.preprocessing import MinMaxScaler\n",
        "from tpot.builtins import StackingEstimator\n",
        "from tpot.export_utils import set_param_recursive\n",
        "\n",
        "# NOTE: Make sure that the outcome column is labeled 'target' in the data file\n",
        "tpot_data = dataset\n",
        "dataset.rename(columns = {\"MPG\" : \"target\"}, inplace = True)\n",
        "features = tpot_data.drop('target', axis=1)\n",
        "training_features, testing_features, training_target, testing_target = \\\n",
        "            train_test_split(features, tpot_data['target'], random_state=42)\n",
        "\n",
        "# Average CV score on the training set was: -7.8199389732116105\n",
        "exported_pipeline = make_pipeline(\n",
        "    StackingEstimator(estimator=ExtraTreesRegressor(bootstrap=True, max_features=0.9000000000000001, min_samples_leaf=15, min_samples_split=17, n_estimators=100)),\n",
        "    MinMaxScaler(),\n",
        "    ElasticNetCV(l1_ratio=1.0, tol=0.001)\n",
        ")\n",
        "# Fix random state for all the steps in exported pipeline\n",
        "set_param_recursive(exported_pipeline.steps, 'random_state', 42)\n",
        "\n",
        "exported_pipeline.fit(training_features, training_target)\n",
        "y_pred = exported_pipeline.predict(testing_features)"
      ],
      "metadata": {
        "colab": {
          "base_uri": "https://localhost:8080/"
        },
        "id": "B4uOWESe2kZ_",
        "outputId": "3bf94a49-db36-40b3-caea-61fcc464b598"
      },
      "execution_count": null,
      "outputs": [
        {
          "output_type": "stream",
          "name": "stderr",
          "text": [
            "X does not have valid feature names, but ExtraTreesRegressor was fitted with feature names\n",
            "X does not have valid feature names, but ExtraTreesRegressor was fitted with feature names\n"
          ]
        }
      ]
    },
    {
      "cell_type": "code",
      "source": [
        "exported_pipeline.score(testing_features, testing_target)"
      ],
      "metadata": {
        "colab": {
          "base_uri": "https://localhost:8080/"
        },
        "id": "7M5Q2bKZvBBJ",
        "outputId": "ef389034-227f-40e2-b5cf-d2c141796600"
      },
      "execution_count": null,
      "outputs": [
        {
          "output_type": "stream",
          "name": "stderr",
          "text": [
            "X does not have valid feature names, but ExtraTreesRegressor was fitted with feature names\n"
          ]
        },
        {
          "output_type": "execute_result",
          "data": {
            "text/plain": [
              "0.8742100808556967"
            ]
          },
          "metadata": {},
          "execution_count": 226
        }
      ]
    },
    {
      "cell_type": "markdown",
      "metadata": {
        "id": "aUEekD-ZtmWL"
      },
      "source": [
        "# Task 9 - Model Explainability\n",
        "\n",
        "Last week, we introduced model explainability with SHAP and will continue to incorporate it as part our model output this week.  You can use the [Kernel Explainer](https://shap.readthedocs.io/en/latest/example_notebooks/tabular_examples/neural_networks/Census%20income%20classification%20with%20Keras.html) for explainability of both the Neural Networks and the TPOT classifier.  "
      ]
    },
    {
      "cell_type": "code",
      "execution_count": null,
      "metadata": {
        "id": "80mtSb2mtmWL",
        "colab": {
          "base_uri": "https://localhost:8080/",
          "height": 1000,
          "referenced_widgets": [
            "5aba372ed41045ab81703c7ba8e212c2",
            "c97fe821081d42a5b7cd579b7fa224f1",
            "f53316b3946e474a8924ee044b00e52c",
            "06f30d1495cc4b959830b3cdda7ed6f5",
            "f4f888c6d3cf452db9ee9f637f4b9e3b",
            "612e73372c774aaf8b15aecaaf2c4320",
            "783201be9043422caec715c6e542a3c0",
            "8530cf055b2f4fcea570ce84a7fb58c5",
            "67845831fd0343b3959cae72c552f5ef",
            "2de443a3aa52404abc0881fc310d9db4",
            "e368c830ad084fa9afc0b866e3caf246"
          ]
        },
        "outputId": "17d994a7-6da8-40a4-b05a-158bc621395b"
      },
      "outputs": [
        {
          "output_type": "stream",
          "name": "stdout",
          "text": [
            "3/3 [==============================] - 0s 10ms/step\n"
          ]
        },
        {
          "output_type": "display_data",
          "data": {
            "text/plain": [
              "  0%|          | 0/78 [00:00<?, ?it/s]"
            ],
            "application/vnd.jupyter.widget-view+json": {
              "version_major": 2,
              "version_minor": 0,
              "model_id": "5aba372ed41045ab81703c7ba8e212c2"
            }
          },
          "metadata": {}
        },
        {
          "output_type": "stream",
          "name": "stdout",
          "text": [
            "1/1 [==============================] - 0s 89ms/step\n",
            "1244/1244 [==============================] - 7s 6ms/step\n",
            "1/1 [==============================] - 0s 131ms/step\n",
            "1244/1244 [==============================] - 7s 5ms/step\n",
            "1/1 [==============================] - 0s 29ms/step\n",
            "1244/1244 [==============================] - 5s 4ms/step\n",
            "1/1 [==============================] - 0s 30ms/step\n",
            "1244/1244 [==============================] - 4s 3ms/step\n",
            "1/1 [==============================] - 0s 39ms/step\n",
            "1244/1244 [==============================] - 4s 3ms/step\n",
            "1/1 [==============================] - 0s 49ms/step\n",
            "1244/1244 [==============================] - 2s 1ms/step\n",
            "1/1 [==============================] - 0s 24ms/step\n",
            "1244/1244 [==============================] - 2s 1ms/step\n",
            "1/1 [==============================] - 0s 22ms/step\n",
            "1244/1244 [==============================] - 2s 1ms/step\n",
            "1/1 [==============================] - 0s 17ms/step\n",
            "1244/1244 [==============================] - 2s 1ms/step\n",
            "1/1 [==============================] - 0s 34ms/step\n",
            "1244/1244 [==============================] - 2s 1ms/step\n",
            "1/1 [==============================] - 0s 23ms/step\n",
            "1244/1244 [==============================] - 2s 1ms/step\n",
            "1/1 [==============================] - 0s 24ms/step\n",
            "1244/1244 [==============================] - 2s 1ms/step\n",
            "1/1 [==============================] - 0s 31ms/step\n",
            "1244/1244 [==============================] - 3s 2ms/step\n",
            "1/1 [==============================] - 0s 26ms/step\n",
            "1244/1244 [==============================] - 4s 3ms/step\n",
            "1/1 [==============================] - 0s 26ms/step\n",
            "1244/1244 [==============================] - 4s 3ms/step\n",
            "1/1 [==============================] - 0s 29ms/step\n",
            "1244/1244 [==============================] - 2s 1ms/step\n",
            "1/1 [==============================] - 0s 24ms/step\n",
            "1244/1244 [==============================] - 2s 1ms/step\n",
            "1/1 [==============================] - 0s 22ms/step\n",
            "1244/1244 [==============================] - 2s 1ms/step\n",
            "1/1 [==============================] - 0s 23ms/step\n",
            "1244/1244 [==============================] - 2s 1ms/step\n",
            "1/1 [==============================] - 0s 28ms/step\n",
            "1244/1244 [==============================] - 2s 1ms/step\n",
            "1/1 [==============================] - 0s 25ms/step\n",
            "1244/1244 [==============================] - 2s 1ms/step\n",
            "1/1 [==============================] - 0s 30ms/step\n",
            "1244/1244 [==============================] - 2s 2ms/step\n",
            "1/1 [==============================] - 0s 37ms/step\n",
            "1244/1244 [==============================] - 6s 5ms/step\n",
            "1/1 [==============================] - 0s 30ms/step\n",
            "1244/1244 [==============================] - 4s 3ms/step\n",
            "1/1 [==============================] - 0s 24ms/step\n",
            "1244/1244 [==============================] - 2s 1ms/step\n",
            "1/1 [==============================] - 0s 29ms/step\n",
            "1244/1244 [==============================] - 2s 1ms/step\n",
            "1/1 [==============================] - 0s 19ms/step\n",
            "1244/1244 [==============================] - 2s 1ms/step\n",
            "1/1 [==============================] - 0s 18ms/step\n",
            "1244/1244 [==============================] - 2s 1ms/step\n",
            "1/1 [==============================] - 0s 21ms/step\n",
            "1244/1244 [==============================] - 2s 1ms/step\n",
            "1/1 [==============================] - 0s 42ms/step\n",
            "1244/1244 [==============================] - 2s 1ms/step\n",
            "1/1 [==============================] - 0s 24ms/step\n",
            "1244/1244 [==============================] - 3s 3ms/step\n",
            "1/1 [==============================] - 0s 129ms/step\n",
            "1244/1244 [==============================] - 5s 4ms/step\n",
            "1/1 [==============================] - 0s 35ms/step\n",
            "1244/1244 [==============================] - 3s 2ms/step\n",
            "1/1 [==============================] - 0s 22ms/step\n",
            "1244/1244 [==============================] - 2s 1ms/step\n",
            "1/1 [==============================] - 0s 24ms/step\n",
            "1244/1244 [==============================] - 2s 1ms/step\n",
            "1/1 [==============================] - 0s 23ms/step\n",
            "1244/1244 [==============================] - 2s 1ms/step\n",
            "1/1 [==============================] - 0s 23ms/step\n",
            "1244/1244 [==============================] - 2s 1ms/step\n",
            "1/1 [==============================] - 0s 24ms/step\n",
            "1244/1244 [==============================] - 2s 2ms/step\n",
            "1/1 [==============================] - 0s 23ms/step\n",
            "1244/1244 [==============================] - 2s 2ms/step\n",
            "1/1 [==============================] - 0s 39ms/step\n",
            "1244/1244 [==============================] - 4s 3ms/step\n",
            "1/1 [==============================] - 0s 27ms/step\n",
            "1244/1244 [==============================] - 4s 3ms/step\n",
            "1/1 [==============================] - 0s 27ms/step\n",
            "1244/1244 [==============================] - 2s 2ms/step\n",
            "1/1 [==============================] - 0s 22ms/step\n",
            "1244/1244 [==============================] - 2s 1ms/step\n",
            "1/1 [==============================] - 0s 23ms/step\n",
            "1244/1244 [==============================] - 2s 2ms/step\n",
            "1/1 [==============================] - 0s 22ms/step\n",
            "1244/1244 [==============================] - 2s 1ms/step\n",
            "1/1 [==============================] - 0s 22ms/step\n",
            "1244/1244 [==============================] - 2s 1ms/step\n",
            "1/1 [==============================] - 0s 22ms/step\n",
            "1244/1244 [==============================] - 2s 2ms/step\n",
            "1/1 [==============================] - 0s 23ms/step\n",
            "1244/1244 [==============================] - 2s 1ms/step\n",
            "1/1 [==============================] - 0s 23ms/step\n",
            "1244/1244 [==============================] - 3s 3ms/step\n",
            "1/1 [==============================] - 0s 43ms/step\n",
            "1244/1244 [==============================] - 4s 3ms/step\n",
            "1/1 [==============================] - 0s 64ms/step\n",
            "1244/1244 [==============================] - 2s 2ms/step\n",
            "1/1 [==============================] - 0s 23ms/step\n",
            "1244/1244 [==============================] - 2s 2ms/step\n",
            "1/1 [==============================] - 0s 25ms/step\n",
            "1244/1244 [==============================] - 2s 2ms/step\n",
            "1/1 [==============================] - 0s 22ms/step\n",
            "1244/1244 [==============================] - 2s 1ms/step\n",
            "1/1 [==============================] - 0s 25ms/step\n",
            "1244/1244 [==============================] - 2s 1ms/step\n",
            "1/1 [==============================] - 0s 23ms/step\n",
            "1244/1244 [==============================] - 2s 1ms/step\n",
            "1/1 [==============================] - 0s 23ms/step\n",
            "1244/1244 [==============================] - 2s 1ms/step\n",
            "1/1 [==============================] - 0s 29ms/step\n",
            "1244/1244 [==============================] - 2s 2ms/step\n",
            "1/1 [==============================] - 0s 29ms/step\n",
            "1244/1244 [==============================] - 4s 3ms/step\n",
            "1/1 [==============================] - 0s 25ms/step\n",
            "1244/1244 [==============================] - 4s 3ms/step\n",
            "1/1 [==============================] - 0s 25ms/step\n",
            "1244/1244 [==============================] - 2s 1ms/step\n",
            "1/1 [==============================] - 0s 25ms/step\n",
            "1244/1244 [==============================] - 2s 1ms/step\n",
            "1/1 [==============================] - 0s 24ms/step\n",
            "1244/1244 [==============================] - 2s 1ms/step\n",
            "1/1 [==============================] - 0s 29ms/step\n",
            "1244/1244 [==============================] - 2s 1ms/step\n",
            "1/1 [==============================] - 0s 22ms/step\n",
            "1244/1244 [==============================] - 2s 1ms/step\n",
            "1/1 [==============================] - 0s 24ms/step\n",
            "1244/1244 [==============================] - 2s 1ms/step\n",
            "1/1 [==============================] - 0s 26ms/step\n",
            "1244/1244 [==============================] - 2s 1ms/step\n",
            "1/1 [==============================] - 0s 24ms/step\n",
            "1244/1244 [==============================] - 3s 2ms/step\n",
            "1/1 [==============================] - 0s 24ms/step\n",
            "1244/1244 [==============================] - 4s 3ms/step\n",
            "1/1 [==============================] - 0s 23ms/step\n",
            "1244/1244 [==============================] - 2s 1ms/step\n",
            "1/1 [==============================] - 0s 22ms/step\n",
            "1244/1244 [==============================] - 2s 1ms/step\n",
            "1/1 [==============================] - 0s 24ms/step\n",
            "1244/1244 [==============================] - 2s 1ms/step\n",
            "1/1 [==============================] - 0s 24ms/step\n",
            "1244/1244 [==============================] - 2s 1ms/step\n",
            "1/1 [==============================] - 0s 24ms/step\n",
            "1244/1244 [==============================] - 2s 1ms/step\n",
            "1/1 [==============================] - 0s 22ms/step\n",
            "1244/1244 [==============================] - 2s 1ms/step\n",
            "1/1 [==============================] - 0s 36ms/step\n",
            "1244/1244 [==============================] - 2s 1ms/step\n",
            "1/1 [==============================] - 0s 19ms/step\n",
            "1244/1244 [==============================] - 2s 2ms/step\n",
            "1/1 [==============================] - 0s 32ms/step\n",
            "1244/1244 [==============================] - 3s 3ms/step\n"
          ]
        },
        {
          "output_type": "display_data",
          "data": {
            "text/plain": [
              "<Figure size 576x367.2 with 1 Axes>"
            ],
            "image/png": "[encoded data removed]"
          },
          "metadata": {
            "needs_background": "light"
          }
        }
      ],
      "source": [
        "import shap\n",
        "dnn_explainer = shap.KernelExplainer(dnn_model.predict, test_features)\n",
        "shap_values = dnn_explainer.shap_values(test_features, nsample = 100)\n",
        "# shap_values = explainer(test_features)\n",
        "shap.summary_plot(shap_values)"
      ]
    },
    {
      "cell_type": "code",
      "source": [
        "tpot_explainer = shap.KernelExplainer(exported_pipeline.predict, testing_features)\n",
        "tpot_shap_values = tpot_explainer.shap_values(testing_features, nsample = 100)\n",
        "shap.summary_plot(tpot_shap_values)"
      ],
      "metadata": {
        "colab": {
          "base_uri": "https://localhost:8080/",
          "height": 1000,
          "referenced_widgets": [
            "05ffbe67f30f4397bd2074438998ffa6",
            "51608f17ffae4bdb82f9a57097e35637",
            "38cc1c59c6da482c97d1f6a1b995ca7f",
            "e79eb98a83af4b29b5c682c5c74bdb25",
            "eb52c2849fe841d499bf7653d50b0805",
            "14cd209223ce434bbd81421080190a93",
            "48a9b5ab23aa4fa084b5d418c7ef3729",
            "1f39bca0149a4824b9ff87af024fcbf5",
            "83f323ff0463434b9bcd3d607334437d",
            "d7bb9ebfe3ef4c6da1f80602909a885b",
            "859b8b1215bc4805b02610a6028456c9"
          ]
        },
        "id": "3RmrL_xNEk1N",
        "outputId": "09ab476a-f4ed-4e05-9f6f-c8bab30e1d1f"
      },
      "execution_count": null,
      "outputs": [
        {
          "output_type": "stream",
          "name": "stderr",
          "text": [
            "X does not have valid feature names, but RobustScaler was fitted with feature names\n"
          ]
        },
        {
          "output_type": "display_data",
          "data": {
            "text/plain": [
              "  0%|          | 0/98 [00:00<?, ?it/s]"
            ],
            "application/vnd.jupyter.widget-view+json": {
              "version_major": 2,
              "version_minor": 0,
              "model_id": "05ffbe67f30f4397bd2074438998ffa6"
            }
          },
          "metadata": {}
        },
        {
          "output_type": "stream",
          "name": "stderr",
          "text": [
            "X does not have valid feature names, but RobustScaler was fitted with feature names\n",
            "X does not have valid feature names, but RobustScaler was fitted with feature names\n",
            "X does not have valid feature names, but RobustScaler was fitted with feature names\n",
            "X does not have valid feature names, but RobustScaler was fitted with feature names\n",
            "X does not have valid feature names, but RobustScaler was fitted with feature names\n",
            "X does not have valid feature names, but RobustScaler was fitted with feature names\n",
            "X does not have valid feature names, but RobustScaler was fitted with feature names\n",
            "X does not have valid feature names, but RobustScaler was fitted with feature names\n",
            "X does not have valid feature names, but RobustScaler was fitted with feature names\n",
            "X does not have valid feature names, but RobustScaler was fitted with feature names\n",
            "X does not have valid feature names, but RobustScaler was fitted with feature names\n",
            "X does not have valid feature names, but RobustScaler was fitted with feature names\n",
            "X does not have valid feature names, but RobustScaler was fitted with feature names\n",
            "X does not have valid feature names, but RobustScaler was fitted with feature names\n",
            "X does not have valid feature names, but RobustScaler was fitted with feature names\n",
            "X does not have valid feature names, but RobustScaler was fitted with feature names\n",
            "X does not have valid feature names, but RobustScaler was fitted with feature names\n",
            "X does not have valid feature names, but RobustScaler was fitted with feature names\n",
            "X does not have valid feature names, but RobustScaler was fitted with feature names\n",
            "X does not have valid feature names, but RobustScaler was fitted with feature names\n",
            "X does not have valid feature names, but RobustScaler was fitted with feature names\n",
            "X does not have valid feature names, but RobustScaler was fitted with feature names\n",
            "X does not have valid feature names, but RobustScaler was fitted with feature names\n",
            "X does not have valid feature names, but RobustScaler was fitted with feature names\n",
            "X does not have valid feature names, but RobustScaler was fitted with feature names\n",
            "X does not have valid feature names, but RobustScaler was fitted with feature names\n",
            "X does not have valid feature names, but RobustScaler was fitted with feature names\n",
            "X does not have valid feature names, but RobustScaler was fitted with feature names\n",
            "X does not have valid feature names, but RobustScaler was fitted with feature names\n",
            "X does not have valid feature names, but RobustScaler was fitted with feature names\n",
            "X does not have valid feature names, but RobustScaler was fitted with feature names\n",
            "X does not have valid feature names, but RobustScaler was fitted with feature names\n",
            "X does not have valid feature names, but RobustScaler was fitted with feature names\n",
            "X does not have valid feature names, but RobustScaler was fitted with feature names\n",
            "X does not have valid feature names, but RobustScaler was fitted with feature names\n",
            "X does not have valid feature names, but RobustScaler was fitted with feature names\n",
            "X does not have valid feature names, but RobustScaler was fitted with feature names\n",
            "X does not have valid feature names, but RobustScaler was fitted with feature names\n",
            "X does not have valid feature names, but RobustScaler was fitted with feature names\n",
            "X does not have valid feature names, but RobustScaler was fitted with feature names\n",
            "X does not have valid feature names, but RobustScaler was fitted with feature names\n",
            "X does not have valid feature names, but RobustScaler was fitted with feature names\n",
            "X does not have valid feature names, but RobustScaler was fitted with feature names\n",
            "X does not have valid feature names, but RobustScaler was fitted with feature names\n",
            "X does not have valid feature names, but RobustScaler was fitted with feature names\n",
            "X does not have valid feature names, but RobustScaler was fitted with feature names\n",
            "X does not have valid feature names, but RobustScaler was fitted with feature names\n",
            "X does not have valid feature names, but RobustScaler was fitted with feature names\n",
            "X does not have valid feature names, but RobustScaler was fitted with feature names\n",
            "X does not have valid feature names, but RobustScaler was fitted with feature names\n",
            "X does not have valid feature names, but RobustScaler was fitted with feature names\n",
            "X does not have valid feature names, but RobustScaler was fitted with feature names\n",
            "X does not have valid feature names, but RobustScaler was fitted with feature names\n",
            "X does not have valid feature names, but RobustScaler was fitted with feature names\n",
            "X does not have valid feature names, but RobustScaler was fitted with feature names\n",
            "X does not have valid feature names, but RobustScaler was fitted with feature names\n",
            "X does not have valid feature names, but RobustScaler was fitted with feature names\n",
            "X does not have valid feature names, but RobustScaler was fitted with feature names\n",
            "X does not have valid feature names, but RobustScaler was fitted with feature names\n",
            "X does not have valid feature names, but RobustScaler was fitted with feature names\n",
            "X does not have valid feature names, but RobustScaler was fitted with feature names\n",
            "X does not have valid feature names, but RobustScaler was fitted with feature names\n",
            "X does not have valid feature names, but RobustScaler was fitted with feature names\n",
            "X does not have valid feature names, but RobustScaler was fitted with feature names\n",
            "X does not have valid feature names, but RobustScaler was fitted with feature names\n",
            "X does not have valid feature names, but RobustScaler was fitted with feature names\n",
            "X does not have valid feature names, but RobustScaler was fitted with feature names\n",
            "X does not have valid feature names, but RobustScaler was fitted with feature names\n",
            "X does not have valid feature names, but RobustScaler was fitted with feature names\n",
            "X does not have valid feature names, but RobustScaler was fitted with feature names\n",
            "X does not have valid feature names, but RobustScaler was fitted with feature names\n",
            "X does not have valid feature names, but RobustScaler was fitted with feature names\n",
            "X does not have valid feature names, but RobustScaler was fitted with feature names\n",
            "X does not have valid feature names, but RobustScaler was fitted with feature names\n",
            "X does not have valid feature names, but RobustScaler was fitted with feature names\n",
            "X does not have valid feature names, but RobustScaler was fitted with feature names\n",
            "X does not have valid feature names, but RobustScaler was fitted with feature names\n",
            "X does not have valid feature names, but RobustScaler was fitted with feature names\n",
            "X does not have valid feature names, but RobustScaler was fitted with feature names\n",
            "X does not have valid feature names, but RobustScaler was fitted with feature names\n",
            "X does not have valid feature names, but RobustScaler was fitted with feature names\n",
            "X does not have valid feature names, but RobustScaler was fitted with feature names\n",
            "X does not have valid feature names, but RobustScaler was fitted with feature names\n",
            "X does not have valid feature names, but RobustScaler was fitted with feature names\n",
            "X does not have valid feature names, but RobustScaler was fitted with feature names\n",
            "X does not have valid feature names, but RobustScaler was fitted with feature names\n",
            "X does not have valid feature names, but RobustScaler was fitted with feature names\n",
            "X does not have valid feature names, but RobustScaler was fitted with feature names\n",
            "X does not have valid feature names, but RobustScaler was fitted with feature names\n",
            "X does not have valid feature names, but RobustScaler was fitted with feature names\n",
            "X does not have valid feature names, but RobustScaler was fitted with feature names\n",
            "X does not have valid feature names, but RobustScaler was fitted with feature names\n",
            "X does not have valid feature names, but RobustScaler was fitted with feature names\n",
            "X does not have valid feature names, but RobustScaler was fitted with feature names\n",
            "X does not have valid feature names, but RobustScaler was fitted with feature names\n",
            "X does not have valid feature names, but RobustScaler was fitted with feature names\n",
            "X does not have valid feature names, but RobustScaler was fitted with feature names\n",
            "X does not have valid feature names, but RobustScaler was fitted with feature names\n",
            "X does not have valid feature names, but RobustScaler was fitted with feature names\n",
            "X does not have valid feature names, but RobustScaler was fitted with feature names\n",
            "X does not have valid feature names, but RobustScaler was fitted with feature names\n",
            "X does not have valid feature names, but RobustScaler was fitted with feature names\n",
            "X does not have valid feature names, but RobustScaler was fitted with feature names\n",
            "X does not have valid feature names, but RobustScaler was fitted with feature names\n",
            "X does not have valid feature names, but RobustScaler was fitted with feature names\n",
            "X does not have valid feature names, but RobustScaler was fitted with feature names\n",
            "X does not have valid feature names, but RobustScaler was fitted with feature names\n",
            "X does not have valid feature names, but RobustScaler was fitted with feature names\n",
            "X does not have valid feature names, but RobustScaler was fitted with feature names\n",
            "X does not have valid feature names, but RobustScaler was fitted with feature names\n",
            "X does not have valid feature names, but RobustScaler was fitted with feature names\n",
            "X does not have valid feature names, but RobustScaler was fitted with feature names\n",
            "X does not have valid feature names, but RobustScaler was fitted with feature names\n",
            "X does not have valid feature names, but RobustScaler was fitted with feature names\n",
            "X does not have valid feature names, but RobustScaler was fitted with feature names\n",
            "X does not have valid feature names, but RobustScaler was fitted with feature names\n",
            "X does not have valid feature names, but RobustScaler was fitted with feature names\n",
            "X does not have valid feature names, but RobustScaler was fitted with feature names\n",
            "X does not have valid feature names, but RobustScaler was fitted with feature names\n",
            "X does not have valid feature names, but RobustScaler was fitted with feature names\n",
            "X does not have valid feature names, but RobustScaler was fitted with feature names\n",
            "X does not have valid feature names, but RobustScaler was fitted with feature names\n",
            "X does not have valid feature names, but RobustScaler was fitted with feature names\n",
            "X does not have valid feature names, but RobustScaler was fitted with feature names\n",
            "X does not have valid feature names, but RobustScaler was fitted with feature names\n",
            "X does not have valid feature names, but RobustScaler was fitted with feature names\n",
            "X does not have valid feature names, but RobustScaler was fitted with feature names\n",
            "X does not have valid feature names, but RobustScaler was fitted with feature names\n",
            "X does not have valid feature names, but RobustScaler was fitted with feature names\n",
            "X does not have valid feature names, but RobustScaler was fitted with feature names\n",
            "X does not have valid feature names, but RobustScaler was fitted with feature names\n",
            "X does not have valid feature names, but RobustScaler was fitted with feature names\n",
            "X does not have valid feature names, but RobustScaler was fitted with feature names\n",
            "X does not have valid feature names, but RobustScaler was fitted with feature names\n",
            "X does not have valid feature names, but RobustScaler was fitted with feature names\n",
            "X does not have valid feature names, but RobustScaler was fitted with feature names\n",
            "X does not have valid feature names, but RobustScaler was fitted with feature names\n",
            "X does not have valid feature names, but RobustScaler was fitted with feature names\n",
            "X does not have valid feature names, but RobustScaler was fitted with feature names\n",
            "X does not have valid feature names, but RobustScaler was fitted with feature names\n",
            "X does not have valid feature names, but RobustScaler was fitted with feature names\n",
            "X does not have valid feature names, but RobustScaler was fitted with feature names\n",
            "X does not have valid feature names, but RobustScaler was fitted with feature names\n",
            "X does not have valid feature names, but RobustScaler was fitted with feature names\n",
            "X does not have valid feature names, but RobustScaler was fitted with feature names\n",
            "X does not have valid feature names, but RobustScaler was fitted with feature names\n",
            "X does not have valid feature names, but RobustScaler was fitted with feature names\n",
            "X does not have valid feature names, but RobustScaler was fitted with feature names\n",
            "X does not have valid feature names, but RobustScaler was fitted with feature names\n",
            "X does not have valid feature names, but RobustScaler was fitted with feature names\n",
            "X does not have valid feature names, but RobustScaler was fitted with feature names\n",
            "X does not have valid feature names, but RobustScaler was fitted with feature names\n",
            "X does not have valid feature names, but RobustScaler was fitted with feature names\n",
            "X does not have valid feature names, but RobustScaler was fitted with feature names\n",
            "X does not have valid feature names, but RobustScaler was fitted with feature names\n",
            "X does not have valid feature names, but RobustScaler was fitted with feature names\n",
            "X does not have valid feature names, but RobustScaler was fitted with feature names\n",
            "X does not have valid feature names, but RobustScaler was fitted with feature names\n",
            "X does not have valid feature names, but RobustScaler was fitted with feature names\n",
            "X does not have valid feature names, but RobustScaler was fitted with feature names\n",
            "X does not have valid feature names, but RobustScaler was fitted with feature names\n",
            "X does not have valid feature names, but RobustScaler was fitted with feature names\n",
            "X does not have valid feature names, but RobustScaler was fitted with feature names\n",
            "X does not have valid feature names, but RobustScaler was fitted with feature names\n",
            "X does not have valid feature names, but RobustScaler was fitted with feature names\n",
            "X does not have valid feature names, but RobustScaler was fitted with feature names\n",
            "X does not have valid feature names, but RobustScaler was fitted with feature names\n",
            "X does not have valid feature names, but RobustScaler was fitted with feature names\n",
            "X does not have valid feature names, but RobustScaler was fitted with feature names\n",
            "X does not have valid feature names, but RobustScaler was fitted with feature names\n",
            "X does not have valid feature names, but RobustScaler was fitted with feature names\n",
            "X does not have valid feature names, but RobustScaler was fitted with feature names\n",
            "X does not have valid feature names, but RobustScaler was fitted with feature names\n",
            "X does not have valid feature names, but RobustScaler was fitted with feature names\n",
            "X does not have valid feature names, but RobustScaler was fitted with feature names\n",
            "X does not have valid feature names, but RobustScaler was fitted with feature names\n",
            "X does not have valid feature names, but RobustScaler was fitted with feature names\n",
            "X does not have valid feature names, but RobustScaler was fitted with feature names\n",
            "X does not have valid feature names, but RobustScaler was fitted with feature names\n",
            "X does not have valid feature names, but RobustScaler was fitted with feature names\n",
            "X does not have valid feature names, but RobustScaler was fitted with feature names\n",
            "X does not have valid feature names, but RobustScaler was fitted with feature names\n",
            "X does not have valid feature names, but RobustScaler was fitted with feature names\n",
            "X does not have valid feature names, but RobustScaler was fitted with feature names\n",
            "X does not have valid feature names, but RobustScaler was fitted with feature names\n",
            "X does not have valid feature names, but RobustScaler was fitted with feature names\n",
            "X does not have valid feature names, but RobustScaler was fitted with feature names\n",
            "X does not have valid feature names, but RobustScaler was fitted with feature names\n",
            "X does not have valid feature names, but RobustScaler was fitted with feature names\n",
            "X does not have valid feature names, but RobustScaler was fitted with feature names\n",
            "X does not have valid feature names, but RobustScaler was fitted with feature names\n",
            "X does not have valid feature names, but RobustScaler was fitted with feature names\n",
            "X does not have valid feature names, but RobustScaler was fitted with feature names\n",
            "X does not have valid feature names, but RobustScaler was fitted with feature names\n",
            "X does not have valid feature names, but RobustScaler was fitted with feature names\n",
            "X does not have valid feature names, but RobustScaler was fitted with feature names\n"
          ]
        },
        {
          "output_type": "display_data",
          "data": {
            "text/plain": [
              "<Figure size 576x367.2 with 1 Axes>"
            ],
            "image/png": "[encoded data removed]"
          },
          "metadata": {
            "needs_background": "light"
          }
        }
      ]
    },
    {
      "cell_type": "markdown",
      "metadata": {
        "id": "0ec-ZXUntmWL"
      },
      "source": [
        "# Task 10 - Taking it to the Next Level! 📶\n",
        "\n",
        "Let's take our models and make a model comparison demo like we did last week, but this time you're taking the lead!  \n",
        "    \n",
        "1. Save your training dataset as a CSV file so that it can be used in the Streamlit app.\n",
        "1. Build a results DataFrame and save it as a CSV so that it can be used in the Streamlit app.\n",
        "1. In Tab 1 - Raw Data:\n",
        "* Display your training dataset in a Streamlit DataFrame (`st.DataFrame`).\n",
        "* Build 1-2 interactive Plotly visualizations that explore the dataset (correlations, scatterplot, etc.)\n",
        "2. In Tab 2 - Model Results:\n",
        "* Display your performance metrics appropriately using 2-3 metrics for model comparison.\n",
        "3. In Tab 3 - Model Explainability:\n",
        "* Make local and global explainability plots to compare two models at a time side-by-side.  [Here](https://www.kaggle.com/code/elsa155026/uciheart-kernel-shap-and-interactive-visualization/notebook) is a good example if how to create some different explainability plots using Plotly."
      ]
    },
    {
      "cell_type": "code",
      "source": [
        "# 1. Save your training dataset as a CSV file so that it can be used in the Streamlit app.\n",
        "train_dataset.to_csv('training_dataset.csv')"
      ],
      "metadata": {
        "id": "HPxsI4uYTt_6"
      },
      "execution_count": null,
      "outputs": []
    },
    {
      "cell_type": "markdown",
      "source": [
        "Question: What is Normalization and how does Normalization make training a model more stable?\n",
        "\n",
        "Normalization is a data preprocessing technique used in machine learning to rescale the features of a dataset to a common range of values so that each feature contributes approximately proportionately to the final solution.\n",
        "For example, standard normalization involves transforming each feature to have a mean of zero and a standard deviation of one, which helps prevent large values in any particular feature from dominating the objective function during optimization.\n",
        "\n"
      ],
      "metadata": {
        "id": "ZERVJcr_NQla"
      }
    },
    {
      "cell_type": "markdown",
      "source": [
        "Question: What are loss and optimizer functions and how do they work?\n",
        "\n",
        "A loss function, or a cost function, measures the difference between the predicted values and the actual values. The goal of the training process is to minimize the value of the loss function. \n",
        "\n",
        "An optimizer function is used to update the model parameters during training. It iteratively adjusts the model parameters in order to reduce the value of the loss function. There are many types of optimizer functions, such as Stochastic Gradient Descent (SGD), Adam, etc.\n",
        "\n",
        "The loss function provides a measure of how well the model is performing, while the optimizer function updates the model parameters based on the gradients of the loss function. "
      ],
      "metadata": {
        "id": "aTHjd68fN3gR"
      }
    },
    {
      "cell_type": "markdown",
      "source": [
        "Question: What is Gradient Descent and how does it work?\n",
        "\n",
        "Gradient Descent is a optimization algorithm commonly used in machine learning to minimize the value of a loss function. It is used to update the parameters of a model in order to reduce the difference between the predicted values and the actual values.\n",
        "The gradient of the loss function provides the direction of the steepest decrease in the value of the loss function, and the magnitude of the gradient determines the step size of the update."
      ],
      "metadata": {
        "id": "wBYUVGfZOsRN"
      }
    },
    {
      "cell_type": "markdown",
      "source": [
        "Question: What is an activation function?\n",
        "\n",
        "An activation function is a  function applied to the output of each node in a neural network. Activation functions are designed to introduce non-linearity into the output of a node because linear combinations of inputs are insufficient for representing complex relationships between inputs and outputs.\n",
        "\n",
        "The relu activation function outputs the input directly if it is positive, and outputs zero if it is negative. \n",
        "The outputs of the softmax function can be are class probabilities, and the class with the highest probability can be selected as the predicted class.The output range is between 0 and 1.\n",
        "The tanh function is an element-wise non-linear transformation that squashes the input and outputs a range between -1 and 1.\n",
        "The sigmoid function is an element-wise non-linear transformation that squashes its input into the range 0 to 1."
      ],
      "metadata": {
        "id": "Z0yK469lP9Ji"
      }
    },
    {
      "cell_type": "markdown",
      "source": [
        "Question: What is the TPOT algorithm and how does it work?\n",
        "What does TPOT stand for?\n",
        "\n",
        "TPOT stands for Tree-based Pipeline Optimization Tool. It is an automated machine learning library for Python that uses genetic programming to optimize machine learning pipelines. TPOT uses a combination of techniques such as regression, classification, clustering, and dimensionality reduction to generate and evaluate machine learning models, with the aim of finding the most performant pipeline."
      ],
      "metadata": {
        "id": "b_kGShFcRvi0"
      }
    },
    {
      "cell_type": "markdown",
      "metadata": {
        "id": "tDZ_9p6L_U9L"
      },
      "source": [
        "# Additional Resources"
      ]
    },
    {
      "cell_type": "markdown",
      "metadata": {
        "id": "6dtjRavkXunK"
      },
      "source": [
        "- [Tensorflow playground](https://playground.tensorflow.org/) for an interactive experience to understand how nueral networkds work.\n",
        "\n",
        "- [An Introduction to Deep Learning for Tabular Data](https://www.fast.ai/2018/04/29/categorical-embeddings/) covers embeddings for categorical variables. \n",
        "\n",
        "- [Imbalanced classification: credit card fraud detection](https://keras.io/examples/structured_data/imbalanced_classification/) demonstrates using `class_weight` to handle imbalanced classification problems. "
      ]
    },
    {
      "cell_type": "markdown",
      "metadata": {
        "heading_collapsed": true,
        "id": "RTRCN3xsXunK"
      },
      "source": [
        "# Acknowledgement and Copyright"
      ]
    },
    {
      "cell_type": "markdown",
      "metadata": {
        "hidden": true,
        "id": "riVFgcSTmY0R"
      },
      "source": [
        "##### Acknowledgement"
      ]
    },
    {
      "cell_type": "markdown",
      "metadata": {
        "hidden": true,
        "id": "higVWuZMmc7w"
      },
      "source": [
        "This notebook is adapted from [tensorflow/keras tuorial - regression](https://www.tensorflow.org/tutorials/keras/regression)"
      ]
    },
    {
      "cell_type": "markdown",
      "metadata": {
        "heading_collapsed": true,
        "hidden": true,
        "id": "MJuKft5yXunK"
      },
      "source": [
        "##### Copyright 2018 The TensorFlow Authors."
      ]
    },
    {
      "cell_type": "markdown",
      "metadata": {
        "cellView": "form",
        "hidden": true,
        "id": "AwOEIRJC6Une"
      },
      "source": [
        "@title Licensed under the Apache License, Version 2.0 (the \"License\");\n",
        "you may not use this file except in compliance with the License.\n",
        "You may obtain a copy of the License at\n",
        "\n",
        "https://www.apache.org/licenses/LICENSE-2.0\n",
        "\n",
        "Unless required by applicable law or agreed to in writing, software\n",
        "distributed under the License is distributed on an \"AS IS\" BASIS,\n",
        "WITHOUT WARRANTIES OR CONDITIONS OF ANY KIND, either express or implied.\n",
        "See the License for the specific language governing permissions and\n",
        "limitations under the License."
      ]
    },
    {
      "cell_type": "markdown",
      "metadata": {
        "cellView": "form",
        "hidden": true,
        "id": "KyPEtTqk6VdG"
      },
      "source": [
        "@title MIT License\n",
        "\n",
        "Copyright (c) 2017 François Chollet\n",
        "\n",
        "Permission is hereby granted, free of charge, to any person obtaining a\n",
        "copy of this software and associated documentation files (the \"Software\"),\n",
        "to deal in the Software without restriction, including without limitation\n",
        "the rights to use, copy, modify, merge, publish, distribute, sublicense,\n",
        "and/or sell copies of the Software, and to permit persons to whom the\n",
        "Software is furnished to do so, subject to the following conditions:\n",
        "\n",
        "The above copyright notice and this permission notice shall be included in\n",
        "all copies or substantial portions of the Software.\n",
        "\n",
        "THE SOFTWARE IS PROVIDED \"AS IS\", WITHOUT WARRANTY OF ANY KIND, EXPRESS OR\n",
        "IMPLIED, INCLUDING BUT NOT LIMITED TO THE WARRANTIES OF MERCHANTABILITY,\n",
        "FITNESS FOR A PARTICULAR PURPOSE AND NONINFRINGEMENT. IN NO EVENT SHALL\n",
        "THE AUTHORS OR COPYRIGHT HOLDERS BE LIABLE FOR ANY CLAIM, DAMAGES OR OTHER\n",
        "LIABILITY, WHETHER IN AN ACTION OF CONTRACT, TORT OR OTHERWISE, ARISING\n",
        "FROM, OUT OF OR IN CONNECTION WITH THE SOFTWARE OR THE USE OR OTHER\n",
        "DEALINGS IN THE SOFTWARE."
      ]
    }
  ],
  "metadata": {
    "colab": {
      "provenance": [],
      "toc_visible": true
    },
    "kernelspec": {
      "display_name": "Python 3 (ipykernel)",
      "language": "python",
      "name": "python3"
    },
    "language_info": {
      "codemirror_mode": {
        "name": "ipython",
        "version": 3
      },
      "file_extension": ".py",
      "mimetype": "text/x-python",
      "name": "python",
      "nbconvert_exporter": "python",
      "pygments_lexer": "ipython3",
      "version": "3.9.13"
    },
    "toc": {
      "base_numbering": 1,
      "nav_menu": {},
      "number_sections": true,
      "sideBar": true,
      "skip_h1_title": false,
      "title_cell": "Table of Contents",
      "title_sidebar": "Contents",
      "toc_cell": false,
      "toc_position": {
        "height": "calc(100% - 180px)",
        "left": "10px",
        "top": "150px",
        "width": "244.390625px"
      },
      "toc_section_display": true,
      "toc_window_display": false
    },
    "vscode": {
      "interpreter": {
        "hash": "b0fa6594d8f4cbf19f97940f81e996739fb7646882a419484c72d19e05852a7e"
      }
    },
    "widgets": {
      "application/vnd.jupyter.widget-state+json": {
        "4db6694efed546c8b9acb8ff73cb52e8": {
          "model_module": "@jupyter-widgets/controls",
          "model_name": "HBoxModel",
          "model_module_version": "1.5.0",
          "state": {
            "_dom_classes": [],
            "_model_module": "@jupyter-widgets/controls",
            "_model_module_version": "1.5.0",
            "_model_name": "HBoxModel",
            "_view_count": null,
            "_view_module": "@jupyter-widgets/controls",
            "_view_module_version": "1.5.0",
            "_view_name": "HBoxView",
            "box_style": "",
            "children": [
              "IPY_MODEL_1c4fb8c70b884efaa7e078a7785fcf85",
              "IPY_MODEL_df487b29c50648c2881978436e69fc45",
              "IPY_MODEL_578f401aa7904b2dbad9a7e7e8e93637"
            ],
            "layout": "IPY_MODEL_8be316a285a44e1381a530747491af39"
          }
        },
        "1c4fb8c70b884efaa7e078a7785fcf85": {
          "model_module": "@jupyter-widgets/controls",
          "model_name": "HTMLModel",
          "model_module_version": "1.5.0",
          "state": {
            "_dom_classes": [],
            "_model_module": "@jupyter-widgets/controls",
            "_model_module_version": "1.5.0",
            "_model_name": "HTMLModel",
            "_view_count": null,
            "_view_module": "@jupyter-widgets/controls",
            "_view_module_version": "1.5.0",
            "_view_name": "HTMLView",
            "description": "",
            "description_tooltip": null,
            "layout": "IPY_MODEL_eb1ab966ae4c424ab3ca7897b0573123",
            "placeholder": "​",
            "style": "IPY_MODEL_a6f7b6c4d751478cb52c47c9c1d6d244",
            "value": "Optimization Progress: 100%"
          }
        },
        "df487b29c50648c2881978436e69fc45": {
          "model_module": "@jupyter-widgets/controls",
          "model_name": "FloatProgressModel",
          "model_module_version": "1.5.0",
          "state": {
            "_dom_classes": [],
            "_model_module": "@jupyter-widgets/controls",
            "_model_module_version": "1.5.0",
            "_model_name": "FloatProgressModel",
            "_view_count": null,
            "_view_module": "@jupyter-widgets/controls",
            "_view_module_version": "1.5.0",
            "_view_name": "ProgressView",
            "bar_style": "",
            "description": "",
            "description_tooltip": null,
            "layout": "IPY_MODEL_54169abed65649dc8ff841d4719dc458",
            "max": 440,
            "min": 0,
            "orientation": "horizontal",
            "style": "IPY_MODEL_efa0c526363148a3aad180b6cd5c7ba2",
            "value": 440
          }
        },
        "578f401aa7904b2dbad9a7e7e8e93637": {
          "model_module": "@jupyter-widgets/controls",
          "model_name": "HTMLModel",
          "model_module_version": "1.5.0",
          "state": {
            "_dom_classes": [],
            "_model_module": "@jupyter-widgets/controls",
            "_model_module_version": "1.5.0",
            "_model_name": "HTMLModel",
            "_view_count": null,
            "_view_module": "@jupyter-widgets/controls",
            "_view_module_version": "1.5.0",
            "_view_name": "HTMLView",
            "description": "",
            "description_tooltip": null,
            "layout": "IPY_MODEL_db57a1fb61e64b9c8e8b58739893efe5",
            "placeholder": "​",
            "style": "IPY_MODEL_38395a4c91394a4ca119f3f0301e4900",
            "value": " 440/440 [07:01&lt;00:00,  1.38pipeline/s]"
          }
        },
        "8be316a285a44e1381a530747491af39": {
          "model_module": "@jupyter-widgets/base",
          "model_name": "LayoutModel",
          "model_module_version": "1.2.0",
          "state": {
            "_model_module": "@jupyter-widgets/base",
            "_model_module_version": "1.2.0",
            "_model_name": "LayoutModel",
            "_view_count": null,
            "_view_module": "@jupyter-widgets/base",
            "_view_module_version": "1.2.0",
            "_view_name": "LayoutView",
            "align_content": null,
            "align_items": null,
            "align_self": null,
            "border": null,
            "bottom": null,
            "display": null,
            "flex": null,
            "flex_flow": null,
            "grid_area": null,
            "grid_auto_columns": null,
            "grid_auto_flow": null,
            "grid_auto_rows": null,
            "grid_column": null,
            "grid_gap": null,
            "grid_row": null,
            "grid_template_areas": null,
            "grid_template_columns": null,
            "grid_template_rows": null,
            "height": null,
            "justify_content": null,
            "justify_items": null,
            "left": null,
            "margin": null,
            "max_height": null,
            "max_width": null,
            "min_height": null,
            "min_width": null,
            "object_fit": null,
            "object_position": null,
            "order": null,
            "overflow": null,
            "overflow_x": null,
            "overflow_y": null,
            "padding": null,
            "right": null,
            "top": null,
            "visibility": "hidden",
            "width": null
          }
        },
        "eb1ab966ae4c424ab3ca7897b0573123": {
          "model_module": "@jupyter-widgets/base",
          "model_name": "LayoutModel",
          "model_module_version": "1.2.0",
          "state": {
            "_model_module": "@jupyter-widgets/base",
            "_model_module_version": "1.2.0",
            "_model_name": "LayoutModel",
            "_view_count": null,
            "_view_module": "@jupyter-widgets/base",
            "_view_module_version": "1.2.0",
            "_view_name": "LayoutView",
            "align_content": null,
            "align_items": null,
            "align_self": null,
            "border": null,
            "bottom": null,
            "display": null,
            "flex": null,
            "flex_flow": null,
            "grid_area": null,
            "grid_auto_columns": null,
            "grid_auto_flow": null,
            "grid_auto_rows": null,
            "grid_column": null,
            "grid_gap": null,
            "grid_row": null,
            "grid_template_areas": null,
            "grid_template_columns": null,
            "grid_template_rows": null,
            "height": null,
            "justify_content": null,
            "justify_items": null,
            "left": null,
            "margin": null,
            "max_height": null,
            "max_width": null,
            "min_height": null,
            "min_width": null,
            "object_fit": null,
            "object_position": null,
            "order": null,
            "overflow": null,
            "overflow_x": null,
            "overflow_y": null,
            "padding": null,
            "right": null,
            "top": null,
            "visibility": null,
            "width": null
          }
        },
        "a6f7b6c4d751478cb52c47c9c1d6d244": {
          "model_module": "@jupyter-widgets/controls",
          "model_name": "DescriptionStyleModel",
          "model_module_version": "1.5.0",
          "state": {
            "_model_module": "@jupyter-widgets/controls",
            "_model_module_version": "1.5.0",
            "_model_name": "DescriptionStyleModel",
            "_view_count": null,
            "_view_module": "@jupyter-widgets/base",
            "_view_module_version": "1.2.0",
            "_view_name": "StyleView",
            "description_width": ""
          }
        },
        "54169abed65649dc8ff841d4719dc458": {
          "model_module": "@jupyter-widgets/base",
          "model_name": "LayoutModel",
          "model_module_version": "1.2.0",
          "state": {
            "_model_module": "@jupyter-widgets/base",
            "_model_module_version": "1.2.0",
            "_model_name": "LayoutModel",
            "_view_count": null,
            "_view_module": "@jupyter-widgets/base",
            "_view_module_version": "1.2.0",
            "_view_name": "LayoutView",
            "align_content": null,
            "align_items": null,
            "align_self": null,
            "border": null,
            "bottom": null,
            "display": null,
            "flex": null,
            "flex_flow": null,
            "grid_area": null,
            "grid_auto_columns": null,
            "grid_auto_flow": null,
            "grid_auto_rows": null,
            "grid_column": null,
            "grid_gap": null,
            "grid_row": null,
            "grid_template_areas": null,
            "grid_template_columns": null,
            "grid_template_rows": null,
            "height": null,
            "justify_content": null,
            "justify_items": null,
            "left": null,
            "margin": null,
            "max_height": null,
            "max_width": null,
            "min_height": null,
            "min_width": null,
            "object_fit": null,
            "object_position": null,
            "order": null,
            "overflow": null,
            "overflow_x": null,
            "overflow_y": null,
            "padding": null,
            "right": null,
            "top": null,
            "visibility": null,
            "width": null
          }
        },
        "efa0c526363148a3aad180b6cd5c7ba2": {
          "model_module": "@jupyter-widgets/controls",
          "model_name": "ProgressStyleModel",
          "model_module_version": "1.5.0",
          "state": {
            "_model_module": "@jupyter-widgets/controls",
            "_model_module_version": "1.5.0",
            "_model_name": "ProgressStyleModel",
            "_view_count": null,
            "_view_module": "@jupyter-widgets/base",
            "_view_module_version": "1.2.0",
            "_view_name": "StyleView",
            "bar_color": null,
            "description_width": ""
          }
        },
        "db57a1fb61e64b9c8e8b58739893efe5": {
          "model_module": "@jupyter-widgets/base",
          "model_name": "LayoutModel",
          "model_module_version": "1.2.0",
          "state": {
            "_model_module": "@jupyter-widgets/base",
            "_model_module_version": "1.2.0",
            "_model_name": "LayoutModel",
            "_view_count": null,
            "_view_module": "@jupyter-widgets/base",
            "_view_module_version": "1.2.0",
            "_view_name": "LayoutView",
            "align_content": null,
            "align_items": null,
            "align_self": null,
            "border": null,
            "bottom": null,
            "display": null,
            "flex": null,
            "flex_flow": null,
            "grid_area": null,
            "grid_auto_columns": null,
            "grid_auto_flow": null,
            "grid_auto_rows": null,
            "grid_column": null,
            "grid_gap": null,
            "grid_row": null,
            "grid_template_areas": null,
            "grid_template_columns": null,
            "grid_template_rows": null,
            "height": null,
            "justify_content": null,
            "justify_items": null,
            "left": null,
            "margin": null,
            "max_height": null,
            "max_width": null,
            "min_height": null,
            "min_width": null,
            "object_fit": null,
            "object_position": null,
            "order": null,
            "overflow": null,
            "overflow_x": null,
            "overflow_y": null,
            "padding": null,
            "right": null,
            "top": null,
            "visibility": null,
            "width": null
          }
        },
        "38395a4c91394a4ca119f3f0301e4900": {
          "model_module": "@jupyter-widgets/controls",
          "model_name": "DescriptionStyleModel",
          "model_module_version": "1.5.0",
          "state": {
            "_model_module": "@jupyter-widgets/controls",
            "_model_module_version": "1.5.0",
            "_model_name": "DescriptionStyleModel",
            "_view_count": null,
            "_view_module": "@jupyter-widgets/base",
            "_view_module_version": "1.2.0",
            "_view_name": "StyleView",
            "description_width": ""
          }
        },
        "5aba372ed41045ab81703c7ba8e212c2": {
          "model_module": "@jupyter-widgets/controls",
          "model_name": "HBoxModel",
          "model_module_version": "1.5.0",
          "state": {
            "_dom_classes": [],
            "_model_module": "@jupyter-widgets/controls",
            "_model_module_version": "1.5.0",
            "_model_name": "HBoxModel",
            "_view_count": null,
            "_view_module": "@jupyter-widgets/controls",
            "_view_module_version": "1.5.0",
            "_view_name": "HBoxView",
            "box_style": "",
            "children": [
              "IPY_MODEL_c97fe821081d42a5b7cd579b7fa224f1",
              "IPY_MODEL_f53316b3946e474a8924ee044b00e52c",
              "IPY_MODEL_06f30d1495cc4b959830b3cdda7ed6f5"
            ],
            "layout": "IPY_MODEL_f4f888c6d3cf452db9ee9f637f4b9e3b"
          }
        },
        "c97fe821081d42a5b7cd579b7fa224f1": {
          "model_module": "@jupyter-widgets/controls",
          "model_name": "HTMLModel",
          "model_module_version": "1.5.0",
          "state": {
            "_dom_classes": [],
            "_model_module": "@jupyter-widgets/controls",
            "_model_module_version": "1.5.0",
            "_model_name": "HTMLModel",
            "_view_count": null,
            "_view_module": "@jupyter-widgets/controls",
            "_view_module_version": "1.5.0",
            "_view_name": "HTMLView",
            "description": "",
            "description_tooltip": null,
            "layout": "IPY_MODEL_612e73372c774aaf8b15aecaaf2c4320",
            "placeholder": "​",
            "style": "IPY_MODEL_783201be9043422caec715c6e542a3c0",
            "value": "100%"
          }
        },
        "f53316b3946e474a8924ee044b00e52c": {
          "model_module": "@jupyter-widgets/controls",
          "model_name": "FloatProgressModel",
          "model_module_version": "1.5.0",
          "state": {
            "_dom_classes": [],
            "_model_module": "@jupyter-widgets/controls",
            "_model_module_version": "1.5.0",
            "_model_name": "FloatProgressModel",
            "_view_count": null,
            "_view_module": "@jupyter-widgets/controls",
            "_view_module_version": "1.5.0",
            "_view_name": "ProgressView",
            "bar_style": "success",
            "description": "",
            "description_tooltip": null,
            "layout": "IPY_MODEL_8530cf055b2f4fcea570ce84a7fb58c5",
            "max": 78,
            "min": 0,
            "orientation": "horizontal",
            "style": "IPY_MODEL_67845831fd0343b3959cae72c552f5ef",
            "value": 78
          }
        },
        "06f30d1495cc4b959830b3cdda7ed6f5": {
          "model_module": "@jupyter-widgets/controls",
          "model_name": "HTMLModel",
          "model_module_version": "1.5.0",
          "state": {
            "_dom_classes": [],
            "_model_module": "@jupyter-widgets/controls",
            "_model_module_version": "1.5.0",
            "_model_name": "HTMLModel",
            "_view_count": null,
            "_view_module": "@jupyter-widgets/controls",
            "_view_module_version": "1.5.0",
            "_view_name": "HTMLView",
            "description": "",
            "description_tooltip": null,
            "layout": "IPY_MODEL_2de443a3aa52404abc0881fc310d9db4",
            "placeholder": "​",
            "style": "IPY_MODEL_e368c830ad084fa9afc0b866e3caf246",
            "value": " 78/78 [04:40&lt;00:00,  3.33s/it]"
          }
        },
        "f4f888c6d3cf452db9ee9f637f4b9e3b": {
          "model_module": "@jupyter-widgets/base",
          "model_name": "LayoutModel",
          "model_module_version": "1.2.0",
          "state": {
            "_model_module": "@jupyter-widgets/base",
            "_model_module_version": "1.2.0",
            "_model_name": "LayoutModel",
            "_view_count": null,
            "_view_module": "@jupyter-widgets/base",
            "_view_module_version": "1.2.0",
            "_view_name": "LayoutView",
            "align_content": null,
            "align_items": null,
            "align_self": null,
            "border": null,
            "bottom": null,
            "display": null,
            "flex": null,
            "flex_flow": null,
            "grid_area": null,
            "grid_auto_columns": null,
            "grid_auto_flow": null,
            "grid_auto_rows": null,
            "grid_column": null,
            "grid_gap": null,
            "grid_row": null,
            "grid_template_areas": null,
            "grid_template_columns": null,
            "grid_template_rows": null,
            "height": null,
            "justify_content": null,
            "justify_items": null,
            "left": null,
            "margin": null,
            "max_height": null,
            "max_width": null,
            "min_height": null,
            "min_width": null,
            "object_fit": null,
            "object_position": null,
            "order": null,
            "overflow": null,
            "overflow_x": null,
            "overflow_y": null,
            "padding": null,
            "right": null,
            "top": null,
            "visibility": null,
            "width": null
          }
        },
        "612e73372c774aaf8b15aecaaf2c4320": {
          "model_module": "@jupyter-widgets/base",
          "model_name": "LayoutModel",
          "model_module_version": "1.2.0",
          "state": {
            "_model_module": "@jupyter-widgets/base",
            "_model_module_version": "1.2.0",
            "_model_name": "LayoutModel",
            "_view_count": null,
            "_view_module": "@jupyter-widgets/base",
            "_view_module_version": "1.2.0",
            "_view_name": "LayoutView",
            "align_content": null,
            "align_items": null,
            "align_self": null,
            "border": null,
            "bottom": null,
            "display": null,
            "flex": null,
            "flex_flow": null,
            "grid_area": null,
            "grid_auto_columns": null,
            "grid_auto_flow": null,
            "grid_auto_rows": null,
            "grid_column": null,
            "grid_gap": null,
            "grid_row": null,
            "grid_template_areas": null,
            "grid_template_columns": null,
            "grid_template_rows": null,
            "height": null,
            "justify_content": null,
            "justify_items": null,
            "left": null,
            "margin": null,
            "max_height": null,
            "max_width": null,
            "min_height": null,
            "min_width": null,
            "object_fit": null,
            "object_position": null,
            "order": null,
            "overflow": null,
            "overflow_x": null,
            "overflow_y": null,
            "padding": null,
            "right": null,
            "top": null,
            "visibility": null,
            "width": null
          }
        },
        "783201be9043422caec715c6e542a3c0": {
          "model_module": "@jupyter-widgets/controls",
          "model_name": "DescriptionStyleModel",
          "model_module_version": "1.5.0",
          "state": {
            "_model_module": "@jupyter-widgets/controls",
            "_model_module_version": "1.5.0",
            "_model_name": "DescriptionStyleModel",
            "_view_count": null,
            "_view_module": "@jupyter-widgets/base",
            "_view_module_version": "1.2.0",
            "_view_name": "StyleView",
            "description_width": ""
          }
        },
        "8530cf055b2f4fcea570ce84a7fb58c5": {
          "model_module": "@jupyter-widgets/base",
          "model_name": "LayoutModel",
          "model_module_version": "1.2.0",
          "state": {
            "_model_module": "@jupyter-widgets/base",
            "_model_module_version": "1.2.0",
            "_model_name": "LayoutModel",
            "_view_count": null,
            "_view_module": "@jupyter-widgets/base",
            "_view_module_version": "1.2.0",
            "_view_name": "LayoutView",
            "align_content": null,
            "align_items": null,
            "align_self": null,
            "border": null,
            "bottom": null,
            "display": null,
            "flex": null,
            "flex_flow": null,
            "grid_area": null,
            "grid_auto_columns": null,
            "grid_auto_flow": null,
            "grid_auto_rows": null,
            "grid_column": null,
            "grid_gap": null,
            "grid_row": null,
            "grid_template_areas": null,
            "grid_template_columns": null,
            "grid_template_rows": null,
            "height": null,
            "justify_content": null,
            "justify_items": null,
            "left": null,
            "margin": null,
            "max_height": null,
            "max_width": null,
            "min_height": null,
            "min_width": null,
            "object_fit": null,
            "object_position": null,
            "order": null,
            "overflow": null,
            "overflow_x": null,
            "overflow_y": null,
            "padding": null,
            "right": null,
            "top": null,
            "visibility": null,
            "width": null
          }
        },
        "67845831fd0343b3959cae72c552f5ef": {
          "model_module": "@jupyter-widgets/controls",
          "model_name": "ProgressStyleModel",
          "model_module_version": "1.5.0",
          "state": {
            "_model_module": "@jupyter-widgets/controls",
            "_model_module_version": "1.5.0",
            "_model_name": "ProgressStyleModel",
            "_view_count": null,
            "_view_module": "@jupyter-widgets/base",
            "_view_module_version": "1.2.0",
            "_view_name": "StyleView",
            "bar_color": null,
            "description_width": ""
          }
        },
        "2de443a3aa52404abc0881fc310d9db4": {
          "model_module": "@jupyter-widgets/base",
          "model_name": "LayoutModel",
          "model_module_version": "1.2.0",
          "state": {
            "_model_module": "@jupyter-widgets/base",
            "_model_module_version": "1.2.0",
            "_model_name": "LayoutModel",
            "_view_count": null,
            "_view_module": "@jupyter-widgets/base",
            "_view_module_version": "1.2.0",
            "_view_name": "LayoutView",
            "align_content": null,
            "align_items": null,
            "align_self": null,
            "border": null,
            "bottom": null,
            "display": null,
            "flex": null,
            "flex_flow": null,
            "grid_area": null,
            "grid_auto_columns": null,
            "grid_auto_flow": null,
            "grid_auto_rows": null,
            "grid_column": null,
            "grid_gap": null,
            "grid_row": null,
            "grid_template_areas": null,
            "grid_template_columns": null,
            "grid_template_rows": null,
            "height": null,
            "justify_content": null,
            "justify_items": null,
            "left": null,
            "margin": null,
            "max_height": null,
            "max_width": null,
            "min_height": null,
            "min_width": null,
            "object_fit": null,
            "object_position": null,
            "order": null,
            "overflow": null,
            "overflow_x": null,
            "overflow_y": null,
            "padding": null,
            "right": null,
            "top": null,
            "visibility": null,
            "width": null
          }
        },
        "e368c830ad084fa9afc0b866e3caf246": {
          "model_module": "@jupyter-widgets/controls",
          "model_name": "DescriptionStyleModel",
          "model_module_version": "1.5.0",
          "state": {
            "_model_module": "@jupyter-widgets/controls",
            "_model_module_version": "1.5.0",
            "_model_name": "DescriptionStyleModel",
            "_view_count": null,
            "_view_module": "@jupyter-widgets/base",
            "_view_module_version": "1.2.0",
            "_view_name": "StyleView",
            "description_width": ""
          }
        },
        "05ffbe67f30f4397bd2074438998ffa6": {
          "model_module": "@jupyter-widgets/controls",
          "model_name": "HBoxModel",
          "model_module_version": "1.5.0",
          "state": {
            "_dom_classes": [],
            "_model_module": "@jupyter-widgets/controls",
            "_model_module_version": "1.5.0",
            "_model_name": "HBoxModel",
            "_view_count": null,
            "_view_module": "@jupyter-widgets/controls",
            "_view_module_version": "1.5.0",
            "_view_name": "HBoxView",
            "box_style": "",
            "children": [
              "IPY_MODEL_51608f17ffae4bdb82f9a57097e35637",
              "IPY_MODEL_38cc1c59c6da482c97d1f6a1b995ca7f",
              "IPY_MODEL_e79eb98a83af4b29b5c682c5c74bdb25"
            ],
            "layout": "IPY_MODEL_eb52c2849fe841d499bf7653d50b0805"
          }
        },
        "51608f17ffae4bdb82f9a57097e35637": {
          "model_module": "@jupyter-widgets/controls",
          "model_name": "HTMLModel",
          "model_module_version": "1.5.0",
          "state": {
            "_dom_classes": [],
            "_model_module": "@jupyter-widgets/controls",
            "_model_module_version": "1.5.0",
            "_model_name": "HTMLModel",
            "_view_count": null,
            "_view_module": "@jupyter-widgets/controls",
            "_view_module_version": "1.5.0",
            "_view_name": "HTMLView",
            "description": "",
            "description_tooltip": null,
            "layout": "IPY_MODEL_14cd209223ce434bbd81421080190a93",
            "placeholder": "​",
            "style": "IPY_MODEL_48a9b5ab23aa4fa084b5d418c7ef3729",
            "value": "100%"
          }
        },
        "38cc1c59c6da482c97d1f6a1b995ca7f": {
          "model_module": "@jupyter-widgets/controls",
          "model_name": "FloatProgressModel",
          "model_module_version": "1.5.0",
          "state": {
            "_dom_classes": [],
            "_model_module": "@jupyter-widgets/controls",
            "_model_module_version": "1.5.0",
            "_model_name": "FloatProgressModel",
            "_view_count": null,
            "_view_module": "@jupyter-widgets/controls",
            "_view_module_version": "1.5.0",
            "_view_name": "ProgressView",
            "bar_style": "success",
            "description": "",
            "description_tooltip": null,
            "layout": "IPY_MODEL_1f39bca0149a4824b9ff87af024fcbf5",
            "max": 98,
            "min": 0,
            "orientation": "horizontal",
            "style": "IPY_MODEL_83f323ff0463434b9bcd3d607334437d",
            "value": 98
          }
        },
        "e79eb98a83af4b29b5c682c5c74bdb25": {
          "model_module": "@jupyter-widgets/controls",
          "model_name": "HTMLModel",
          "model_module_version": "1.5.0",
          "state": {
            "_dom_classes": [],
            "_model_module": "@jupyter-widgets/controls",
            "_model_module_version": "1.5.0",
            "_model_name": "HTMLModel",
            "_view_count": null,
            "_view_module": "@jupyter-widgets/controls",
            "_view_module_version": "1.5.0",
            "_view_name": "HTMLView",
            "description": "",
            "description_tooltip": null,
            "layout": "IPY_MODEL_d7bb9ebfe3ef4c6da1f80602909a885b",
            "placeholder": "​",
            "style": "IPY_MODEL_859b8b1215bc4805b02610a6028456c9",
            "value": " 98/98 [00:53&lt;00:00,  2.23it/s]"
          }
        },
        "eb52c2849fe841d499bf7653d50b0805": {
          "model_module": "@jupyter-widgets/base",
          "model_name": "LayoutModel",
          "model_module_version": "1.2.0",
          "state": {
            "_model_module": "@jupyter-widgets/base",
            "_model_module_version": "1.2.0",
            "_model_name": "LayoutModel",
            "_view_count": null,
            "_view_module": "@jupyter-widgets/base",
            "_view_module_version": "1.2.0",
            "_view_name": "LayoutView",
            "align_content": null,
            "align_items": null,
            "align_self": null,
            "border": null,
            "bottom": null,
            "display": null,
            "flex": null,
            "flex_flow": null,
            "grid_area": null,
            "grid_auto_columns": null,
            "grid_auto_flow": null,
            "grid_auto_rows": null,
            "grid_column": null,
            "grid_gap": null,
            "grid_row": null,
            "grid_template_areas": null,
            "grid_template_columns": null,
            "grid_template_rows": null,
            "height": null,
            "justify_content": null,
            "justify_items": null,
            "left": null,
            "margin": null,
            "max_height": null,
            "max_width": null,
            "min_height": null,
            "min_width": null,
            "object_fit": null,
            "object_position": null,
            "order": null,
            "overflow": null,
            "overflow_x": null,
            "overflow_y": null,
            "padding": null,
            "right": null,
            "top": null,
            "visibility": null,
            "width": null
          }
        },
        "14cd209223ce434bbd81421080190a93": {
          "model_module": "@jupyter-widgets/base",
          "model_name": "LayoutModel",
          "model_module_version": "1.2.0",
          "state": {
            "_model_module": "@jupyter-widgets/base",
            "_model_module_version": "1.2.0",
            "_model_name": "LayoutModel",
            "_view_count": null,
            "_view_module": "@jupyter-widgets/base",
            "_view_module_version": "1.2.0",
            "_view_name": "LayoutView",
            "align_content": null,
            "align_items": null,
            "align_self": null,
            "border": null,
            "bottom": null,
            "display": null,
            "flex": null,
            "flex_flow": null,
            "grid_area": null,
            "grid_auto_columns": null,
            "grid_auto_flow": null,
            "grid_auto_rows": null,
            "grid_column": null,
            "grid_gap": null,
            "grid_row": null,
            "grid_template_areas": null,
            "grid_template_columns": null,
            "grid_template_rows": null,
            "height": null,
            "justify_content": null,
            "justify_items": null,
            "left": null,
            "margin": null,
            "max_height": null,
            "max_width": null,
            "min_height": null,
            "min_width": null,
            "object_fit": null,
            "object_position": null,
            "order": null,
            "overflow": null,
            "overflow_x": null,
            "overflow_y": null,
            "padding": null,
            "right": null,
            "top": null,
            "visibility": null,
            "width": null
          }
        },
        "48a9b5ab23aa4fa084b5d418c7ef3729": {
          "model_module": "@jupyter-widgets/controls",
          "model_name": "DescriptionStyleModel",
          "model_module_version": "1.5.0",
          "state": {
            "_model_module": "@jupyter-widgets/controls",
            "_model_module_version": "1.5.0",
            "_model_name": "DescriptionStyleModel",
            "_view_count": null,
            "_view_module": "@jupyter-widgets/base",
            "_view_module_version": "1.2.0",
            "_view_name": "StyleView",
            "description_width": ""
          }
        },
        "1f39bca0149a4824b9ff87af024fcbf5": {
          "model_module": "@jupyter-widgets/base",
          "model_name": "LayoutModel",
          "model_module_version": "1.2.0",
          "state": {
            "_model_module": "@jupyter-widgets/base",
            "_model_module_version": "1.2.0",
            "_model_name": "LayoutModel",
            "_view_count": null,
            "_view_module": "@jupyter-widgets/base",
            "_view_module_version": "1.2.0",
            "_view_name": "LayoutView",
            "align_content": null,
            "align_items": null,
            "align_self": null,
            "border": null,
            "bottom": null,
            "display": null,
            "flex": null,
            "flex_flow": null,
            "grid_area": null,
            "grid_auto_columns": null,
            "grid_auto_flow": null,
            "grid_auto_rows": null,
            "grid_column": null,
            "grid_gap": null,
            "grid_row": null,
            "grid_template_areas": null,
            "grid_template_columns": null,
            "grid_template_rows": null,
            "height": null,
            "justify_content": null,
            "justify_items": null,
            "left": null,
            "margin": null,
            "max_height": null,
            "max_width": null,
            "min_height": null,
            "min_width": null,
            "object_fit": null,
            "object_position": null,
            "order": null,
            "overflow": null,
            "overflow_x": null,
            "overflow_y": null,
            "padding": null,
            "right": null,
            "top": null,
            "visibility": null,
            "width": null
          }
        },
        "83f323ff0463434b9bcd3d607334437d": {
          "model_module": "@jupyter-widgets/controls",
          "model_name": "ProgressStyleModel",
          "model_module_version": "1.5.0",
          "state": {
            "_model_module": "@jupyter-widgets/controls",
            "_model_module_version": "1.5.0",
            "_model_name": "ProgressStyleModel",
            "_view_count": null,
            "_view_module": "@jupyter-widgets/base",
            "_view_module_version": "1.2.0",
            "_view_name": "StyleView",
            "bar_color": null,
            "description_width": ""
          }
        },
        "d7bb9ebfe3ef4c6da1f80602909a885b": {
          "model_module": "@jupyter-widgets/base",
          "model_name": "LayoutModel",
          "model_module_version": "1.2.0",
          "state": {
            "_model_module": "@jupyter-widgets/base",
            "_model_module_version": "1.2.0",
            "_model_name": "LayoutModel",
            "_view_count": null,
            "_view_module": "@jupyter-widgets/base",
            "_view_module_version": "1.2.0",
            "_view_name": "LayoutView",
            "align_content": null,
            "align_items": null,
            "align_self": null,
            "border": null,
            "bottom": null,
            "display": null,
            "flex": null,
            "flex_flow": null,
            "grid_area": null,
            "grid_auto_columns": null,
            "grid_auto_flow": null,
            "grid_auto_rows": null,
            "grid_column": null,
            "grid_gap": null,
            "grid_row": null,
            "grid_template_areas": null,
            "grid_template_columns": null,
            "grid_template_rows": null,
            "height": null,
            "justify_content": null,
            "justify_items": null,
            "left": null,
            "margin": null,
            "max_height": null,
            "max_width": null,
            "min_height": null,
            "min_width": null,
            "object_fit": null,
            "object_position": null,
            "order": null,
            "overflow": null,
            "overflow_x": null,
            "overflow_y": null,
            "padding": null,
            "right": null,
            "top": null,
            "visibility": null,
            "width": null
          }
        },
        "859b8b1215bc4805b02610a6028456c9": {
          "model_module": "@jupyter-widgets/controls",
          "model_name": "DescriptionStyleModel",
          "model_module_version": "1.5.0",
          "state": {
            "_model_module": "@jupyter-widgets/controls",
            "_model_module_version": "1.5.0",
            "_model_name": "DescriptionStyleModel",
            "_view_count": null,
            "_view_module": "@jupyter-widgets/base",
            "_view_module_version": "1.2.0",
            "_view_name": "StyleView",
            "description_width": ""
          }
        }
      }
    }
  },
  "nbformat": 4,
  "nbformat_minor": 0
}